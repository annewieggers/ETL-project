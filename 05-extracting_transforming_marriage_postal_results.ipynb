{
 "cells": [
  {
   "cell_type": "code",
   "execution_count": 40,
   "metadata": {},
   "outputs": [],
   "source": [
    "import pandas as pd"
   ]
  },
  {
   "cell_type": "markdown",
   "metadata": {},
   "source": [
    "# Extracting marriage postal survey participant data"
   ]
  },
  {
   "cell_type": "code",
   "execution_count": 41,
   "metadata": {},
   "outputs": [
    {
     "data": {
      "text/html": [
       "<div>\n",
       "<style scoped>\n",
       "    .dataframe tbody tr th:only-of-type {\n",
       "        vertical-align: middle;\n",
       "    }\n",
       "\n",
       "    .dataframe tbody tr th {\n",
       "        vertical-align: top;\n",
       "    }\n",
       "\n",
       "    .dataframe thead th {\n",
       "        text-align: right;\n",
       "    }\n",
       "</style>\n",
       "<table border=\"1\" class=\"dataframe\">\n",
       "  <thead>\n",
       "    <tr style=\"text-align: right;\">\n",
       "      <th></th>\n",
       "      <th>electoral_division</th>\n",
       "      <th>state</th>\n",
       "      <th>yes</th>\n",
       "      <th>no</th>\n",
       "      <th>response_clear</th>\n",
       "      <th>response_unclear</th>\n",
       "      <th>nonresponding</th>\n",
       "    </tr>\n",
       "  </thead>\n",
       "  <tbody>\n",
       "    <tr>\n",
       "      <th>0</th>\n",
       "      <td>Banks</td>\n",
       "      <td>New South Wales</td>\n",
       "      <td>37736</td>\n",
       "      <td>46343</td>\n",
       "      <td>84079</td>\n",
       "      <td>247</td>\n",
       "      <td>20928</td>\n",
       "    </tr>\n",
       "    <tr>\n",
       "      <th>1</th>\n",
       "      <td>Barton</td>\n",
       "      <td>New South Wales</td>\n",
       "      <td>37153</td>\n",
       "      <td>47984</td>\n",
       "      <td>85137</td>\n",
       "      <td>226</td>\n",
       "      <td>24008</td>\n",
       "    </tr>\n",
       "    <tr>\n",
       "      <th>2</th>\n",
       "      <td>Bennelong</td>\n",
       "      <td>New South Wales</td>\n",
       "      <td>42943</td>\n",
       "      <td>43215</td>\n",
       "      <td>86158</td>\n",
       "      <td>244</td>\n",
       "      <td>19973</td>\n",
       "    </tr>\n",
       "    <tr>\n",
       "      <th>3</th>\n",
       "      <td>Berowra</td>\n",
       "      <td>New South Wales</td>\n",
       "      <td>48471</td>\n",
       "      <td>40369</td>\n",
       "      <td>88840</td>\n",
       "      <td>212</td>\n",
       "      <td>16038</td>\n",
       "    </tr>\n",
       "    <tr>\n",
       "      <th>4</th>\n",
       "      <td>Blaxland</td>\n",
       "      <td>New South Wales</td>\n",
       "      <td>20406</td>\n",
       "      <td>57926</td>\n",
       "      <td>78332</td>\n",
       "      <td>220</td>\n",
       "      <td>25883</td>\n",
       "    </tr>\n",
       "  </tbody>\n",
       "</table>\n",
       "</div>"
      ],
      "text/plain": [
       "  electoral_division            state    yes     no  response_clear  \\\n",
       "0              Banks  New South Wales  37736  46343           84079   \n",
       "1             Barton  New South Wales  37153  47984           85137   \n",
       "2          Bennelong  New South Wales  42943  43215           86158   \n",
       "3            Berowra  New South Wales  48471  40369           88840   \n",
       "4           Blaxland  New South Wales  20406  57926           78332   \n",
       "\n",
       "   response_unclear  nonresponding  \n",
       "0               247          20928  \n",
       "1               226          24008  \n",
       "2               244          19973  \n",
       "3               212          16038  \n",
       "4               220          25883  "
      ]
     },
     "execution_count": 41,
     "metadata": {},
     "output_type": "execute_result"
    }
   ],
   "source": [
    "df = pd.read_csv('Resources/electorate-results.csv')\n",
    "df.head()"
   ]
  },
  {
   "cell_type": "markdown",
   "metadata": {},
   "source": [
    "# Extracting electorate division data"
   ]
  },
  {
   "cell_type": "code",
   "execution_count": 42,
   "metadata": {},
   "outputs": [
    {
     "data": {
      "text/html": [
       "<div>\n",
       "<style scoped>\n",
       "    .dataframe tbody tr th:only-of-type {\n",
       "        vertical-align: middle;\n",
       "    }\n",
       "\n",
       "    .dataframe tbody tr th {\n",
       "        vertical-align: top;\n",
       "    }\n",
       "\n",
       "    .dataframe thead th {\n",
       "        text-align: right;\n",
       "    }\n",
       "</style>\n",
       "<table border=\"1\" class=\"dataframe\">\n",
       "  <thead>\n",
       "    <tr style=\"text-align: right;\">\n",
       "      <th></th>\n",
       "      <th>division_id</th>\n",
       "      <th>electoral_division</th>\n",
       "      <th>state</th>\n",
       "    </tr>\n",
       "  </thead>\n",
       "  <tbody>\n",
       "    <tr>\n",
       "      <th>0</th>\n",
       "      <td>179</td>\n",
       "      <td>Adelaide</td>\n",
       "      <td>SA</td>\n",
       "    </tr>\n",
       "    <tr>\n",
       "      <th>1</th>\n",
       "      <td>197</td>\n",
       "      <td>Aston</td>\n",
       "      <td>VIC</td>\n",
       "    </tr>\n",
       "    <tr>\n",
       "      <th>2</th>\n",
       "      <td>198</td>\n",
       "      <td>Ballarat</td>\n",
       "      <td>VIC</td>\n",
       "    </tr>\n",
       "    <tr>\n",
       "      <th>3</th>\n",
       "      <td>103</td>\n",
       "      <td>Banks</td>\n",
       "      <td>NSW</td>\n",
       "    </tr>\n",
       "    <tr>\n",
       "      <th>4</th>\n",
       "      <td>180</td>\n",
       "      <td>Barker</td>\n",
       "      <td>SA</td>\n",
       "    </tr>\n",
       "  </tbody>\n",
       "</table>\n",
       "</div>"
      ],
      "text/plain": [
       "   division_id electoral_division state\n",
       "0          179           Adelaide    SA\n",
       "1          197              Aston   VIC\n",
       "2          198           Ballarat   VIC\n",
       "3          103              Banks   NSW\n",
       "4          180             Barker    SA"
      ]
     },
     "execution_count": 42,
     "metadata": {},
     "output_type": "execute_result"
    }
   ],
   "source": [
    "id_df = pd.read_csv('01-output_electoral_division/electoral_division.csv')\n",
    "id_df.head()"
   ]
  },
  {
   "cell_type": "markdown",
   "metadata": {},
   "source": [
    "# Transforming the data to relevant table"
   ]
  },
  {
   "cell_type": "code",
   "execution_count": 43,
   "metadata": {},
   "outputs": [
    {
     "data": {
      "text/plain": [
       "electoral_division    object\n",
       "state                 object\n",
       "yes                    int64\n",
       "no                     int64\n",
       "response_clear         int64\n",
       "response_unclear       int64\n",
       "nonresponding          int64\n",
       "dtype: object"
      ]
     },
     "execution_count": 43,
     "metadata": {},
     "output_type": "execute_result"
    }
   ],
   "source": [
    "df.dtypes"
   ]
  },
  {
   "cell_type": "code",
   "execution_count": 44,
   "metadata": {},
   "outputs": [
    {
     "data": {
      "text/html": [
       "<div>\n",
       "<style scoped>\n",
       "    .dataframe tbody tr th:only-of-type {\n",
       "        vertical-align: middle;\n",
       "    }\n",
       "\n",
       "    .dataframe tbody tr th {\n",
       "        vertical-align: top;\n",
       "    }\n",
       "\n",
       "    .dataframe thead th {\n",
       "        text-align: right;\n",
       "    }\n",
       "</style>\n",
       "<table border=\"1\" class=\"dataframe\">\n",
       "  <thead>\n",
       "    <tr style=\"text-align: right;\">\n",
       "      <th></th>\n",
       "      <th>electoral_division</th>\n",
       "      <th>state_x</th>\n",
       "      <th>yes</th>\n",
       "      <th>no</th>\n",
       "      <th>response_clear</th>\n",
       "      <th>response_unclear</th>\n",
       "      <th>nonresponding</th>\n",
       "      <th>division_id</th>\n",
       "      <th>state_y</th>\n",
       "    </tr>\n",
       "  </thead>\n",
       "  <tbody>\n",
       "    <tr>\n",
       "      <th>0</th>\n",
       "      <td>Banks</td>\n",
       "      <td>New South Wales</td>\n",
       "      <td>37736</td>\n",
       "      <td>46343</td>\n",
       "      <td>84079</td>\n",
       "      <td>247</td>\n",
       "      <td>20928</td>\n",
       "      <td>103</td>\n",
       "      <td>NSW</td>\n",
       "    </tr>\n",
       "    <tr>\n",
       "      <th>1</th>\n",
       "      <td>Barton</td>\n",
       "      <td>New South Wales</td>\n",
       "      <td>37153</td>\n",
       "      <td>47984</td>\n",
       "      <td>85137</td>\n",
       "      <td>226</td>\n",
       "      <td>24008</td>\n",
       "      <td>104</td>\n",
       "      <td>NSW</td>\n",
       "    </tr>\n",
       "    <tr>\n",
       "      <th>2</th>\n",
       "      <td>Bennelong</td>\n",
       "      <td>New South Wales</td>\n",
       "      <td>42943</td>\n",
       "      <td>43215</td>\n",
       "      <td>86158</td>\n",
       "      <td>244</td>\n",
       "      <td>19973</td>\n",
       "      <td>105</td>\n",
       "      <td>NSW</td>\n",
       "    </tr>\n",
       "    <tr>\n",
       "      <th>3</th>\n",
       "      <td>Berowra</td>\n",
       "      <td>New South Wales</td>\n",
       "      <td>48471</td>\n",
       "      <td>40369</td>\n",
       "      <td>88840</td>\n",
       "      <td>212</td>\n",
       "      <td>16038</td>\n",
       "      <td>106</td>\n",
       "      <td>NSW</td>\n",
       "    </tr>\n",
       "    <tr>\n",
       "      <th>4</th>\n",
       "      <td>Blaxland</td>\n",
       "      <td>New South Wales</td>\n",
       "      <td>20406</td>\n",
       "      <td>57926</td>\n",
       "      <td>78332</td>\n",
       "      <td>220</td>\n",
       "      <td>25883</td>\n",
       "      <td>107</td>\n",
       "      <td>NSW</td>\n",
       "    </tr>\n",
       "  </tbody>\n",
       "</table>\n",
       "</div>"
      ],
      "text/plain": [
       "  electoral_division          state_x    yes     no  response_clear  \\\n",
       "0              Banks  New South Wales  37736  46343           84079   \n",
       "1             Barton  New South Wales  37153  47984           85137   \n",
       "2          Bennelong  New South Wales  42943  43215           86158   \n",
       "3            Berowra  New South Wales  48471  40369           88840   \n",
       "4           Blaxland  New South Wales  20406  57926           78332   \n",
       "\n",
       "   response_unclear  nonresponding  division_id state_y  \n",
       "0               247          20928          103     NSW  \n",
       "1               226          24008          104     NSW  \n",
       "2               244          19973          105     NSW  \n",
       "3               212          16038          106     NSW  \n",
       "4               220          25883          107     NSW  "
      ]
     },
     "execution_count": 44,
     "metadata": {},
     "output_type": "execute_result"
    }
   ],
   "source": [
    "# merging with id_df dataframe\n",
    "combined_df = pd.merge(df, id_df, how=\"outer\", on=\"electoral_division\")\n",
    "combined_df.head()"
   ]
  },
  {
   "cell_type": "code",
   "execution_count": 45,
   "metadata": {},
   "outputs": [
    {
     "data": {
      "text/html": [
       "<div>\n",
       "<style scoped>\n",
       "    .dataframe tbody tr th:only-of-type {\n",
       "        vertical-align: middle;\n",
       "    }\n",
       "\n",
       "    .dataframe tbody tr th {\n",
       "        vertical-align: top;\n",
       "    }\n",
       "\n",
       "    .dataframe thead th {\n",
       "        text-align: right;\n",
       "    }\n",
       "</style>\n",
       "<table border=\"1\" class=\"dataframe\">\n",
       "  <thead>\n",
       "    <tr style=\"text-align: right;\">\n",
       "      <th></th>\n",
       "      <th>division_id</th>\n",
       "      <th>yes</th>\n",
       "      <th>no</th>\n",
       "      <th>response_clear</th>\n",
       "      <th>response_unclear</th>\n",
       "      <th>nonresponding</th>\n",
       "    </tr>\n",
       "  </thead>\n",
       "  <tbody>\n",
       "    <tr>\n",
       "      <th>0</th>\n",
       "      <td>103</td>\n",
       "      <td>37736</td>\n",
       "      <td>46343</td>\n",
       "      <td>84079</td>\n",
       "      <td>247</td>\n",
       "      <td>20928</td>\n",
       "    </tr>\n",
       "    <tr>\n",
       "      <th>1</th>\n",
       "      <td>104</td>\n",
       "      <td>37153</td>\n",
       "      <td>47984</td>\n",
       "      <td>85137</td>\n",
       "      <td>226</td>\n",
       "      <td>24008</td>\n",
       "    </tr>\n",
       "    <tr>\n",
       "      <th>2</th>\n",
       "      <td>105</td>\n",
       "      <td>42943</td>\n",
       "      <td>43215</td>\n",
       "      <td>86158</td>\n",
       "      <td>244</td>\n",
       "      <td>19973</td>\n",
       "    </tr>\n",
       "    <tr>\n",
       "      <th>3</th>\n",
       "      <td>106</td>\n",
       "      <td>48471</td>\n",
       "      <td>40369</td>\n",
       "      <td>88840</td>\n",
       "      <td>212</td>\n",
       "      <td>16038</td>\n",
       "    </tr>\n",
       "    <tr>\n",
       "      <th>4</th>\n",
       "      <td>107</td>\n",
       "      <td>20406</td>\n",
       "      <td>57926</td>\n",
       "      <td>78332</td>\n",
       "      <td>220</td>\n",
       "      <td>25883</td>\n",
       "    </tr>\n",
       "  </tbody>\n",
       "</table>\n",
       "</div>"
      ],
      "text/plain": [
       "   division_id    yes     no  response_clear  response_unclear  nonresponding\n",
       "0          103  37736  46343           84079               247          20928\n",
       "1          104  37153  47984           85137               226          24008\n",
       "2          105  42943  43215           86158               244          19973\n",
       "3          106  48471  40369           88840               212          16038\n",
       "4          107  20406  57926           78332               220          25883"
      ]
     },
     "execution_count": 45,
     "metadata": {},
     "output_type": "execute_result"
    }
   ],
   "source": [
    "# columns we want to keep, in the order we want to keep them\n",
    "columns = ['division_id', 'yes', 'no' , 'response_clear' , 'response_unclear' , 'nonresponding']\n",
    "combined_df = combined_df[columns]\n",
    "combined_df.head()"
   ]
  },
  {
   "cell_type": "code",
   "execution_count": 46,
   "metadata": {},
   "outputs": [],
   "source": [
    "# renaming columns\n",
    "combined_df.columns = ['division_id', 'yes_count', 'no_count' , 'total_responses' , 'response_unclear' , 'non_responding']"
   ]
  },
  {
   "cell_type": "code",
   "execution_count": 47,
   "metadata": {},
   "outputs": [
    {
     "data": {
      "text/plain": [
       "True"
      ]
     },
     "execution_count": 47,
     "metadata": {},
     "output_type": "execute_result"
    }
   ],
   "source": [
    "# are all the division id values unique?\n",
    "combined_df['division_id'].is_unique"
   ]
  },
  {
   "cell_type": "code",
   "execution_count": 48,
   "metadata": {},
   "outputs": [
    {
     "data": {
      "text/html": [
       "<div>\n",
       "<style scoped>\n",
       "    .dataframe tbody tr th:only-of-type {\n",
       "        vertical-align: middle;\n",
       "    }\n",
       "\n",
       "    .dataframe tbody tr th {\n",
       "        vertical-align: top;\n",
       "    }\n",
       "\n",
       "    .dataframe thead th {\n",
       "        text-align: right;\n",
       "    }\n",
       "</style>\n",
       "<table border=\"1\" class=\"dataframe\">\n",
       "  <thead>\n",
       "    <tr style=\"text-align: right;\">\n",
       "      <th></th>\n",
       "      <th>yes_count</th>\n",
       "      <th>no_count</th>\n",
       "      <th>total_responses</th>\n",
       "      <th>response_unclear</th>\n",
       "      <th>non_responding</th>\n",
       "    </tr>\n",
       "    <tr>\n",
       "      <th>division_id</th>\n",
       "      <th></th>\n",
       "      <th></th>\n",
       "      <th></th>\n",
       "      <th></th>\n",
       "      <th></th>\n",
       "    </tr>\n",
       "  </thead>\n",
       "  <tbody>\n",
       "    <tr>\n",
       "      <th>103</th>\n",
       "      <td>37736</td>\n",
       "      <td>46343</td>\n",
       "      <td>84079</td>\n",
       "      <td>247</td>\n",
       "      <td>20928</td>\n",
       "    </tr>\n",
       "    <tr>\n",
       "      <th>104</th>\n",
       "      <td>37153</td>\n",
       "      <td>47984</td>\n",
       "      <td>85137</td>\n",
       "      <td>226</td>\n",
       "      <td>24008</td>\n",
       "    </tr>\n",
       "    <tr>\n",
       "      <th>105</th>\n",
       "      <td>42943</td>\n",
       "      <td>43215</td>\n",
       "      <td>86158</td>\n",
       "      <td>244</td>\n",
       "      <td>19973</td>\n",
       "    </tr>\n",
       "    <tr>\n",
       "      <th>106</th>\n",
       "      <td>48471</td>\n",
       "      <td>40369</td>\n",
       "      <td>88840</td>\n",
       "      <td>212</td>\n",
       "      <td>16038</td>\n",
       "    </tr>\n",
       "    <tr>\n",
       "      <th>107</th>\n",
       "      <td>20406</td>\n",
       "      <td>57926</td>\n",
       "      <td>78332</td>\n",
       "      <td>220</td>\n",
       "      <td>25883</td>\n",
       "    </tr>\n",
       "  </tbody>\n",
       "</table>\n",
       "</div>"
      ],
      "text/plain": [
       "             yes_count  no_count  total_responses  response_unclear  \\\n",
       "division_id                                                           \n",
       "103              37736     46343            84079               247   \n",
       "104              37153     47984            85137               226   \n",
       "105              42943     43215            86158               244   \n",
       "106              48471     40369            88840               212   \n",
       "107              20406     57926            78332               220   \n",
       "\n",
       "             non_responding  \n",
       "division_id                  \n",
       "103                   20928  \n",
       "104                   24008  \n",
       "105                   19973  \n",
       "106                   16038  \n",
       "107                   25883  "
      ]
     },
     "execution_count": 48,
     "metadata": {},
     "output_type": "execute_result"
    }
   ],
   "source": [
    "# setting the index as division_id\n",
    "combined_df = combined_df.set_index(\"division_id\")\n",
    "combined_df.head()"
   ]
  },
  {
   "cell_type": "markdown",
   "metadata": {},
   "source": [
    "# Exploratory Analysis"
   ]
  },
  {
   "cell_type": "code",
   "execution_count": 49,
   "metadata": {},
   "outputs": [
    {
     "data": {
      "text/html": [
       "<div>\n",
       "<style scoped>\n",
       "    .dataframe tbody tr th:only-of-type {\n",
       "        vertical-align: middle;\n",
       "    }\n",
       "\n",
       "    .dataframe tbody tr th {\n",
       "        vertical-align: top;\n",
       "    }\n",
       "\n",
       "    .dataframe thead th {\n",
       "        text-align: right;\n",
       "    }\n",
       "</style>\n",
       "<table border=\"1\" class=\"dataframe\">\n",
       "  <thead>\n",
       "    <tr style=\"text-align: right;\">\n",
       "      <th></th>\n",
       "      <th>yes_count</th>\n",
       "      <th>no_count</th>\n",
       "      <th>total_responses</th>\n",
       "      <th>response_unclear</th>\n",
       "      <th>non_responding</th>\n",
       "    </tr>\n",
       "  </thead>\n",
       "  <tbody>\n",
       "    <tr>\n",
       "      <th>count</th>\n",
       "      <td>150.000000</td>\n",
       "      <td>150.000000</td>\n",
       "      <td>150.000000</td>\n",
       "      <td>150.000000</td>\n",
       "      <td>150.000000</td>\n",
       "    </tr>\n",
       "    <tr>\n",
       "      <th>mean</th>\n",
       "      <td>52114.980000</td>\n",
       "      <td>32493.246667</td>\n",
       "      <td>84608.226667</td>\n",
       "      <td>244.573333</td>\n",
       "      <td>21855.066667</td>\n",
       "    </tr>\n",
       "    <tr>\n",
       "      <th>std</th>\n",
       "      <td>12315.105174</td>\n",
       "      <td>8262.788938</td>\n",
       "      <td>10318.851968</td>\n",
       "      <td>55.895198</td>\n",
       "      <td>4197.465972</td>\n",
       "    </tr>\n",
       "    <tr>\n",
       "      <th>min</th>\n",
       "      <td>19026.000000</td>\n",
       "      <td>14860.000000</td>\n",
       "      <td>34924.000000</td>\n",
       "      <td>106.000000</td>\n",
       "      <td>13092.000000</td>\n",
       "    </tr>\n",
       "    <tr>\n",
       "      <th>25%</th>\n",
       "      <td>44619.750000</td>\n",
       "      <td>28452.250000</td>\n",
       "      <td>80220.750000</td>\n",
       "      <td>207.250000</td>\n",
       "      <td>18951.000000</td>\n",
       "    </tr>\n",
       "    <tr>\n",
       "      <th>50%</th>\n",
       "      <td>51782.500000</td>\n",
       "      <td>31653.500000</td>\n",
       "      <td>85726.500000</td>\n",
       "      <td>240.000000</td>\n",
       "      <td>21416.500000</td>\n",
       "    </tr>\n",
       "    <tr>\n",
       "      <th>75%</th>\n",
       "      <td>59878.750000</td>\n",
       "      <td>36726.750000</td>\n",
       "      <td>90369.750000</td>\n",
       "      <td>276.000000</td>\n",
       "      <td>24513.250000</td>\n",
       "    </tr>\n",
       "    <tr>\n",
       "      <th>max</th>\n",
       "      <td>89590.000000</td>\n",
       "      <td>57926.000000</td>\n",
       "      <td>120951.000000</td>\n",
       "      <td>377.000000</td>\n",
       "      <td>35841.000000</td>\n",
       "    </tr>\n",
       "  </tbody>\n",
       "</table>\n",
       "</div>"
      ],
      "text/plain": [
       "          yes_count      no_count  total_responses  response_unclear  \\\n",
       "count    150.000000    150.000000       150.000000        150.000000   \n",
       "mean   52114.980000  32493.246667     84608.226667        244.573333   \n",
       "std    12315.105174   8262.788938     10318.851968         55.895198   \n",
       "min    19026.000000  14860.000000     34924.000000        106.000000   \n",
       "25%    44619.750000  28452.250000     80220.750000        207.250000   \n",
       "50%    51782.500000  31653.500000     85726.500000        240.000000   \n",
       "75%    59878.750000  36726.750000     90369.750000        276.000000   \n",
       "max    89590.000000  57926.000000    120951.000000        377.000000   \n",
       "\n",
       "       non_responding  \n",
       "count      150.000000  \n",
       "mean     21855.066667  \n",
       "std       4197.465972  \n",
       "min      13092.000000  \n",
       "25%      18951.000000  \n",
       "50%      21416.500000  \n",
       "75%      24513.250000  \n",
       "max      35841.000000  "
      ]
     },
     "execution_count": 49,
     "metadata": {},
     "output_type": "execute_result"
    }
   ],
   "source": [
    "# summary statistics table\n",
    "combined_df.describe()"
   ]
  },
  {
   "cell_type": "code",
   "execution_count": 53,
   "metadata": {},
   "outputs": [
    {
     "data": {
      "text/plain": [
       "<matplotlib.axes._subplots.AxesSubplot at 0x7fbd300a94f0>"
      ]
     },
     "execution_count": 53,
     "metadata": {},
     "output_type": "execute_result"
    },
    {
     "data": {
      "image/png": "[encoded data removed]",
      "text/plain": [
       "<Figure size 432x288 with 1 Axes>"
      ]
     },
     "metadata": {
      "needs_background": "light"
     },
     "output_type": "display_data"
    }
   ],
   "source": [
    "# box plot to investigate turnout data\n",
    "combined_df.boxplot(column=['yes_count','no_count'])"
   ]
  },
  {
   "cell_type": "code",
   "execution_count": 57,
   "metadata": {},
   "outputs": [
    {
     "data": {
      "text/plain": [
       "<matplotlib.axes._subplots.AxesSubplot at 0x7fbd34c42130>"
      ]
     },
     "execution_count": 57,
     "metadata": {},
     "output_type": "execute_result"
    },
    {
     "data": {
      "image/png": "[encoded data removed]",
      "text/plain": [
       "<Figure size 5760x2880 with 1 Axes>"
      ]
     },
     "metadata": {
      "needs_background": "light"
     },
     "output_type": "display_data"
    }
   ],
   "source": [
    "# stacked barchart to compare different types of yes or no votes for each electoral division\n",
    "combined_df[['yes_count','no_count']].plot.bar(rot=90, stacked=True, figsize=(80,40))"
   ]
  },
  {
   "cell_type": "markdown",
   "metadata": {},
   "source": [
    "# Exporting DataFrame to CSV "
   ]
  },
  {
   "cell_type": "code",
   "execution_count": 58,
   "metadata": {},
   "outputs": [],
   "source": [
    "combined_df.to_csv(\"05-output_marriage_postal_results/marriage_postal_results.csv\")"
   ]
  }
 ],
 "metadata": {
  "kernelspec": {
   "display_name": "Python 3",
   "language": "python",
   "name": "python3"
  },
  "language_info": {
   "codemirror_mode": {
    "name": "ipython",
    "version": 3
   },
   "file_extension": ".py",
   "mimetype": "text/x-python",
   "name": "python",
   "nbconvert_exporter": "python",
   "pygments_lexer": "ipython3",
   "version": "3.8.3"
  }
 },
 "nbformat": 4,
 "nbformat_minor": 2
}
