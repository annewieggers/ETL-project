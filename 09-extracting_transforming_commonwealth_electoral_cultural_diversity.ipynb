{
 "cells": [
  {
   "cell_type": "markdown",
   "metadata": {},
   "source": [
    "# Removed headers from dataset and end rows containing text not relevant for coding (it came up with 159 rows and 8 duplicates (empty rows)."
   ]
  },
  {
   "cell_type": "code",
   "execution_count": 24,
   "metadata": {},
   "outputs": [],
   "source": [
    "# Dependencies\n",
    "import pandas as pd"
   ]
  },
  {
   "cell_type": "code",
   "execution_count": 25,
   "metadata": {},
   "outputs": [],
   "source": [
    "# Read Excel and specific tab\n",
    "df = pd.read_excel(\"Resources/commonwealth electorate data.xls\", sheet_name = \"Table 5\")"
   ]
  },
  {
   "cell_type": "code",
   "execution_count": 26,
   "metadata": {},
   "outputs": [
    {
     "data": {
      "text/html": [
       "<div>\n",
       "<style scoped>\n",
       "    .dataframe tbody tr th:only-of-type {\n",
       "        vertical-align: middle;\n",
       "    }\n",
       "\n",
       "    .dataframe tbody tr th {\n",
       "        vertical-align: top;\n",
       "    }\n",
       "\n",
       "    .dataframe thead th {\n",
       "        text-align: right;\n",
       "    }\n",
       "</style>\n",
       "<table border=\"1\" class=\"dataframe\">\n",
       "  <thead>\n",
       "    <tr style=\"text-align: right;\">\n",
       "      <th></th>\n",
       "      <th>electoral_division</th>\n",
       "      <th>Aboriginal and/or Torres Strait Islander peoples</th>\n",
       "      <th>Born overseas</th>\n",
       "      <th>Recent migrants (arrived 2006-2016)</th>\n",
       "      <th>Language other than English spoken at home</th>\n",
       "    </tr>\n",
       "  </thead>\n",
       "  <tbody>\n",
       "    <tr>\n",
       "      <th>0</th>\n",
       "      <td>Adelaide</td>\n",
       "      <td>0.012</td>\n",
       "      <td>0.350</td>\n",
       "      <td>0.176</td>\n",
       "      <td>0.346</td>\n",
       "    </tr>\n",
       "    <tr>\n",
       "      <th>1</th>\n",
       "      <td>Aston</td>\n",
       "      <td>0.005</td>\n",
       "      <td>0.302</td>\n",
       "      <td>0.088</td>\n",
       "      <td>0.252</td>\n",
       "    </tr>\n",
       "    <tr>\n",
       "      <th>2</th>\n",
       "      <td>Ballarat</td>\n",
       "      <td>0.013</td>\n",
       "      <td>0.105</td>\n",
       "      <td>0.030</td>\n",
       "      <td>0.053</td>\n",
       "    </tr>\n",
       "    <tr>\n",
       "      <th>3</th>\n",
       "      <td>Banks</td>\n",
       "      <td>0.008</td>\n",
       "      <td>0.389</td>\n",
       "      <td>0.128</td>\n",
       "      <td>0.452</td>\n",
       "    </tr>\n",
       "    <tr>\n",
       "      <th>4</th>\n",
       "      <td>Barker</td>\n",
       "      <td>0.025</td>\n",
       "      <td>0.109</td>\n",
       "      <td>0.032</td>\n",
       "      <td>0.057</td>\n",
       "    </tr>\n",
       "  </tbody>\n",
       "</table>\n",
       "</div>"
      ],
      "text/plain": [
       "  electoral_division  Aboriginal and/or Torres Strait Islander peoples  \\\n",
       "0           Adelaide                                             0.012   \n",
       "1              Aston                                             0.005   \n",
       "2           Ballarat                                             0.013   \n",
       "3              Banks                                             0.008   \n",
       "4             Barker                                             0.025   \n",
       "\n",
       "   Born overseas  Recent migrants (arrived 2006-2016)  \\\n",
       "0          0.350                                0.176   \n",
       "1          0.302                                0.088   \n",
       "2          0.105                                0.030   \n",
       "3          0.389                                0.128   \n",
       "4          0.109                                0.032   \n",
       "\n",
       "   Language other than English spoken at home  \n",
       "0                                       0.346  \n",
       "1                                       0.252  \n",
       "2                                       0.053  \n",
       "3                                       0.452  \n",
       "4                                       0.057  "
      ]
     },
     "execution_count": 26,
     "metadata": {},
     "output_type": "execute_result"
    }
   ],
   "source": [
    "# Show first 5 rows\n",
    "df.head()"
   ]
  },
  {
   "cell_type": "code",
   "execution_count": 27,
   "metadata": {},
   "outputs": [
    {
     "data": {
      "text/plain": [
       "Index(['electoral_division',\n",
       "       'Aboriginal and/or Torres Strait Islander peoples', 'Born overseas',\n",
       "       'Recent migrants (arrived 2006-2016)',\n",
       "       'Language other than English spoken at home'],\n",
       "      dtype='object')"
      ]
     },
     "execution_count": 27,
     "metadata": {},
     "output_type": "execute_result"
    }
   ],
   "source": [
    "# Show all columns\n",
    "df.columns"
   ]
  },
  {
   "cell_type": "code",
   "execution_count": 28,
   "metadata": {},
   "outputs": [
    {
     "data": {
      "text/plain": [
       "electoral_division                                   object\n",
       "Aboriginal and/or Torres Strait Islander peoples    float64\n",
       "Born overseas                                       float64\n",
       "Recent migrants (arrived 2006-2016)                 float64\n",
       "Language other than English spoken at home          float64\n",
       "dtype: object"
      ]
     },
     "execution_count": 28,
     "metadata": {},
     "output_type": "execute_result"
    }
   ],
   "source": [
    "# Show all datatypes\n",
    "df.dtypes"
   ]
  },
  {
   "cell_type": "code",
   "execution_count": 29,
   "metadata": {},
   "outputs": [
    {
     "data": {
      "text/plain": [
       "True"
      ]
     },
     "execution_count": 29,
     "metadata": {},
     "output_type": "execute_result"
    }
   ],
   "source": [
    "# Checking for duplicates in divisions\n",
    "df['electoral_division'].is_unique"
   ]
  },
  {
   "cell_type": "code",
   "execution_count": 30,
   "metadata": {},
   "outputs": [
    {
     "data": {
      "text/plain": [
       "151"
      ]
     },
     "execution_count": 30,
     "metadata": {},
     "output_type": "execute_result"
    }
   ],
   "source": [
    "# Count rows (INCLUDE IN REPORT: removed text in databasae as these were considered rows (159 rows in total and duplicates)) how come 150 in other files?\n",
    "len(df)"
   ]
  },
  {
   "cell_type": "code",
   "execution_count": 31,
   "metadata": {},
   "outputs": [
    {
     "data": {
      "text/plain": [
       "151"
      ]
     },
     "execution_count": 31,
     "metadata": {},
     "output_type": "execute_result"
    }
   ],
   "source": [
    "# Drop duplicates and count again (INCLUDE IN REPORT: after removing text and empty rows as per step above, there were no duplicates\n",
    "df = df.dropna(how=\"any\")\n",
    "len(df)"
   ]
  },
  {
   "cell_type": "code",
   "execution_count": 32,
   "metadata": {},
   "outputs": [],
   "source": [
    "# Renaming df\n",
    "cultural_div_df = df"
   ]
  },
  {
   "cell_type": "code",
   "execution_count": 33,
   "metadata": {},
   "outputs": [
    {
     "data": {
      "text/html": [
       "<div>\n",
       "<style scoped>\n",
       "    .dataframe tbody tr th:only-of-type {\n",
       "        vertical-align: middle;\n",
       "    }\n",
       "\n",
       "    .dataframe tbody tr th {\n",
       "        vertical-align: top;\n",
       "    }\n",
       "\n",
       "    .dataframe thead th {\n",
       "        text-align: right;\n",
       "    }\n",
       "</style>\n",
       "<table border=\"1\" class=\"dataframe\">\n",
       "  <thead>\n",
       "    <tr style=\"text-align: right;\">\n",
       "      <th></th>\n",
       "      <th>electoral_division</th>\n",
       "      <th>aboriginal_tsi</th>\n",
       "      <th>born_overseas</th>\n",
       "      <th>recent_migrants</th>\n",
       "      <th>language_home_no_english</th>\n",
       "    </tr>\n",
       "  </thead>\n",
       "  <tbody>\n",
       "    <tr>\n",
       "      <th>0</th>\n",
       "      <td>Adelaide</td>\n",
       "      <td>0.012</td>\n",
       "      <td>0.350</td>\n",
       "      <td>0.176</td>\n",
       "      <td>0.346</td>\n",
       "    </tr>\n",
       "    <tr>\n",
       "      <th>1</th>\n",
       "      <td>Aston</td>\n",
       "      <td>0.005</td>\n",
       "      <td>0.302</td>\n",
       "      <td>0.088</td>\n",
       "      <td>0.252</td>\n",
       "    </tr>\n",
       "    <tr>\n",
       "      <th>2</th>\n",
       "      <td>Ballarat</td>\n",
       "      <td>0.013</td>\n",
       "      <td>0.105</td>\n",
       "      <td>0.030</td>\n",
       "      <td>0.053</td>\n",
       "    </tr>\n",
       "    <tr>\n",
       "      <th>3</th>\n",
       "      <td>Banks</td>\n",
       "      <td>0.008</td>\n",
       "      <td>0.389</td>\n",
       "      <td>0.128</td>\n",
       "      <td>0.452</td>\n",
       "    </tr>\n",
       "    <tr>\n",
       "      <th>4</th>\n",
       "      <td>Barker</td>\n",
       "      <td>0.025</td>\n",
       "      <td>0.109</td>\n",
       "      <td>0.032</td>\n",
       "      <td>0.057</td>\n",
       "    </tr>\n",
       "  </tbody>\n",
       "</table>\n",
       "</div>"
      ],
      "text/plain": [
       "  electoral_division  aboriginal_tsi  born_overseas  recent_migrants  \\\n",
       "0           Adelaide           0.012          0.350            0.176   \n",
       "1              Aston           0.005          0.302            0.088   \n",
       "2           Ballarat           0.013          0.105            0.030   \n",
       "3              Banks           0.008          0.389            0.128   \n",
       "4             Barker           0.025          0.109            0.032   \n",
       "\n",
       "   language_home_no_english  \n",
       "0                     0.346  \n",
       "1                     0.252  \n",
       "2                     0.053  \n",
       "3                     0.452  \n",
       "4                     0.057  "
      ]
     },
     "execution_count": 33,
     "metadata": {},
     "output_type": "execute_result"
    }
   ],
   "source": [
    "# Renaming columns\n",
    "cultural_div_df.columns = ['electoral_division', 'aboriginal_tsi', 'born_overseas', 'recent_migrants', 'language_home_no_english']\n",
    "cultural_div_df.head()"
   ]
  },
  {
   "cell_type": "code",
   "execution_count": 34,
   "metadata": {},
   "outputs": [
    {
     "data": {
      "text/plain": [
       "electoral_division           object\n",
       "aboriginal_tsi              float64\n",
       "born_overseas               float64\n",
       "recent_migrants             float64\n",
       "language_home_no_english    float64\n",
       "dtype: object"
      ]
     },
     "execution_count": 34,
     "metadata": {},
     "output_type": "execute_result"
    }
   ],
   "source": [
    "cultural_div_df.dtypes"
   ]
  },
  {
   "cell_type": "markdown",
   "metadata": {},
   "source": [
    "# What do percentages mean? is that % of 100%? should each row add up to 100% and the gap is australian?"
   ]
  },
  {
   "cell_type": "code",
   "execution_count": 35,
   "metadata": {},
   "outputs": [
    {
     "data": {
      "text/html": [
       "<div>\n",
       "<style scoped>\n",
       "    .dataframe tbody tr th:only-of-type {\n",
       "        vertical-align: middle;\n",
       "    }\n",
       "\n",
       "    .dataframe tbody tr th {\n",
       "        vertical-align: top;\n",
       "    }\n",
       "\n",
       "    .dataframe thead th {\n",
       "        text-align: right;\n",
       "    }\n",
       "</style>\n",
       "<table border=\"1\" class=\"dataframe\">\n",
       "  <thead>\n",
       "    <tr style=\"text-align: right;\">\n",
       "      <th></th>\n",
       "      <th>division_id</th>\n",
       "      <th>electoral_division</th>\n",
       "      <th>state</th>\n",
       "    </tr>\n",
       "  </thead>\n",
       "  <tbody>\n",
       "    <tr>\n",
       "      <th>0</th>\n",
       "      <td>179</td>\n",
       "      <td>Adelaide</td>\n",
       "      <td>SA</td>\n",
       "    </tr>\n",
       "    <tr>\n",
       "      <th>1</th>\n",
       "      <td>197</td>\n",
       "      <td>Aston</td>\n",
       "      <td>VIC</td>\n",
       "    </tr>\n",
       "    <tr>\n",
       "      <th>2</th>\n",
       "      <td>198</td>\n",
       "      <td>Ballarat</td>\n",
       "      <td>VIC</td>\n",
       "    </tr>\n",
       "    <tr>\n",
       "      <th>3</th>\n",
       "      <td>103</td>\n",
       "      <td>Banks</td>\n",
       "      <td>NSW</td>\n",
       "    </tr>\n",
       "    <tr>\n",
       "      <th>4</th>\n",
       "      <td>180</td>\n",
       "      <td>Barker</td>\n",
       "      <td>SA</td>\n",
       "    </tr>\n",
       "  </tbody>\n",
       "</table>\n",
       "</div>"
      ],
      "text/plain": [
       "   division_id electoral_division state\n",
       "0          179           Adelaide    SA\n",
       "1          197              Aston   VIC\n",
       "2          198           Ballarat   VIC\n",
       "3          103              Banks   NSW\n",
       "4          180             Barker    SA"
      ]
     },
     "execution_count": 35,
     "metadata": {},
     "output_type": "execute_result"
    }
   ],
   "source": [
    "# Read in electorate division info csv\n",
    "div_df = pd.read_csv(\"01-output_electorate_division_information/electoral_division.csv\")\n",
    "div_df.head()"
   ]
  },
  {
   "cell_type": "code",
   "execution_count": 36,
   "metadata": {},
   "outputs": [
    {
     "data": {
      "text/plain": [
       "True"
      ]
     },
     "execution_count": 36,
     "metadata": {},
     "output_type": "execute_result"
    }
   ],
   "source": [
    "# Checking for duplicates\n",
    "div_df['division_id'].is_unique"
   ]
  },
  {
   "cell_type": "code",
   "execution_count": 37,
   "metadata": {},
   "outputs": [
    {
     "data": {
      "text/plain": [
       "division_id            int64\n",
       "electoral_division    object\n",
       "state                 object\n",
       "dtype: object"
      ]
     },
     "execution_count": 37,
     "metadata": {},
     "output_type": "execute_result"
    }
   ],
   "source": [
    "div_df.dtypes"
   ]
  },
  {
   "cell_type": "code",
   "execution_count": 38,
   "metadata": {},
   "outputs": [
    {
     "data": {
      "text/html": [
       "<div>\n",
       "<style scoped>\n",
       "    .dataframe tbody tr th:only-of-type {\n",
       "        vertical-align: middle;\n",
       "    }\n",
       "\n",
       "    .dataframe tbody tr th {\n",
       "        vertical-align: top;\n",
       "    }\n",
       "\n",
       "    .dataframe thead th {\n",
       "        text-align: right;\n",
       "    }\n",
       "</style>\n",
       "<table border=\"1\" class=\"dataframe\">\n",
       "  <thead>\n",
       "    <tr style=\"text-align: right;\">\n",
       "      <th></th>\n",
       "      <th>electoral_division</th>\n",
       "      <th>aboriginal_tsi</th>\n",
       "      <th>born_overseas</th>\n",
       "      <th>recent_migrants</th>\n",
       "      <th>language_home_no_english</th>\n",
       "      <th>division_id</th>\n",
       "      <th>state</th>\n",
       "    </tr>\n",
       "  </thead>\n",
       "  <tbody>\n",
       "    <tr>\n",
       "      <th>0</th>\n",
       "      <td>Adelaide</td>\n",
       "      <td>0.012</td>\n",
       "      <td>0.350</td>\n",
       "      <td>0.176</td>\n",
       "      <td>0.346</td>\n",
       "      <td>179.0</td>\n",
       "      <td>SA</td>\n",
       "    </tr>\n",
       "    <tr>\n",
       "      <th>1</th>\n",
       "      <td>Aston</td>\n",
       "      <td>0.005</td>\n",
       "      <td>0.302</td>\n",
       "      <td>0.088</td>\n",
       "      <td>0.252</td>\n",
       "      <td>197.0</td>\n",
       "      <td>VIC</td>\n",
       "    </tr>\n",
       "    <tr>\n",
       "      <th>2</th>\n",
       "      <td>Ballarat</td>\n",
       "      <td>0.013</td>\n",
       "      <td>0.105</td>\n",
       "      <td>0.030</td>\n",
       "      <td>0.053</td>\n",
       "      <td>198.0</td>\n",
       "      <td>VIC</td>\n",
       "    </tr>\n",
       "    <tr>\n",
       "      <th>3</th>\n",
       "      <td>Banks</td>\n",
       "      <td>0.008</td>\n",
       "      <td>0.389</td>\n",
       "      <td>0.128</td>\n",
       "      <td>0.452</td>\n",
       "      <td>103.0</td>\n",
       "      <td>NSW</td>\n",
       "    </tr>\n",
       "    <tr>\n",
       "      <th>4</th>\n",
       "      <td>Barker</td>\n",
       "      <td>0.025</td>\n",
       "      <td>0.109</td>\n",
       "      <td>0.032</td>\n",
       "      <td>0.057</td>\n",
       "      <td>180.0</td>\n",
       "      <td>SA</td>\n",
       "    </tr>\n",
       "  </tbody>\n",
       "</table>\n",
       "</div>"
      ],
      "text/plain": [
       "  electoral_division  aboriginal_tsi  born_overseas  recent_migrants  \\\n",
       "0           Adelaide           0.012          0.350            0.176   \n",
       "1              Aston           0.005          0.302            0.088   \n",
       "2           Ballarat           0.013          0.105            0.030   \n",
       "3              Banks           0.008          0.389            0.128   \n",
       "4             Barker           0.025          0.109            0.032   \n",
       "\n",
       "   language_home_no_english  division_id state  \n",
       "0                     0.346        179.0    SA  \n",
       "1                     0.252        197.0   VIC  \n",
       "2                     0.053        198.0   VIC  \n",
       "3                     0.452        103.0   NSW  \n",
       "4                     0.057        180.0    SA  "
      ]
     },
     "execution_count": 38,
     "metadata": {},
     "output_type": "execute_result"
    }
   ],
   "source": [
    "# Add in division column to cultural_diversity df through left join\n",
    "merged = cultural_div_df.merge(\n",
    "                     div_df,  \n",
    "                     on ='electoral_division',  \n",
    "                     how ='left') \n",
    "\n",
    "merged.head()"
   ]
  },
  {
   "cell_type": "code",
   "execution_count": 39,
   "metadata": {},
   "outputs": [
    {
     "data": {
      "text/plain": [
       "electoral_division           object\n",
       "aboriginal_tsi              float64\n",
       "born_overseas               float64\n",
       "recent_migrants             float64\n",
       "language_home_no_english    float64\n",
       "division_id                 float64\n",
       "state                        object\n",
       "dtype: object"
      ]
     },
     "execution_count": 39,
     "metadata": {},
     "output_type": "execute_result"
    }
   ],
   "source": [
    "# show datatypes\n",
    "merged.dtypes"
   ]
  },
  {
   "cell_type": "markdown",
   "metadata": {},
   "source": [
    "# How to convert float to int to get rid of the decimals for division_id?"
   ]
  },
  {
   "cell_type": "code",
   "execution_count": 40,
   "metadata": {},
   "outputs": [],
   "source": [
    "# round division_id"
   ]
  },
  {
   "cell_type": "code",
   "execution_count": 41,
   "metadata": {},
   "outputs": [],
   "source": [
    "# set index to division_id\n",
    "merged.set_index([\"division_id\"], inplace=True)"
   ]
  },
  {
   "cell_type": "code",
   "execution_count": 42,
   "metadata": {},
   "outputs": [
    {
     "data": {
      "text/plain": [
       "Index(['electoral_division', 'aboriginal_tsi', 'born_overseas',\n",
       "       'recent_migrants', 'language_home_no_english', 'state'],\n",
       "      dtype='object')"
      ]
     },
     "execution_count": 42,
     "metadata": {},
     "output_type": "execute_result"
    }
   ],
   "source": [
    "#Show columns merge ddf\n",
    "merged.columns"
   ]
  },
  {
   "cell_type": "code",
   "execution_count": 43,
   "metadata": {},
   "outputs": [],
   "source": [
    "# drop irrelevant columns\n",
    "merged.drop([\"state\"], axis=1, inplace=True)"
   ]
  },
  {
   "cell_type": "code",
   "execution_count": 44,
   "metadata": {},
   "outputs": [
    {
     "data": {
      "text/html": [
       "<div>\n",
       "<style scoped>\n",
       "    .dataframe tbody tr th:only-of-type {\n",
       "        vertical-align: middle;\n",
       "    }\n",
       "\n",
       "    .dataframe tbody tr th {\n",
       "        vertical-align: top;\n",
       "    }\n",
       "\n",
       "    .dataframe thead th {\n",
       "        text-align: right;\n",
       "    }\n",
       "</style>\n",
       "<table border=\"1\" class=\"dataframe\">\n",
       "  <thead>\n",
       "    <tr style=\"text-align: right;\">\n",
       "      <th></th>\n",
       "      <th>electoral_division</th>\n",
       "      <th>aboriginal_tsi</th>\n",
       "      <th>born_overseas</th>\n",
       "      <th>recent_migrants</th>\n",
       "      <th>language_home_no_english</th>\n",
       "    </tr>\n",
       "    <tr>\n",
       "      <th>division_id</th>\n",
       "      <th></th>\n",
       "      <th></th>\n",
       "      <th></th>\n",
       "      <th></th>\n",
       "      <th></th>\n",
       "    </tr>\n",
       "  </thead>\n",
       "  <tbody>\n",
       "    <tr>\n",
       "      <th>179.0</th>\n",
       "      <td>Adelaide</td>\n",
       "      <td>0.012</td>\n",
       "      <td>0.350</td>\n",
       "      <td>0.176</td>\n",
       "      <td>0.346</td>\n",
       "    </tr>\n",
       "    <tr>\n",
       "      <th>197.0</th>\n",
       "      <td>Aston</td>\n",
       "      <td>0.005</td>\n",
       "      <td>0.302</td>\n",
       "      <td>0.088</td>\n",
       "      <td>0.252</td>\n",
       "    </tr>\n",
       "    <tr>\n",
       "      <th>198.0</th>\n",
       "      <td>Ballarat</td>\n",
       "      <td>0.013</td>\n",
       "      <td>0.105</td>\n",
       "      <td>0.030</td>\n",
       "      <td>0.053</td>\n",
       "    </tr>\n",
       "    <tr>\n",
       "      <th>103.0</th>\n",
       "      <td>Banks</td>\n",
       "      <td>0.008</td>\n",
       "      <td>0.389</td>\n",
       "      <td>0.128</td>\n",
       "      <td>0.452</td>\n",
       "    </tr>\n",
       "    <tr>\n",
       "      <th>180.0</th>\n",
       "      <td>Barker</td>\n",
       "      <td>0.025</td>\n",
       "      <td>0.109</td>\n",
       "      <td>0.032</td>\n",
       "      <td>0.057</td>\n",
       "    </tr>\n",
       "  </tbody>\n",
       "</table>\n",
       "</div>"
      ],
      "text/plain": [
       "            electoral_division  aboriginal_tsi  born_overseas  \\\n",
       "division_id                                                     \n",
       "179.0                 Adelaide           0.012          0.350   \n",
       "197.0                    Aston           0.005          0.302   \n",
       "198.0                 Ballarat           0.013          0.105   \n",
       "103.0                    Banks           0.008          0.389   \n",
       "180.0                   Barker           0.025          0.109   \n",
       "\n",
       "             recent_migrants  language_home_no_english  \n",
       "division_id                                             \n",
       "179.0                  0.176                     0.346  \n",
       "197.0                  0.088                     0.252  \n",
       "198.0                  0.030                     0.053  \n",
       "103.0                  0.128                     0.452  \n",
       "180.0                  0.032                     0.057  "
      ]
     },
     "execution_count": 44,
     "metadata": {},
     "output_type": "execute_result"
    }
   ],
   "source": [
    "# Show top 5 rows\n",
    "merged.head()"
   ]
  },
  {
   "cell_type": "code",
   "execution_count": 45,
   "metadata": {},
   "outputs": [],
   "source": [
    "# export df to csv\n",
    "merged.to_csv(\"09-output_2016_commonwealth_electoral_cultural_diversity/cultural_diversity.csv\")"
   ]
  }
 ],
 "metadata": {
  "kernelspec": {
   "display_name": "Python [conda env:PythonData] *",
   "language": "python",
   "name": "conda-env-PythonData-py"
  },
  "language_info": {
   "codemirror_mode": {
    "name": "ipython",
    "version": 3
   },
   "file_extension": ".py",
   "mimetype": "text/x-python",
   "name": "python",
   "nbconvert_exporter": "python",
   "pygments_lexer": "ipython3",
   "version": "3.6.10"
  }
 },
 "nbformat": 4,
 "nbformat_minor": 4
}
