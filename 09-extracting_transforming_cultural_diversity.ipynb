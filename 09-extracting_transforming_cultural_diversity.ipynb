{
 "cells": [
  {
   "cell_type": "markdown",
   "metadata": {},
   "source": [
    "# Removed headers from dataset and end rows containing text not relevant for coding (it came up with 159 rows and 8 duplicates (empty rows)."
   ]
  },
  {
   "cell_type": "code",
   "execution_count": 1,
   "metadata": {},
   "outputs": [],
   "source": [
    "# Dependencies\n",
    "import pandas as pd"
   ]
  },
  {
   "cell_type": "markdown",
   "metadata": {},
   "source": [
    "# Extraction"
   ]
  },
  {
   "cell_type": "code",
   "execution_count": 2,
   "metadata": {},
   "outputs": [],
   "source": [
    "# Read Excel and specific diversity tab\n",
    "cultural_div_df = pd.read_excel(\"Resources/commonwealth electorate data.xls\", sheet_name = \"Table 5\")"
   ]
  },
  {
   "cell_type": "code",
   "execution_count": 3,
   "metadata": {},
   "outputs": [
    {
     "data": {
      "text/html": [
       "<div>\n",
       "<style scoped>\n",
       "    .dataframe tbody tr th:only-of-type {\n",
       "        vertical-align: middle;\n",
       "    }\n",
       "\n",
       "    .dataframe tbody tr th {\n",
       "        vertical-align: top;\n",
       "    }\n",
       "\n",
       "    .dataframe thead th {\n",
       "        text-align: right;\n",
       "    }\n",
       "</style>\n",
       "<table border=\"1\" class=\"dataframe\">\n",
       "  <thead>\n",
       "    <tr style=\"text-align: right;\">\n",
       "      <th></th>\n",
       "      <th>electoral_division</th>\n",
       "      <th>Aboriginal and/or Torres Strait Islander peoples</th>\n",
       "      <th>Born overseas</th>\n",
       "      <th>Recent migrants (arrived 2006-2016)</th>\n",
       "      <th>Language other than English spoken at home</th>\n",
       "    </tr>\n",
       "  </thead>\n",
       "  <tbody>\n",
       "    <tr>\n",
       "      <th>0</th>\n",
       "      <td>Adelaide</td>\n",
       "      <td>0.012</td>\n",
       "      <td>0.350</td>\n",
       "      <td>0.176</td>\n",
       "      <td>0.346</td>\n",
       "    </tr>\n",
       "    <tr>\n",
       "      <th>1</th>\n",
       "      <td>Aston</td>\n",
       "      <td>0.005</td>\n",
       "      <td>0.302</td>\n",
       "      <td>0.088</td>\n",
       "      <td>0.252</td>\n",
       "    </tr>\n",
       "    <tr>\n",
       "      <th>2</th>\n",
       "      <td>Ballarat</td>\n",
       "      <td>0.013</td>\n",
       "      <td>0.105</td>\n",
       "      <td>0.030</td>\n",
       "      <td>0.053</td>\n",
       "    </tr>\n",
       "    <tr>\n",
       "      <th>3</th>\n",
       "      <td>Banks</td>\n",
       "      <td>0.008</td>\n",
       "      <td>0.389</td>\n",
       "      <td>0.128</td>\n",
       "      <td>0.452</td>\n",
       "    </tr>\n",
       "    <tr>\n",
       "      <th>4</th>\n",
       "      <td>Barker</td>\n",
       "      <td>0.025</td>\n",
       "      <td>0.109</td>\n",
       "      <td>0.032</td>\n",
       "      <td>0.057</td>\n",
       "    </tr>\n",
       "  </tbody>\n",
       "</table>\n",
       "</div>"
      ],
      "text/plain": [
       "  electoral_division  Aboriginal and/or Torres Strait Islander peoples  \\\n",
       "0           Adelaide                                             0.012   \n",
       "1              Aston                                             0.005   \n",
       "2           Ballarat                                             0.013   \n",
       "3              Banks                                             0.008   \n",
       "4             Barker                                             0.025   \n",
       "\n",
       "   Born overseas  Recent migrants (arrived 2006-2016)  \\\n",
       "0          0.350                                0.176   \n",
       "1          0.302                                0.088   \n",
       "2          0.105                                0.030   \n",
       "3          0.389                                0.128   \n",
       "4          0.109                                0.032   \n",
       "\n",
       "   Language other than English spoken at home  \n",
       "0                                       0.346  \n",
       "1                                       0.252  \n",
       "2                                       0.053  \n",
       "3                                       0.452  \n",
       "4                                       0.057  "
      ]
     },
     "execution_count": 3,
     "metadata": {},
     "output_type": "execute_result"
    }
   ],
   "source": [
    "# Show first 5 rows\n",
    "cultural_div_df.head()"
   ]
  },
  {
   "cell_type": "markdown",
   "metadata": {},
   "source": [
    "# Transforming"
   ]
  },
  {
   "cell_type": "code",
   "execution_count": 4,
   "metadata": {},
   "outputs": [
    {
     "data": {
      "text/plain": [
       "Index(['electoral_division',\n",
       "       'Aboriginal and/or Torres Strait Islander peoples', 'Born overseas',\n",
       "       'Recent migrants (arrived 2006-2016)',\n",
       "       'Language other than English spoken at home'],\n",
       "      dtype='object')"
      ]
     },
     "execution_count": 4,
     "metadata": {},
     "output_type": "execute_result"
    }
   ],
   "source": [
    "# Show all columns\n",
    "cultural_div_df.columns"
   ]
  },
  {
   "cell_type": "code",
   "execution_count": 5,
   "metadata": {},
   "outputs": [
    {
     "data": {
      "text/plain": [
       "electoral_division                                   object\n",
       "Aboriginal and/or Torres Strait Islander peoples    float64\n",
       "Born overseas                                       float64\n",
       "Recent migrants (arrived 2006-2016)                 float64\n",
       "Language other than English spoken at home          float64\n",
       "dtype: object"
      ]
     },
     "execution_count": 5,
     "metadata": {},
     "output_type": "execute_result"
    }
   ],
   "source": [
    "# Show all datatypes\n",
    "cultural_div_df.dtypes"
   ]
  },
  {
   "cell_type": "markdown",
   "metadata": {},
   "source": [
    "Datatypes are as expected."
   ]
  },
  {
   "cell_type": "code",
   "execution_count": 6,
   "metadata": {},
   "outputs": [
    {
     "data": {
      "text/plain": [
       "True"
      ]
     },
     "execution_count": 6,
     "metadata": {},
     "output_type": "execute_result"
    }
   ],
   "source": [
    "# Checking for duplicates in divisions\n",
    "cultural_div_df['electoral_division'].is_unique"
   ]
  },
  {
   "cell_type": "markdown",
   "metadata": {},
   "source": [
    "Division names are unique / no duplicates as expected, so no cleaning required."
   ]
  },
  {
   "cell_type": "code",
   "execution_count": 7,
   "metadata": {},
   "outputs": [
    {
     "data": {
      "text/plain": [
       "151"
      ]
     },
     "execution_count": 7,
     "metadata": {},
     "output_type": "execute_result"
    }
   ],
   "source": [
    "# Drop missing values and count again (INCLUDE IN REPORT: after removing text and empty rows as per step above, there were no empty cells/nans)\n",
    "cultural_div_df = cultural_div_df.dropna(how=\"any\")\n",
    "len(cultural_div_df)"
   ]
  },
  {
   "cell_type": "code",
   "execution_count": 8,
   "metadata": {},
   "outputs": [
    {
     "data": {
      "text/html": [
       "<div>\n",
       "<style scoped>\n",
       "    .dataframe tbody tr th:only-of-type {\n",
       "        vertical-align: middle;\n",
       "    }\n",
       "\n",
       "    .dataframe tbody tr th {\n",
       "        vertical-align: top;\n",
       "    }\n",
       "\n",
       "    .dataframe thead th {\n",
       "        text-align: right;\n",
       "    }\n",
       "</style>\n",
       "<table border=\"1\" class=\"dataframe\">\n",
       "  <thead>\n",
       "    <tr style=\"text-align: right;\">\n",
       "      <th></th>\n",
       "      <th>electoral_division</th>\n",
       "      <th>aboriginal_torres_strait_percent</th>\n",
       "      <th>born_overseas_percent</th>\n",
       "      <th>recent_migrants_percent</th>\n",
       "      <th>different_language_percent</th>\n",
       "    </tr>\n",
       "  </thead>\n",
       "  <tbody>\n",
       "    <tr>\n",
       "      <th>0</th>\n",
       "      <td>Adelaide</td>\n",
       "      <td>0.012</td>\n",
       "      <td>0.350</td>\n",
       "      <td>0.176</td>\n",
       "      <td>0.346</td>\n",
       "    </tr>\n",
       "    <tr>\n",
       "      <th>1</th>\n",
       "      <td>Aston</td>\n",
       "      <td>0.005</td>\n",
       "      <td>0.302</td>\n",
       "      <td>0.088</td>\n",
       "      <td>0.252</td>\n",
       "    </tr>\n",
       "    <tr>\n",
       "      <th>2</th>\n",
       "      <td>Ballarat</td>\n",
       "      <td>0.013</td>\n",
       "      <td>0.105</td>\n",
       "      <td>0.030</td>\n",
       "      <td>0.053</td>\n",
       "    </tr>\n",
       "    <tr>\n",
       "      <th>3</th>\n",
       "      <td>Banks</td>\n",
       "      <td>0.008</td>\n",
       "      <td>0.389</td>\n",
       "      <td>0.128</td>\n",
       "      <td>0.452</td>\n",
       "    </tr>\n",
       "    <tr>\n",
       "      <th>4</th>\n",
       "      <td>Barker</td>\n",
       "      <td>0.025</td>\n",
       "      <td>0.109</td>\n",
       "      <td>0.032</td>\n",
       "      <td>0.057</td>\n",
       "    </tr>\n",
       "  </tbody>\n",
       "</table>\n",
       "</div>"
      ],
      "text/plain": [
       "  electoral_division  aboriginal_torres_strait_percent  born_overseas_percent  \\\n",
       "0           Adelaide                             0.012                  0.350   \n",
       "1              Aston                             0.005                  0.302   \n",
       "2           Ballarat                             0.013                  0.105   \n",
       "3              Banks                             0.008                  0.389   \n",
       "4             Barker                             0.025                  0.109   \n",
       "\n",
       "   recent_migrants_percent  different_language_percent  \n",
       "0                    0.176                       0.346  \n",
       "1                    0.088                       0.252  \n",
       "2                    0.030                       0.053  \n",
       "3                    0.128                       0.452  \n",
       "4                    0.032                       0.057  "
      ]
     },
     "execution_count": 8,
     "metadata": {},
     "output_type": "execute_result"
    }
   ],
   "source": [
    "# Renaming columns\n",
    "cultural_div_df.columns = ['electoral_division', 'aboriginal_torres_strait_percent', 'born_overseas_percent', 'recent_migrants_percent', 'different_language_percent']\n",
    "cultural_div_df.head()"
   ]
  },
  {
   "cell_type": "code",
   "execution_count": 9,
   "metadata": {},
   "outputs": [
    {
     "data": {
      "text/html": [
       "<div>\n",
       "<style scoped>\n",
       "    .dataframe tbody tr th:only-of-type {\n",
       "        vertical-align: middle;\n",
       "    }\n",
       "\n",
       "    .dataframe tbody tr th {\n",
       "        vertical-align: top;\n",
       "    }\n",
       "\n",
       "    .dataframe thead th {\n",
       "        text-align: right;\n",
       "    }\n",
       "</style>\n",
       "<table border=\"1\" class=\"dataframe\">\n",
       "  <thead>\n",
       "    <tr style=\"text-align: right;\">\n",
       "      <th></th>\n",
       "      <th>electoral_division</th>\n",
       "      <th>aboriginal_torres_strait_percent</th>\n",
       "      <th>born_overseas_percent</th>\n",
       "      <th>recent_migrants_percent</th>\n",
       "      <th>different_language_percent</th>\n",
       "    </tr>\n",
       "  </thead>\n",
       "  <tbody>\n",
       "    <tr>\n",
       "      <th>0</th>\n",
       "      <td>Adelaide</td>\n",
       "      <td>1.2</td>\n",
       "      <td>35.0</td>\n",
       "      <td>17.6</td>\n",
       "      <td>34.6</td>\n",
       "    </tr>\n",
       "    <tr>\n",
       "      <th>1</th>\n",
       "      <td>Aston</td>\n",
       "      <td>0.5</td>\n",
       "      <td>30.2</td>\n",
       "      <td>8.8</td>\n",
       "      <td>25.2</td>\n",
       "    </tr>\n",
       "    <tr>\n",
       "      <th>2</th>\n",
       "      <td>Ballarat</td>\n",
       "      <td>1.3</td>\n",
       "      <td>10.5</td>\n",
       "      <td>3.0</td>\n",
       "      <td>5.3</td>\n",
       "    </tr>\n",
       "    <tr>\n",
       "      <th>3</th>\n",
       "      <td>Banks</td>\n",
       "      <td>0.8</td>\n",
       "      <td>38.9</td>\n",
       "      <td>12.8</td>\n",
       "      <td>45.2</td>\n",
       "    </tr>\n",
       "    <tr>\n",
       "      <th>4</th>\n",
       "      <td>Barker</td>\n",
       "      <td>2.5</td>\n",
       "      <td>10.9</td>\n",
       "      <td>3.2</td>\n",
       "      <td>5.7</td>\n",
       "    </tr>\n",
       "  </tbody>\n",
       "</table>\n",
       "</div>"
      ],
      "text/plain": [
       "  electoral_division  aboriginal_torres_strait_percent  born_overseas_percent  \\\n",
       "0           Adelaide                               1.2                   35.0   \n",
       "1              Aston                               0.5                   30.2   \n",
       "2           Ballarat                               1.3                   10.5   \n",
       "3              Banks                               0.8                   38.9   \n",
       "4             Barker                               2.5                   10.9   \n",
       "\n",
       "   recent_migrants_percent  different_language_percent  \n",
       "0                     17.6                        34.6  \n",
       "1                      8.8                        25.2  \n",
       "2                      3.0                         5.3  \n",
       "3                     12.8                        45.2  \n",
       "4                      3.2                         5.7  "
      ]
     },
     "execution_count": 9,
     "metadata": {},
     "output_type": "execute_result"
    }
   ],
   "source": [
    "# Multiply by 100 to show percentages\n",
    "cultural_div_df['aboriginal_torres_strait_percent'] = cultural_div_df['aboriginal_torres_strait_percent'] * 100\n",
    "cultural_div_df['born_overseas_percent'] = cultural_div_df['born_overseas_percent'] * 100\n",
    "cultural_div_df['recent_migrants_percent'] = cultural_div_df['recent_migrants_percent'] * 100\n",
    "cultural_div_df['different_language_percent'] = cultural_div_df['different_language_percent'] * 100\n",
    "\n",
    "cultural_div_df.head()"
   ]
  },
  {
   "cell_type": "code",
   "execution_count": 10,
   "metadata": {},
   "outputs": [
    {
     "data": {
      "text/html": [
       "<div>\n",
       "<style scoped>\n",
       "    .dataframe tbody tr th:only-of-type {\n",
       "        vertical-align: middle;\n",
       "    }\n",
       "\n",
       "    .dataframe tbody tr th {\n",
       "        vertical-align: top;\n",
       "    }\n",
       "\n",
       "    .dataframe thead th {\n",
       "        text-align: right;\n",
       "    }\n",
       "</style>\n",
       "<table border=\"1\" class=\"dataframe\">\n",
       "  <thead>\n",
       "    <tr style=\"text-align: right;\">\n",
       "      <th></th>\n",
       "      <th>aboriginal_torres_strait_percent</th>\n",
       "      <th>born_overseas_percent</th>\n",
       "      <th>recent_migrants_percent</th>\n",
       "      <th>different_language_percent</th>\n",
       "    </tr>\n",
       "  </thead>\n",
       "  <tbody>\n",
       "    <tr>\n",
       "      <th>count</th>\n",
       "      <td>151.000000</td>\n",
       "      <td>151.000000</td>\n",
       "      <td>151.000000</td>\n",
       "      <td>151.000000</td>\n",
       "    </tr>\n",
       "    <tr>\n",
       "      <th>mean</th>\n",
       "      <td>2.836424</td>\n",
       "      <td>25.692715</td>\n",
       "      <td>9.521854</td>\n",
       "      <td>20.029801</td>\n",
       "    </tr>\n",
       "    <tr>\n",
       "      <th>std</th>\n",
       "      <td>4.219992</td>\n",
       "      <td>12.719455</td>\n",
       "      <td>6.342575</td>\n",
       "      <td>16.553347</td>\n",
       "    </tr>\n",
       "    <tr>\n",
       "      <th>min</th>\n",
       "      <td>0.200000</td>\n",
       "      <td>5.500000</td>\n",
       "      <td>1.100000</td>\n",
       "      <td>2.100000</td>\n",
       "    </tr>\n",
       "    <tr>\n",
       "      <th>25%</th>\n",
       "      <td>0.750000</td>\n",
       "      <td>13.800000</td>\n",
       "      <td>3.800000</td>\n",
       "      <td>6.150000</td>\n",
       "    </tr>\n",
       "    <tr>\n",
       "      <th>50%</th>\n",
       "      <td>1.700000</td>\n",
       "      <td>25.300000</td>\n",
       "      <td>8.400000</td>\n",
       "      <td>16.300000</td>\n",
       "    </tr>\n",
       "    <tr>\n",
       "      <th>75%</th>\n",
       "      <td>3.400000</td>\n",
       "      <td>35.250000</td>\n",
       "      <td>14.100000</td>\n",
       "      <td>28.450000</td>\n",
       "    </tr>\n",
       "    <tr>\n",
       "      <th>max</th>\n",
       "      <td>40.200000</td>\n",
       "      <td>53.500000</td>\n",
       "      <td>29.400000</td>\n",
       "      <td>68.600000</td>\n",
       "    </tr>\n",
       "  </tbody>\n",
       "</table>\n",
       "</div>"
      ],
      "text/plain": [
       "       aboriginal_torres_strait_percent  born_overseas_percent  \\\n",
       "count                        151.000000             151.000000   \n",
       "mean                           2.836424              25.692715   \n",
       "std                            4.219992              12.719455   \n",
       "min                            0.200000               5.500000   \n",
       "25%                            0.750000              13.800000   \n",
       "50%                            1.700000              25.300000   \n",
       "75%                            3.400000              35.250000   \n",
       "max                           40.200000              53.500000   \n",
       "\n",
       "       recent_migrants_percent  different_language_percent  \n",
       "count               151.000000                  151.000000  \n",
       "mean                  9.521854                   20.029801  \n",
       "std                   6.342575                   16.553347  \n",
       "min                   1.100000                    2.100000  \n",
       "25%                   3.800000                    6.150000  \n",
       "50%                   8.400000                   16.300000  \n",
       "75%                  14.100000                   28.450000  \n",
       "max                  29.400000                   68.600000  "
      ]
     },
     "execution_count": 10,
     "metadata": {},
     "output_type": "execute_result"
    }
   ],
   "source": [
    "# Summary statistics cultural_div_df\n",
    "cultural_div_df.describe()"
   ]
  },
  {
   "cell_type": "code",
   "execution_count": 11,
   "metadata": {},
   "outputs": [
    {
     "data": {
      "text/html": [
       "<div>\n",
       "<style scoped>\n",
       "    .dataframe tbody tr th:only-of-type {\n",
       "        vertical-align: middle;\n",
       "    }\n",
       "\n",
       "    .dataframe tbody tr th {\n",
       "        vertical-align: top;\n",
       "    }\n",
       "\n",
       "    .dataframe thead th {\n",
       "        text-align: right;\n",
       "    }\n",
       "</style>\n",
       "<table border=\"1\" class=\"dataframe\">\n",
       "  <thead>\n",
       "    <tr style=\"text-align: right;\">\n",
       "      <th></th>\n",
       "      <th>division_id</th>\n",
       "      <th>electoral_division</th>\n",
       "      <th>state</th>\n",
       "    </tr>\n",
       "  </thead>\n",
       "  <tbody>\n",
       "    <tr>\n",
       "      <th>0</th>\n",
       "      <td>179</td>\n",
       "      <td>Adelaide</td>\n",
       "      <td>SA</td>\n",
       "    </tr>\n",
       "    <tr>\n",
       "      <th>1</th>\n",
       "      <td>197</td>\n",
       "      <td>Aston</td>\n",
       "      <td>VIC</td>\n",
       "    </tr>\n",
       "    <tr>\n",
       "      <th>2</th>\n",
       "      <td>198</td>\n",
       "      <td>Ballarat</td>\n",
       "      <td>VIC</td>\n",
       "    </tr>\n",
       "    <tr>\n",
       "      <th>3</th>\n",
       "      <td>103</td>\n",
       "      <td>Banks</td>\n",
       "      <td>NSW</td>\n",
       "    </tr>\n",
       "    <tr>\n",
       "      <th>4</th>\n",
       "      <td>180</td>\n",
       "      <td>Barker</td>\n",
       "      <td>SA</td>\n",
       "    </tr>\n",
       "  </tbody>\n",
       "</table>\n",
       "</div>"
      ],
      "text/plain": [
       "   division_id electoral_division state\n",
       "0          179           Adelaide    SA\n",
       "1          197              Aston   VIC\n",
       "2          198           Ballarat   VIC\n",
       "3          103              Banks   NSW\n",
       "4          180             Barker    SA"
      ]
     },
     "execution_count": 11,
     "metadata": {},
     "output_type": "execute_result"
    }
   ],
   "source": [
    "# Read in electorate division info csv\n",
    "div_df = pd.read_csv(\"01-output_electoral_division/electoral_division.csv\")\n",
    "div_df.head()"
   ]
  },
  {
   "cell_type": "code",
   "execution_count": 12,
   "metadata": {},
   "outputs": [
    {
     "data": {
      "text/plain": [
       "True"
      ]
     },
     "execution_count": 12,
     "metadata": {},
     "output_type": "execute_result"
    }
   ],
   "source": [
    "# Checking for duplicates\n",
    "div_df['division_id'].is_unique"
   ]
  },
  {
   "cell_type": "code",
   "execution_count": 13,
   "metadata": {},
   "outputs": [
    {
     "data": {
      "text/plain": [
       "division_id            int64\n",
       "electoral_division    object\n",
       "state                 object\n",
       "dtype: object"
      ]
     },
     "execution_count": 13,
     "metadata": {},
     "output_type": "execute_result"
    }
   ],
   "source": [
    "div_df.dtypes"
   ]
  },
  {
   "cell_type": "code",
   "execution_count": 14,
   "metadata": {},
   "outputs": [
    {
     "data": {
      "text/html": [
       "<div>\n",
       "<style scoped>\n",
       "    .dataframe tbody tr th:only-of-type {\n",
       "        vertical-align: middle;\n",
       "    }\n",
       "\n",
       "    .dataframe tbody tr th {\n",
       "        vertical-align: top;\n",
       "    }\n",
       "\n",
       "    .dataframe thead th {\n",
       "        text-align: right;\n",
       "    }\n",
       "</style>\n",
       "<table border=\"1\" class=\"dataframe\">\n",
       "  <thead>\n",
       "    <tr style=\"text-align: right;\">\n",
       "      <th></th>\n",
       "      <th>division_id</th>\n",
       "    </tr>\n",
       "  </thead>\n",
       "  <tbody>\n",
       "    <tr>\n",
       "      <th>count</th>\n",
       "      <td>150.000000</td>\n",
       "    </tr>\n",
       "    <tr>\n",
       "      <th>mean</th>\n",
       "      <td>188.820000</td>\n",
       "    </tr>\n",
       "    <tr>\n",
       "      <th>std</th>\n",
       "      <td>55.471992</td>\n",
       "    </tr>\n",
       "    <tr>\n",
       "      <th>min</th>\n",
       "      <td>101.000000</td>\n",
       "    </tr>\n",
       "    <tr>\n",
       "      <th>25%</th>\n",
       "      <td>145.250000</td>\n",
       "    </tr>\n",
       "    <tr>\n",
       "      <th>50%</th>\n",
       "      <td>186.500000</td>\n",
       "    </tr>\n",
       "    <tr>\n",
       "      <th>75%</th>\n",
       "      <td>225.750000</td>\n",
       "    </tr>\n",
       "    <tr>\n",
       "      <th>max</th>\n",
       "      <td>317.000000</td>\n",
       "    </tr>\n",
       "  </tbody>\n",
       "</table>\n",
       "</div>"
      ],
      "text/plain": [
       "       division_id\n",
       "count   150.000000\n",
       "mean    188.820000\n",
       "std      55.471992\n",
       "min     101.000000\n",
       "25%     145.250000\n",
       "50%     186.500000\n",
       "75%     225.750000\n",
       "max     317.000000"
      ]
     },
     "execution_count": 14,
     "metadata": {},
     "output_type": "execute_result"
    }
   ],
   "source": [
    "# Summary statistics div_df\n",
    "div_df.describe()"
   ]
  },
  {
   "cell_type": "code",
   "execution_count": 15,
   "metadata": {},
   "outputs": [
    {
     "data": {
      "text/html": [
       "<div>\n",
       "<style scoped>\n",
       "    .dataframe tbody tr th:only-of-type {\n",
       "        vertical-align: middle;\n",
       "    }\n",
       "\n",
       "    .dataframe tbody tr th {\n",
       "        vertical-align: top;\n",
       "    }\n",
       "\n",
       "    .dataframe thead th {\n",
       "        text-align: right;\n",
       "    }\n",
       "</style>\n",
       "<table border=\"1\" class=\"dataframe\">\n",
       "  <thead>\n",
       "    <tr style=\"text-align: right;\">\n",
       "      <th></th>\n",
       "      <th>electoral_division</th>\n",
       "      <th>aboriginal_torres_strait_percent</th>\n",
       "      <th>born_overseas_percent</th>\n",
       "      <th>recent_migrants_percent</th>\n",
       "      <th>different_language_percent</th>\n",
       "      <th>division_id</th>\n",
       "      <th>state</th>\n",
       "    </tr>\n",
       "  </thead>\n",
       "  <tbody>\n",
       "    <tr>\n",
       "      <th>0</th>\n",
       "      <td>Adelaide</td>\n",
       "      <td>1.2</td>\n",
       "      <td>35.0</td>\n",
       "      <td>17.6</td>\n",
       "      <td>34.6</td>\n",
       "      <td>179</td>\n",
       "      <td>SA</td>\n",
       "    </tr>\n",
       "    <tr>\n",
       "      <th>1</th>\n",
       "      <td>Aston</td>\n",
       "      <td>0.5</td>\n",
       "      <td>30.2</td>\n",
       "      <td>8.8</td>\n",
       "      <td>25.2</td>\n",
       "      <td>197</td>\n",
       "      <td>VIC</td>\n",
       "    </tr>\n",
       "    <tr>\n",
       "      <th>2</th>\n",
       "      <td>Ballarat</td>\n",
       "      <td>1.3</td>\n",
       "      <td>10.5</td>\n",
       "      <td>3.0</td>\n",
       "      <td>5.3</td>\n",
       "      <td>198</td>\n",
       "      <td>VIC</td>\n",
       "    </tr>\n",
       "    <tr>\n",
       "      <th>3</th>\n",
       "      <td>Banks</td>\n",
       "      <td>0.8</td>\n",
       "      <td>38.9</td>\n",
       "      <td>12.8</td>\n",
       "      <td>45.2</td>\n",
       "      <td>103</td>\n",
       "      <td>NSW</td>\n",
       "    </tr>\n",
       "    <tr>\n",
       "      <th>4</th>\n",
       "      <td>Barker</td>\n",
       "      <td>2.5</td>\n",
       "      <td>10.9</td>\n",
       "      <td>3.2</td>\n",
       "      <td>5.7</td>\n",
       "      <td>180</td>\n",
       "      <td>SA</td>\n",
       "    </tr>\n",
       "  </tbody>\n",
       "</table>\n",
       "</div>"
      ],
      "text/plain": [
       "  electoral_division  aboriginal_torres_strait_percent  born_overseas_percent  \\\n",
       "0           Adelaide                               1.2                   35.0   \n",
       "1              Aston                               0.5                   30.2   \n",
       "2           Ballarat                               1.3                   10.5   \n",
       "3              Banks                               0.8                   38.9   \n",
       "4             Barker                               2.5                   10.9   \n",
       "\n",
       "   recent_migrants_percent  different_language_percent  division_id state  \n",
       "0                     17.6                        34.6          179    SA  \n",
       "1                      8.8                        25.2          197   VIC  \n",
       "2                      3.0                         5.3          198   VIC  \n",
       "3                     12.8                        45.2          103   NSW  \n",
       "4                      3.2                         5.7          180    SA  "
      ]
     },
     "execution_count": 15,
     "metadata": {},
     "output_type": "execute_result"
    }
   ],
   "source": [
    "# Add in division column to cultural_diversity df through left join\n",
    "merged = pd.merge(cultural_div_df,\n",
    "                     div_df,  \n",
    "                     on ='electoral_division',  \n",
    "                     how ='inner') \n",
    "\n",
    "merged.head()"
   ]
  },
  {
   "cell_type": "code",
   "execution_count": 16,
   "metadata": {},
   "outputs": [
    {
     "data": {
      "text/html": [
       "<div>\n",
       "<style scoped>\n",
       "    .dataframe tbody tr th:only-of-type {\n",
       "        vertical-align: middle;\n",
       "    }\n",
       "\n",
       "    .dataframe tbody tr th {\n",
       "        vertical-align: top;\n",
       "    }\n",
       "\n",
       "    .dataframe thead th {\n",
       "        text-align: right;\n",
       "    }\n",
       "</style>\n",
       "<table border=\"1\" class=\"dataframe\">\n",
       "  <thead>\n",
       "    <tr style=\"text-align: right;\">\n",
       "      <th></th>\n",
       "      <th>aboriginal_torres_strait_percent</th>\n",
       "      <th>born_overseas_percent</th>\n",
       "      <th>recent_migrants_percent</th>\n",
       "      <th>different_language_percent</th>\n",
       "      <th>division_id</th>\n",
       "    </tr>\n",
       "  </thead>\n",
       "  <tbody>\n",
       "    <tr>\n",
       "      <th>0</th>\n",
       "      <td>1.2</td>\n",
       "      <td>35.0</td>\n",
       "      <td>17.6</td>\n",
       "      <td>34.6</td>\n",
       "      <td>179</td>\n",
       "    </tr>\n",
       "    <tr>\n",
       "      <th>1</th>\n",
       "      <td>0.5</td>\n",
       "      <td>30.2</td>\n",
       "      <td>8.8</td>\n",
       "      <td>25.2</td>\n",
       "      <td>197</td>\n",
       "    </tr>\n",
       "    <tr>\n",
       "      <th>2</th>\n",
       "      <td>1.3</td>\n",
       "      <td>10.5</td>\n",
       "      <td>3.0</td>\n",
       "      <td>5.3</td>\n",
       "      <td>198</td>\n",
       "    </tr>\n",
       "    <tr>\n",
       "      <th>3</th>\n",
       "      <td>0.8</td>\n",
       "      <td>38.9</td>\n",
       "      <td>12.8</td>\n",
       "      <td>45.2</td>\n",
       "      <td>103</td>\n",
       "    </tr>\n",
       "    <tr>\n",
       "      <th>4</th>\n",
       "      <td>2.5</td>\n",
       "      <td>10.9</td>\n",
       "      <td>3.2</td>\n",
       "      <td>5.7</td>\n",
       "      <td>180</td>\n",
       "    </tr>\n",
       "  </tbody>\n",
       "</table>\n",
       "</div>"
      ],
      "text/plain": [
       "   aboriginal_torres_strait_percent  born_overseas_percent  \\\n",
       "0                               1.2                   35.0   \n",
       "1                               0.5                   30.2   \n",
       "2                               1.3                   10.5   \n",
       "3                               0.8                   38.9   \n",
       "4                               2.5                   10.9   \n",
       "\n",
       "   recent_migrants_percent  different_language_percent  division_id  \n",
       "0                     17.6                        34.6          179  \n",
       "1                      8.8                        25.2          197  \n",
       "2                      3.0                         5.3          198  \n",
       "3                     12.8                        45.2          103  \n",
       "4                      3.2                         5.7          180  "
      ]
     },
     "execution_count": 16,
     "metadata": {},
     "output_type": "execute_result"
    }
   ],
   "source": [
    "# Delete electoral_division and state column\n",
    "merged.drop([\"state\", \"electoral_division\"], axis=1, inplace=True)\n",
    "merged.head()"
   ]
  },
  {
   "cell_type": "code",
   "execution_count": 17,
   "metadata": {},
   "outputs": [],
   "source": [
    "# Set division_id as index\n",
    "merged = merged.set_index('division_id')"
   ]
  },
  {
   "cell_type": "code",
   "execution_count": 18,
   "metadata": {},
   "outputs": [
    {
     "data": {
      "text/plain": [
       "aboriginal_torres_strait_percent    float64\n",
       "born_overseas_percent               float64\n",
       "recent_migrants_percent             float64\n",
       "different_language_percent          float64\n",
       "dtype: object"
      ]
     },
     "execution_count": 18,
     "metadata": {},
     "output_type": "execute_result"
    }
   ],
   "source": [
    "# show datatypes\n",
    "merged.dtypes"
   ]
  },
  {
   "cell_type": "code",
   "execution_count": 19,
   "metadata": {},
   "outputs": [
    {
     "data": {
      "text/plain": [
       "143"
      ]
     },
     "execution_count": 19,
     "metadata": {},
     "output_type": "execute_result"
    }
   ],
   "source": [
    "len(merged)"
   ]
  },
  {
   "cell_type": "code",
   "execution_count": 20,
   "metadata": {},
   "outputs": [
    {
     "data": {
      "text/html": [
       "<div>\n",
       "<style scoped>\n",
       "    .dataframe tbody tr th:only-of-type {\n",
       "        vertical-align: middle;\n",
       "    }\n",
       "\n",
       "    .dataframe tbody tr th {\n",
       "        vertical-align: top;\n",
       "    }\n",
       "\n",
       "    .dataframe thead th {\n",
       "        text-align: right;\n",
       "    }\n",
       "</style>\n",
       "<table border=\"1\" class=\"dataframe\">\n",
       "  <thead>\n",
       "    <tr style=\"text-align: right;\">\n",
       "      <th></th>\n",
       "      <th>aboriginal_torres_strait_percent</th>\n",
       "      <th>born_overseas_percent</th>\n",
       "      <th>recent_migrants_percent</th>\n",
       "      <th>different_language_percent</th>\n",
       "    </tr>\n",
       "    <tr>\n",
       "      <th>division_id</th>\n",
       "      <th></th>\n",
       "      <th></th>\n",
       "      <th></th>\n",
       "      <th></th>\n",
       "    </tr>\n",
       "  </thead>\n",
       "  <tbody>\n",
       "    <tr>\n",
       "      <th>179</th>\n",
       "      <td>1.2</td>\n",
       "      <td>35.0</td>\n",
       "      <td>17.6</td>\n",
       "      <td>34.6</td>\n",
       "    </tr>\n",
       "    <tr>\n",
       "      <th>197</th>\n",
       "      <td>0.5</td>\n",
       "      <td>30.2</td>\n",
       "      <td>8.8</td>\n",
       "      <td>25.2</td>\n",
       "    </tr>\n",
       "    <tr>\n",
       "      <th>198</th>\n",
       "      <td>1.3</td>\n",
       "      <td>10.5</td>\n",
       "      <td>3.0</td>\n",
       "      <td>5.3</td>\n",
       "    </tr>\n",
       "    <tr>\n",
       "      <th>103</th>\n",
       "      <td>0.8</td>\n",
       "      <td>38.9</td>\n",
       "      <td>12.8</td>\n",
       "      <td>45.2</td>\n",
       "    </tr>\n",
       "    <tr>\n",
       "      <th>180</th>\n",
       "      <td>2.5</td>\n",
       "      <td>10.9</td>\n",
       "      <td>3.2</td>\n",
       "      <td>5.7</td>\n",
       "    </tr>\n",
       "  </tbody>\n",
       "</table>\n",
       "</div>"
      ],
      "text/plain": [
       "             aboriginal_torres_strait_percent  born_overseas_percent  \\\n",
       "division_id                                                            \n",
       "179                                       1.2                   35.0   \n",
       "197                                       0.5                   30.2   \n",
       "198                                       1.3                   10.5   \n",
       "103                                       0.8                   38.9   \n",
       "180                                       2.5                   10.9   \n",
       "\n",
       "             recent_migrants_percent  different_language_percent  \n",
       "division_id                                                       \n",
       "179                             17.6                        34.6  \n",
       "197                              8.8                        25.2  \n",
       "198                              3.0                         5.3  \n",
       "103                             12.8                        45.2  \n",
       "180                              3.2                         5.7  "
      ]
     },
     "execution_count": 20,
     "metadata": {},
     "output_type": "execute_result"
    }
   ],
   "source": [
    "# Show top 5 rows\n",
    "merged.head()"
   ]
  },
  {
   "cell_type": "code",
   "execution_count": 21,
   "metadata": {},
   "outputs": [
    {
     "data": {
      "text/html": [
       "<div>\n",
       "<style scoped>\n",
       "    .dataframe tbody tr th:only-of-type {\n",
       "        vertical-align: middle;\n",
       "    }\n",
       "\n",
       "    .dataframe tbody tr th {\n",
       "        vertical-align: top;\n",
       "    }\n",
       "\n",
       "    .dataframe thead th {\n",
       "        text-align: right;\n",
       "    }\n",
       "</style>\n",
       "<table border=\"1\" class=\"dataframe\">\n",
       "  <thead>\n",
       "    <tr style=\"text-align: right;\">\n",
       "      <th></th>\n",
       "      <th>aboriginal_torres_strait_percent</th>\n",
       "      <th>born_overseas_percent</th>\n",
       "      <th>recent_migrants_percent</th>\n",
       "      <th>different_language_percent</th>\n",
       "    </tr>\n",
       "  </thead>\n",
       "  <tbody>\n",
       "    <tr>\n",
       "      <th>count</th>\n",
       "      <td>143.000000</td>\n",
       "      <td>143.000000</td>\n",
       "      <td>143.000000</td>\n",
       "      <td>143.000000</td>\n",
       "    </tr>\n",
       "    <tr>\n",
       "      <th>mean</th>\n",
       "      <td>2.903497</td>\n",
       "      <td>25.711189</td>\n",
       "      <td>9.537762</td>\n",
       "      <td>19.908392</td>\n",
       "    </tr>\n",
       "    <tr>\n",
       "      <th>std</th>\n",
       "      <td>4.320316</td>\n",
       "      <td>12.760547</td>\n",
       "      <td>6.392941</td>\n",
       "      <td>16.528543</td>\n",
       "    </tr>\n",
       "    <tr>\n",
       "      <th>min</th>\n",
       "      <td>0.200000</td>\n",
       "      <td>5.500000</td>\n",
       "      <td>1.100000</td>\n",
       "      <td>2.100000</td>\n",
       "    </tr>\n",
       "    <tr>\n",
       "      <th>25%</th>\n",
       "      <td>0.750000</td>\n",
       "      <td>13.800000</td>\n",
       "      <td>3.600000</td>\n",
       "      <td>5.850000</td>\n",
       "    </tr>\n",
       "    <tr>\n",
       "      <th>50%</th>\n",
       "      <td>1.700000</td>\n",
       "      <td>25.700000</td>\n",
       "      <td>8.700000</td>\n",
       "      <td>16.300000</td>\n",
       "    </tr>\n",
       "    <tr>\n",
       "      <th>75%</th>\n",
       "      <td>3.500000</td>\n",
       "      <td>35.250000</td>\n",
       "      <td>14.100000</td>\n",
       "      <td>28.450000</td>\n",
       "    </tr>\n",
       "    <tr>\n",
       "      <th>max</th>\n",
       "      <td>40.200000</td>\n",
       "      <td>53.500000</td>\n",
       "      <td>29.400000</td>\n",
       "      <td>68.600000</td>\n",
       "    </tr>\n",
       "  </tbody>\n",
       "</table>\n",
       "</div>"
      ],
      "text/plain": [
       "       aboriginal_torres_strait_percent  born_overseas_percent  \\\n",
       "count                        143.000000             143.000000   \n",
       "mean                           2.903497              25.711189   \n",
       "std                            4.320316              12.760547   \n",
       "min                            0.200000               5.500000   \n",
       "25%                            0.750000              13.800000   \n",
       "50%                            1.700000              25.700000   \n",
       "75%                            3.500000              35.250000   \n",
       "max                           40.200000              53.500000   \n",
       "\n",
       "       recent_migrants_percent  different_language_percent  \n",
       "count               143.000000                  143.000000  \n",
       "mean                  9.537762                   19.908392  \n",
       "std                   6.392941                   16.528543  \n",
       "min                   1.100000                    2.100000  \n",
       "25%                   3.600000                    5.850000  \n",
       "50%                   8.700000                   16.300000  \n",
       "75%                  14.100000                   28.450000  \n",
       "max                  29.400000                   68.600000  "
      ]
     },
     "execution_count": 21,
     "metadata": {},
     "output_type": "execute_result"
    }
   ],
   "source": [
    "# Summary statistics merged\n",
    "merged.describe()"
   ]
  },
  {
   "cell_type": "code",
   "execution_count": 22,
   "metadata": {},
   "outputs": [],
   "source": [
    "# export df to csv\n",
    "merged.to_csv(\"09-output_cultural_diversity/09-cultural_diversity.csv\")"
   ]
  },
  {
   "cell_type": "markdown",
   "metadata": {},
   "source": [
    "# Exploratory analysis"
   ]
  },
  {
   "cell_type": "code",
   "execution_count": 23,
   "metadata": {},
   "outputs": [
    {
     "data": {
      "text/plain": [
       "<matplotlib.axes._subplots.AxesSubplot at 0x7fcac3ea8ac8>"
      ]
     },
     "execution_count": 23,
     "metadata": {},
     "output_type": "execute_result"
    },
    {
     "data": {
      "image/png": "[encoded data removed]",
      "text/plain": [
       "<Figure size 2880x1440 with 1 Axes>"
      ]
     },
     "metadata": {
      "needs_background": "light"
     },
     "output_type": "display_data"
    }
   ],
   "source": [
    "# Bar chart\n",
    "merged.plot.bar(rot=90, stacked=True, figsize=(40,20))"
   ]
  },
  {
   "cell_type": "code",
   "execution_count": 24,
   "metadata": {},
   "outputs": [
    {
     "data": {
      "text/plain": [
       "array([<matplotlib.axes._subplots.AxesSubplot object at 0x7fcac649a6a0>,\n",
       "       <matplotlib.axes._subplots.AxesSubplot object at 0x7fcac6676d30>,\n",
       "       <matplotlib.axes._subplots.AxesSubplot object at 0x7fcac66d7ef0>,\n",
       "       <matplotlib.axes._subplots.AxesSubplot object at 0x7fcac66ef160>],\n",
       "      dtype=object)"
      ]
     },
     "execution_count": 24,
     "metadata": {},
     "output_type": "execute_result"
    },
    {
     "data": {
      "image/png": "[encoded data removed]",
      "text/plain": [
       "<Figure size 2880x1440 with 4 Axes>"
      ]
     },
     "metadata": {
      "needs_background": "light"
     },
     "output_type": "display_data"
    }
   ],
   "source": [
    "# Bar chart\n",
    "merged.plot.bar(rot=90, subplots=True, figsize=(40,20))"
   ]
  },
  {
   "cell_type": "code",
   "execution_count": null,
   "metadata": {},
   "outputs": [],
   "source": []
  }
 ],
 "metadata": {
  "kernelspec": {
   "display_name": "Python 3",
   "language": "python",
   "name": "python3"
  },
  "language_info": {
   "codemirror_mode": {
    "name": "ipython",
    "version": 3
   },
   "file_extension": ".py",
   "mimetype": "text/x-python",
   "name": "python",
   "nbconvert_exporter": "python",
   "pygments_lexer": "ipython3",
   "version": "3.8.3"
  }
 },
 "nbformat": 4,
 "nbformat_minor": 4
}
