{
 "cells": [
  {
   "cell_type": "code",
   "execution_count": 1,
   "metadata": {},
   "outputs": [],
   "source": [
    "# Imports\n",
    "import pandas as pd"
   ]
  },
  {
   "cell_type": "code",
   "execution_count": 2,
   "metadata": {},
   "outputs": [],
   "source": [
    "# Setting the url\n",
    "url = 'https://results.aec.gov.au/20499/Website/HouseDivisionClassifications-20499-NAT.htm'"
   ]
  },
  {
   "cell_type": "code",
   "execution_count": 6,
   "metadata": {},
   "outputs": [
    {
     "data": {
      "text/plain": [
       "[            Division            State  Enrolment         Demographic  \\\n",
       " 0           Adelaide               SA     109217  Inner Metropolitan   \n",
       " 1              Aston              VIC      96043  Outer Metropolitan   \n",
       " 2           Ballarat              VIC     110755          Provincial   \n",
       " 3              Banks              NSW     104891  Inner Metropolitan   \n",
       " 4             Barker               SA     105600               Rural   \n",
       " ..               ...              ...        ...                 ...   \n",
       " 146          Whitlam              NSW     112051          Provincial   \n",
       " 147         Wide Bay              QLD     102856               Rural   \n",
       " 148            Wills              VIC     113851  Inner Metropolitan   \n",
       " 149           Wright              QLD      99969               Rural   \n",
       " 150  Total Enrolment  Total Enrolment   15671551                 NaN   \n",
       " \n",
       "              Previous party Previous seat status        Successful party  \\\n",
       " 0    Australian Labor Party             Marginal  Australian Labor Party   \n",
       " 1                   Liberal          Fairly Safe                 Liberal   \n",
       " 2    Australian Labor Party             Marginal  Australian Labor Party   \n",
       " 3                   Liberal             Marginal                 Liberal   \n",
       " 4                   Liberal                 Safe                 Liberal   \n",
       " ..                      ...                  ...                     ...   \n",
       " 146  Australian Labor Party          Fairly Safe  Australian Labor Party   \n",
       " 147  Liberal National Party                 Safe  Liberal National Party   \n",
       " 148  Australian Labor Party                 Safe  Australian Labor Party   \n",
       " 149  Liberal National Party                 Safe  Liberal National Party   \n",
       " 150                     NaN                  NaN                     NaN   \n",
       " \n",
       "      Seat status  \n",
       " 0       Marginal  \n",
       " 1    Fairly Safe  \n",
       " 2    Fairly Safe  \n",
       " 3       Marginal  \n",
       " 4       Marginal  \n",
       " ..           ...  \n",
       " 146         Safe  \n",
       " 147  Fairly Safe  \n",
       " 148     Marginal  \n",
       " 149  Fairly Safe  \n",
       " 150          NaN  \n",
       " \n",
       " [151 rows x 8 columns]]"
      ]
     },
     "execution_count": 6,
     "metadata": {},
     "output_type": "execute_result"
    }
   ],
   "source": [
    "# Using read_html function in Pandas to automatically scrape any tabular data from the webpage\n",
    "table = pd.read_html(url)\n",
    "table"
   ]
  },
  {
   "cell_type": "markdown",
   "metadata": {},
   "source": [
    "'table' is a list containing one table, this can be accessed using table[0]"
   ]
  },
  {
   "cell_type": "code",
   "execution_count": 7,
   "metadata": {},
   "outputs": [
    {
     "data": {
      "text/html": [
       "<div>\n",
       "<style scoped>\n",
       "    .dataframe tbody tr th:only-of-type {\n",
       "        vertical-align: middle;\n",
       "    }\n",
       "\n",
       "    .dataframe tbody tr th {\n",
       "        vertical-align: top;\n",
       "    }\n",
       "\n",
       "    .dataframe thead th {\n",
       "        text-align: right;\n",
       "    }\n",
       "</style>\n",
       "<table border=\"1\" class=\"dataframe\">\n",
       "  <thead>\n",
       "    <tr style=\"text-align: right;\">\n",
       "      <th></th>\n",
       "      <th>Division</th>\n",
       "      <th>State</th>\n",
       "      <th>Enrolment</th>\n",
       "      <th>Demographic</th>\n",
       "      <th>Previous party</th>\n",
       "      <th>Previous seat status</th>\n",
       "      <th>Successful party</th>\n",
       "      <th>Seat status</th>\n",
       "    </tr>\n",
       "  </thead>\n",
       "  <tbody>\n",
       "    <tr>\n",
       "      <th>0</th>\n",
       "      <td>Adelaide</td>\n",
       "      <td>SA</td>\n",
       "      <td>109217</td>\n",
       "      <td>Inner Metropolitan</td>\n",
       "      <td>Australian Labor Party</td>\n",
       "      <td>Marginal</td>\n",
       "      <td>Australian Labor Party</td>\n",
       "      <td>Marginal</td>\n",
       "    </tr>\n",
       "    <tr>\n",
       "      <th>1</th>\n",
       "      <td>Aston</td>\n",
       "      <td>VIC</td>\n",
       "      <td>96043</td>\n",
       "      <td>Outer Metropolitan</td>\n",
       "      <td>Liberal</td>\n",
       "      <td>Fairly Safe</td>\n",
       "      <td>Liberal</td>\n",
       "      <td>Fairly Safe</td>\n",
       "    </tr>\n",
       "    <tr>\n",
       "      <th>2</th>\n",
       "      <td>Ballarat</td>\n",
       "      <td>VIC</td>\n",
       "      <td>110755</td>\n",
       "      <td>Provincial</td>\n",
       "      <td>Australian Labor Party</td>\n",
       "      <td>Marginal</td>\n",
       "      <td>Australian Labor Party</td>\n",
       "      <td>Fairly Safe</td>\n",
       "    </tr>\n",
       "    <tr>\n",
       "      <th>3</th>\n",
       "      <td>Banks</td>\n",
       "      <td>NSW</td>\n",
       "      <td>104891</td>\n",
       "      <td>Inner Metropolitan</td>\n",
       "      <td>Liberal</td>\n",
       "      <td>Marginal</td>\n",
       "      <td>Liberal</td>\n",
       "      <td>Marginal</td>\n",
       "    </tr>\n",
       "    <tr>\n",
       "      <th>4</th>\n",
       "      <td>Barker</td>\n",
       "      <td>SA</td>\n",
       "      <td>105600</td>\n",
       "      <td>Rural</td>\n",
       "      <td>Liberal</td>\n",
       "      <td>Safe</td>\n",
       "      <td>Liberal</td>\n",
       "      <td>Marginal</td>\n",
       "    </tr>\n",
       "  </tbody>\n",
       "</table>\n",
       "</div>"
      ],
      "text/plain": [
       "   Division State  Enrolment         Demographic          Previous party  \\\n",
       "0  Adelaide    SA     109217  Inner Metropolitan  Australian Labor Party   \n",
       "1     Aston   VIC      96043  Outer Metropolitan                 Liberal   \n",
       "2  Ballarat   VIC     110755          Provincial  Australian Labor Party   \n",
       "3     Banks   NSW     104891  Inner Metropolitan                 Liberal   \n",
       "4    Barker    SA     105600               Rural                 Liberal   \n",
       "\n",
       "  Previous seat status        Successful party  Seat status  \n",
       "0             Marginal  Australian Labor Party     Marginal  \n",
       "1          Fairly Safe                 Liberal  Fairly Safe  \n",
       "2             Marginal  Australian Labor Party  Fairly Safe  \n",
       "3             Marginal                 Liberal     Marginal  \n",
       "4                 Safe                 Liberal     Marginal  "
      ]
     },
     "execution_count": 7,
     "metadata": {},
     "output_type": "execute_result"
    }
   ],
   "source": [
    "# Accessing the dataframe\n",
    "election_results_df = tables[0]\n",
    "election_results_df.head()"
   ]
  },
  {
   "cell_type": "code",
   "execution_count": 1,
   "metadata": {},
   "outputs": [],
   "source": [
    "# What columns do we want to take from this\n",
    "# Rename these so it matches folder 02\n",
    "# Do we want to set index to division ID like Catherine did"
   ]
  },
  {
   "cell_type": "code",
   "execution_count": null,
   "metadata": {},
   "outputs": [],
   "source": []
  }
 ],
 "metadata": {
  "kernelspec": {
   "display_name": "Python [conda env:PythonData] *",
   "language": "python",
   "name": "conda-env-PythonData-py"
  },
  "language_info": {
   "codemirror_mode": {
    "name": "ipython",
    "version": 3
   },
   "file_extension": ".py",
   "mimetype": "text/x-python",
   "name": "python",
   "nbconvert_exporter": "python",
   "pygments_lexer": "ipython3",
   "version": "3.6.10"
  }
 },
 "nbformat": 4,
 "nbformat_minor": 4
}
