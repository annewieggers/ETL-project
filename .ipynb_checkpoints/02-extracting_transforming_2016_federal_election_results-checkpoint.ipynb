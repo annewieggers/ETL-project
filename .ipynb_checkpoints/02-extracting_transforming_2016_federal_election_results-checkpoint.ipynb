{
 "cells": [
  {
   "cell_type": "code",
   "execution_count": 1,
   "metadata": {},
   "outputs": [],
   "source": [
    "# Imports\n",
    "import pandas as pd"
   ]
  },
  {
   "cell_type": "markdown",
   "metadata": {},
   "source": [
    "# Extracting "
   ]
  },
  {
   "cell_type": "markdown",
   "metadata": {},
   "source": [
    "### Extracting table data from the Australian Electoral Commission website"
   ]
  },
  {
   "cell_type": "code",
   "execution_count": 2,
   "metadata": {},
   "outputs": [],
   "source": [
    "# Setting the url\n",
    "url = 'https://results.aec.gov.au/20499/Website/HouseDivisionClassifications-20499-NAT.htm'"
   ]
  },
  {
   "cell_type": "code",
   "execution_count": 3,
   "metadata": {},
   "outputs": [
    {
     "data": {
      "text/plain": [
       "[            Division            State  Enrolment         Demographic  \\\n",
       " 0           Adelaide               SA     109217  Inner Metropolitan   \n",
       " 1              Aston              VIC      96043  Outer Metropolitan   \n",
       " 2           Ballarat              VIC     110755          Provincial   \n",
       " 3              Banks              NSW     104891  Inner Metropolitan   \n",
       " 4             Barker               SA     105600               Rural   \n",
       " ..               ...              ...        ...                 ...   \n",
       " 146          Whitlam              NSW     112051          Provincial   \n",
       " 147         Wide Bay              QLD     102856               Rural   \n",
       " 148            Wills              VIC     113851  Inner Metropolitan   \n",
       " 149           Wright              QLD      99969               Rural   \n",
       " 150  Total Enrolment  Total Enrolment   15671551                 NaN   \n",
       " \n",
       "              Previous party Previous seat status        Successful party  \\\n",
       " 0    Australian Labor Party             Marginal  Australian Labor Party   \n",
       " 1                   Liberal          Fairly Safe                 Liberal   \n",
       " 2    Australian Labor Party             Marginal  Australian Labor Party   \n",
       " 3                   Liberal             Marginal                 Liberal   \n",
       " 4                   Liberal                 Safe                 Liberal   \n",
       " ..                      ...                  ...                     ...   \n",
       " 146  Australian Labor Party          Fairly Safe  Australian Labor Party   \n",
       " 147  Liberal National Party                 Safe  Liberal National Party   \n",
       " 148  Australian Labor Party                 Safe  Australian Labor Party   \n",
       " 149  Liberal National Party                 Safe  Liberal National Party   \n",
       " 150                     NaN                  NaN                     NaN   \n",
       " \n",
       "      Seat status  \n",
       " 0       Marginal  \n",
       " 1    Fairly Safe  \n",
       " 2    Fairly Safe  \n",
       " 3       Marginal  \n",
       " 4       Marginal  \n",
       " ..           ...  \n",
       " 146         Safe  \n",
       " 147  Fairly Safe  \n",
       " 148     Marginal  \n",
       " 149  Fairly Safe  \n",
       " 150          NaN  \n",
       " \n",
       " [151 rows x 8 columns]]"
      ]
     },
     "execution_count": 3,
     "metadata": {},
     "output_type": "execute_result"
    }
   ],
   "source": [
    "# Using read_html function in Pandas to automatically scrape any tabular data from the webpage\n",
    "table = pd.read_html(url)\n",
    "table"
   ]
  },
  {
   "cell_type": "markdown",
   "metadata": {},
   "source": [
    "'table' is a list containing one table, this can be accessed using table[0]"
   ]
  },
  {
   "cell_type": "code",
   "execution_count": 4,
   "metadata": {},
   "outputs": [
    {
     "data": {
      "text/html": [
       "<div>\n",
       "<style scoped>\n",
       "    .dataframe tbody tr th:only-of-type {\n",
       "        vertical-align: middle;\n",
       "    }\n",
       "\n",
       "    .dataframe tbody tr th {\n",
       "        vertical-align: top;\n",
       "    }\n",
       "\n",
       "    .dataframe thead th {\n",
       "        text-align: right;\n",
       "    }\n",
       "</style>\n",
       "<table border=\"1\" class=\"dataframe\">\n",
       "  <thead>\n",
       "    <tr style=\"text-align: right;\">\n",
       "      <th></th>\n",
       "      <th>Division</th>\n",
       "      <th>State</th>\n",
       "      <th>Enrolment</th>\n",
       "      <th>Demographic</th>\n",
       "      <th>Previous party</th>\n",
       "      <th>Previous seat status</th>\n",
       "      <th>Successful party</th>\n",
       "      <th>Seat status</th>\n",
       "    </tr>\n",
       "  </thead>\n",
       "  <tbody>\n",
       "    <tr>\n",
       "      <th>0</th>\n",
       "      <td>Adelaide</td>\n",
       "      <td>SA</td>\n",
       "      <td>109217</td>\n",
       "      <td>Inner Metropolitan</td>\n",
       "      <td>Australian Labor Party</td>\n",
       "      <td>Marginal</td>\n",
       "      <td>Australian Labor Party</td>\n",
       "      <td>Marginal</td>\n",
       "    </tr>\n",
       "    <tr>\n",
       "      <th>1</th>\n",
       "      <td>Aston</td>\n",
       "      <td>VIC</td>\n",
       "      <td>96043</td>\n",
       "      <td>Outer Metropolitan</td>\n",
       "      <td>Liberal</td>\n",
       "      <td>Fairly Safe</td>\n",
       "      <td>Liberal</td>\n",
       "      <td>Fairly Safe</td>\n",
       "    </tr>\n",
       "    <tr>\n",
       "      <th>2</th>\n",
       "      <td>Ballarat</td>\n",
       "      <td>VIC</td>\n",
       "      <td>110755</td>\n",
       "      <td>Provincial</td>\n",
       "      <td>Australian Labor Party</td>\n",
       "      <td>Marginal</td>\n",
       "      <td>Australian Labor Party</td>\n",
       "      <td>Fairly Safe</td>\n",
       "    </tr>\n",
       "    <tr>\n",
       "      <th>3</th>\n",
       "      <td>Banks</td>\n",
       "      <td>NSW</td>\n",
       "      <td>104891</td>\n",
       "      <td>Inner Metropolitan</td>\n",
       "      <td>Liberal</td>\n",
       "      <td>Marginal</td>\n",
       "      <td>Liberal</td>\n",
       "      <td>Marginal</td>\n",
       "    </tr>\n",
       "    <tr>\n",
       "      <th>4</th>\n",
       "      <td>Barker</td>\n",
       "      <td>SA</td>\n",
       "      <td>105600</td>\n",
       "      <td>Rural</td>\n",
       "      <td>Liberal</td>\n",
       "      <td>Safe</td>\n",
       "      <td>Liberal</td>\n",
       "      <td>Marginal</td>\n",
       "    </tr>\n",
       "  </tbody>\n",
       "</table>\n",
       "</div>"
      ],
      "text/plain": [
       "   Division State  Enrolment         Demographic          Previous party  \\\n",
       "0  Adelaide    SA     109217  Inner Metropolitan  Australian Labor Party   \n",
       "1     Aston   VIC      96043  Outer Metropolitan                 Liberal   \n",
       "2  Ballarat   VIC     110755          Provincial  Australian Labor Party   \n",
       "3     Banks   NSW     104891  Inner Metropolitan                 Liberal   \n",
       "4    Barker    SA     105600               Rural                 Liberal   \n",
       "\n",
       "  Previous seat status        Successful party  Seat status  \n",
       "0             Marginal  Australian Labor Party     Marginal  \n",
       "1          Fairly Safe                 Liberal  Fairly Safe  \n",
       "2             Marginal  Australian Labor Party  Fairly Safe  \n",
       "3             Marginal                 Liberal     Marginal  \n",
       "4                 Safe                 Liberal     Marginal  "
      ]
     },
     "execution_count": 4,
     "metadata": {},
     "output_type": "execute_result"
    }
   ],
   "source": [
    "# Accessing and viewing the dataframe\n",
    "election_results_df = table[0]\n",
    "election_results_df.head()"
   ]
  },
  {
   "cell_type": "markdown",
   "metadata": {},
   "source": [
    "# Transforming"
   ]
  },
  {
   "cell_type": "markdown",
   "metadata": {},
   "source": [
    "### Removing unwanted columns and renaming"
   ]
  },
  {
   "cell_type": "code",
   "execution_count": 5,
   "metadata": {},
   "outputs": [
    {
     "data": {
      "text/html": [
       "<div>\n",
       "<style scoped>\n",
       "    .dataframe tbody tr th:only-of-type {\n",
       "        vertical-align: middle;\n",
       "    }\n",
       "\n",
       "    .dataframe tbody tr th {\n",
       "        vertical-align: top;\n",
       "    }\n",
       "\n",
       "    .dataframe thead th {\n",
       "        text-align: right;\n",
       "    }\n",
       "</style>\n",
       "<table border=\"1\" class=\"dataframe\">\n",
       "  <thead>\n",
       "    <tr style=\"text-align: right;\">\n",
       "      <th></th>\n",
       "      <th>Division</th>\n",
       "      <th>Enrolment</th>\n",
       "      <th>Demographic</th>\n",
       "      <th>Previous party</th>\n",
       "      <th>Previous seat status</th>\n",
       "      <th>Successful party</th>\n",
       "      <th>Seat status</th>\n",
       "    </tr>\n",
       "  </thead>\n",
       "  <tbody>\n",
       "    <tr>\n",
       "      <th>0</th>\n",
       "      <td>Adelaide</td>\n",
       "      <td>109217</td>\n",
       "      <td>Inner Metropolitan</td>\n",
       "      <td>Australian Labor Party</td>\n",
       "      <td>Marginal</td>\n",
       "      <td>Australian Labor Party</td>\n",
       "      <td>Marginal</td>\n",
       "    </tr>\n",
       "    <tr>\n",
       "      <th>1</th>\n",
       "      <td>Aston</td>\n",
       "      <td>96043</td>\n",
       "      <td>Outer Metropolitan</td>\n",
       "      <td>Liberal</td>\n",
       "      <td>Fairly Safe</td>\n",
       "      <td>Liberal</td>\n",
       "      <td>Fairly Safe</td>\n",
       "    </tr>\n",
       "    <tr>\n",
       "      <th>2</th>\n",
       "      <td>Ballarat</td>\n",
       "      <td>110755</td>\n",
       "      <td>Provincial</td>\n",
       "      <td>Australian Labor Party</td>\n",
       "      <td>Marginal</td>\n",
       "      <td>Australian Labor Party</td>\n",
       "      <td>Fairly Safe</td>\n",
       "    </tr>\n",
       "    <tr>\n",
       "      <th>3</th>\n",
       "      <td>Banks</td>\n",
       "      <td>104891</td>\n",
       "      <td>Inner Metropolitan</td>\n",
       "      <td>Liberal</td>\n",
       "      <td>Marginal</td>\n",
       "      <td>Liberal</td>\n",
       "      <td>Marginal</td>\n",
       "    </tr>\n",
       "    <tr>\n",
       "      <th>4</th>\n",
       "      <td>Barker</td>\n",
       "      <td>105600</td>\n",
       "      <td>Rural</td>\n",
       "      <td>Liberal</td>\n",
       "      <td>Safe</td>\n",
       "      <td>Liberal</td>\n",
       "      <td>Marginal</td>\n",
       "    </tr>\n",
       "  </tbody>\n",
       "</table>\n",
       "</div>"
      ],
      "text/plain": [
       "   Division  Enrolment         Demographic          Previous party  \\\n",
       "0  Adelaide     109217  Inner Metropolitan  Australian Labor Party   \n",
       "1     Aston      96043  Outer Metropolitan                 Liberal   \n",
       "2  Ballarat     110755          Provincial  Australian Labor Party   \n",
       "3     Banks     104891  Inner Metropolitan                 Liberal   \n",
       "4    Barker     105600               Rural                 Liberal   \n",
       "\n",
       "  Previous seat status        Successful party  Seat status  \n",
       "0             Marginal  Australian Labor Party     Marginal  \n",
       "1          Fairly Safe                 Liberal  Fairly Safe  \n",
       "2             Marginal  Australian Labor Party  Fairly Safe  \n",
       "3             Marginal                 Liberal     Marginal  \n",
       "4                 Safe                 Liberal     Marginal  "
      ]
     },
     "execution_count": 5,
     "metadata": {},
     "output_type": "execute_result"
    }
   ],
   "source": [
    "# Dropping State column\n",
    "election_results_df = election_results_df.drop(columns = [\"State\"])\n",
    "election_results_df.head()"
   ]
  },
  {
   "cell_type": "code",
   "execution_count": 6,
   "metadata": {},
   "outputs": [
    {
     "data": {
      "text/html": [
       "<div>\n",
       "<style scoped>\n",
       "    .dataframe tbody tr th:only-of-type {\n",
       "        vertical-align: middle;\n",
       "    }\n",
       "\n",
       "    .dataframe tbody tr th {\n",
       "        vertical-align: top;\n",
       "    }\n",
       "\n",
       "    .dataframe thead th {\n",
       "        text-align: right;\n",
       "    }\n",
       "</style>\n",
       "<table border=\"1\" class=\"dataframe\">\n",
       "  <thead>\n",
       "    <tr style=\"text-align: right;\">\n",
       "      <th></th>\n",
       "      <th>electoral_division</th>\n",
       "      <th>enrolment</th>\n",
       "      <th>demographic</th>\n",
       "      <th>previous_party</th>\n",
       "      <th>previous_seat_status</th>\n",
       "      <th>successful_party</th>\n",
       "      <th>seat_status</th>\n",
       "    </tr>\n",
       "  </thead>\n",
       "  <tbody>\n",
       "    <tr>\n",
       "      <th>0</th>\n",
       "      <td>Adelaide</td>\n",
       "      <td>109217</td>\n",
       "      <td>Inner Metropolitan</td>\n",
       "      <td>Australian Labor Party</td>\n",
       "      <td>Marginal</td>\n",
       "      <td>Australian Labor Party</td>\n",
       "      <td>Marginal</td>\n",
       "    </tr>\n",
       "    <tr>\n",
       "      <th>1</th>\n",
       "      <td>Aston</td>\n",
       "      <td>96043</td>\n",
       "      <td>Outer Metropolitan</td>\n",
       "      <td>Liberal</td>\n",
       "      <td>Fairly Safe</td>\n",
       "      <td>Liberal</td>\n",
       "      <td>Fairly Safe</td>\n",
       "    </tr>\n",
       "    <tr>\n",
       "      <th>2</th>\n",
       "      <td>Ballarat</td>\n",
       "      <td>110755</td>\n",
       "      <td>Provincial</td>\n",
       "      <td>Australian Labor Party</td>\n",
       "      <td>Marginal</td>\n",
       "      <td>Australian Labor Party</td>\n",
       "      <td>Fairly Safe</td>\n",
       "    </tr>\n",
       "    <tr>\n",
       "      <th>3</th>\n",
       "      <td>Banks</td>\n",
       "      <td>104891</td>\n",
       "      <td>Inner Metropolitan</td>\n",
       "      <td>Liberal</td>\n",
       "      <td>Marginal</td>\n",
       "      <td>Liberal</td>\n",
       "      <td>Marginal</td>\n",
       "    </tr>\n",
       "    <tr>\n",
       "      <th>4</th>\n",
       "      <td>Barker</td>\n",
       "      <td>105600</td>\n",
       "      <td>Rural</td>\n",
       "      <td>Liberal</td>\n",
       "      <td>Safe</td>\n",
       "      <td>Liberal</td>\n",
       "      <td>Marginal</td>\n",
       "    </tr>\n",
       "  </tbody>\n",
       "</table>\n",
       "</div>"
      ],
      "text/plain": [
       "  electoral_division  enrolment         demographic          previous_party  \\\n",
       "0           Adelaide     109217  Inner Metropolitan  Australian Labor Party   \n",
       "1              Aston      96043  Outer Metropolitan                 Liberal   \n",
       "2           Ballarat     110755          Provincial  Australian Labor Party   \n",
       "3              Banks     104891  Inner Metropolitan                 Liberal   \n",
       "4             Barker     105600               Rural                 Liberal   \n",
       "\n",
       "  previous_seat_status        successful_party  seat_status  \n",
       "0             Marginal  Australian Labor Party     Marginal  \n",
       "1          Fairly Safe                 Liberal  Fairly Safe  \n",
       "2             Marginal  Australian Labor Party  Fairly Safe  \n",
       "3             Marginal                 Liberal     Marginal  \n",
       "4                 Safe                 Liberal     Marginal  "
      ]
     },
     "execution_count": 6,
     "metadata": {},
     "output_type": "execute_result"
    }
   ],
   "source": [
    "# Renaming the columns\n",
    "election_results_df.columns = ['electoral_division', 'enrolment', 'demographic', 'previous_party', \n",
    "                               'previous_seat_status', 'successful_party', 'seat_status']\n",
    "election_results_df.head()"
   ]
  },
  {
   "cell_type": "markdown",
   "metadata": {},
   "source": [
    "### Checking for the presence of NaN values"
   ]
  },
  {
   "cell_type": "code",
   "execution_count": 7,
   "metadata": {},
   "outputs": [
    {
     "data": {
      "text/html": [
       "<div>\n",
       "<style scoped>\n",
       "    .dataframe tbody tr th:only-of-type {\n",
       "        vertical-align: middle;\n",
       "    }\n",
       "\n",
       "    .dataframe tbody tr th {\n",
       "        vertical-align: top;\n",
       "    }\n",
       "\n",
       "    .dataframe thead th {\n",
       "        text-align: right;\n",
       "    }\n",
       "</style>\n",
       "<table border=\"1\" class=\"dataframe\">\n",
       "  <thead>\n",
       "    <tr style=\"text-align: right;\">\n",
       "      <th></th>\n",
       "      <th>electoral_division</th>\n",
       "      <th>enrolment</th>\n",
       "      <th>demographic</th>\n",
       "      <th>previous_party</th>\n",
       "      <th>previous_seat_status</th>\n",
       "      <th>successful_party</th>\n",
       "      <th>seat_status</th>\n",
       "    </tr>\n",
       "  </thead>\n",
       "  <tbody>\n",
       "    <tr>\n",
       "      <th>0</th>\n",
       "      <td>False</td>\n",
       "      <td>False</td>\n",
       "      <td>False</td>\n",
       "      <td>False</td>\n",
       "      <td>False</td>\n",
       "      <td>False</td>\n",
       "      <td>False</td>\n",
       "    </tr>\n",
       "    <tr>\n",
       "      <th>1</th>\n",
       "      <td>False</td>\n",
       "      <td>False</td>\n",
       "      <td>False</td>\n",
       "      <td>False</td>\n",
       "      <td>False</td>\n",
       "      <td>False</td>\n",
       "      <td>False</td>\n",
       "    </tr>\n",
       "    <tr>\n",
       "      <th>2</th>\n",
       "      <td>False</td>\n",
       "      <td>False</td>\n",
       "      <td>False</td>\n",
       "      <td>False</td>\n",
       "      <td>False</td>\n",
       "      <td>False</td>\n",
       "      <td>False</td>\n",
       "    </tr>\n",
       "    <tr>\n",
       "      <th>3</th>\n",
       "      <td>False</td>\n",
       "      <td>False</td>\n",
       "      <td>False</td>\n",
       "      <td>False</td>\n",
       "      <td>False</td>\n",
       "      <td>False</td>\n",
       "      <td>False</td>\n",
       "    </tr>\n",
       "    <tr>\n",
       "      <th>4</th>\n",
       "      <td>False</td>\n",
       "      <td>False</td>\n",
       "      <td>False</td>\n",
       "      <td>False</td>\n",
       "      <td>False</td>\n",
       "      <td>False</td>\n",
       "      <td>False</td>\n",
       "    </tr>\n",
       "    <tr>\n",
       "      <th>...</th>\n",
       "      <td>...</td>\n",
       "      <td>...</td>\n",
       "      <td>...</td>\n",
       "      <td>...</td>\n",
       "      <td>...</td>\n",
       "      <td>...</td>\n",
       "      <td>...</td>\n",
       "    </tr>\n",
       "    <tr>\n",
       "      <th>146</th>\n",
       "      <td>False</td>\n",
       "      <td>False</td>\n",
       "      <td>False</td>\n",
       "      <td>False</td>\n",
       "      <td>False</td>\n",
       "      <td>False</td>\n",
       "      <td>False</td>\n",
       "    </tr>\n",
       "    <tr>\n",
       "      <th>147</th>\n",
       "      <td>False</td>\n",
       "      <td>False</td>\n",
       "      <td>False</td>\n",
       "      <td>False</td>\n",
       "      <td>False</td>\n",
       "      <td>False</td>\n",
       "      <td>False</td>\n",
       "    </tr>\n",
       "    <tr>\n",
       "      <th>148</th>\n",
       "      <td>False</td>\n",
       "      <td>False</td>\n",
       "      <td>False</td>\n",
       "      <td>False</td>\n",
       "      <td>False</td>\n",
       "      <td>False</td>\n",
       "      <td>False</td>\n",
       "    </tr>\n",
       "    <tr>\n",
       "      <th>149</th>\n",
       "      <td>False</td>\n",
       "      <td>False</td>\n",
       "      <td>False</td>\n",
       "      <td>False</td>\n",
       "      <td>False</td>\n",
       "      <td>False</td>\n",
       "      <td>False</td>\n",
       "    </tr>\n",
       "    <tr>\n",
       "      <th>150</th>\n",
       "      <td>False</td>\n",
       "      <td>False</td>\n",
       "      <td>True</td>\n",
       "      <td>True</td>\n",
       "      <td>True</td>\n",
       "      <td>True</td>\n",
       "      <td>True</td>\n",
       "    </tr>\n",
       "  </tbody>\n",
       "</table>\n",
       "<p>151 rows × 7 columns</p>\n",
       "</div>"
      ],
      "text/plain": [
       "     electoral_division  enrolment  demographic  previous_party  \\\n",
       "0                 False      False        False           False   \n",
       "1                 False      False        False           False   \n",
       "2                 False      False        False           False   \n",
       "3                 False      False        False           False   \n",
       "4                 False      False        False           False   \n",
       "..                  ...        ...          ...             ...   \n",
       "146               False      False        False           False   \n",
       "147               False      False        False           False   \n",
       "148               False      False        False           False   \n",
       "149               False      False        False           False   \n",
       "150               False      False         True            True   \n",
       "\n",
       "     previous_seat_status  successful_party  seat_status  \n",
       "0                   False             False        False  \n",
       "1                   False             False        False  \n",
       "2                   False             False        False  \n",
       "3                   False             False        False  \n",
       "4                   False             False        False  \n",
       "..                    ...               ...          ...  \n",
       "146                 False             False        False  \n",
       "147                 False             False        False  \n",
       "148                 False             False        False  \n",
       "149                 False             False        False  \n",
       "150                  True              True         True  \n",
       "\n",
       "[151 rows x 7 columns]"
      ]
     },
     "execution_count": 7,
     "metadata": {},
     "output_type": "execute_result"
    }
   ],
   "source": [
    "# Checking for NaN values in the dataframe\n",
    "election_results_df.isnull()"
   ]
  },
  {
   "cell_type": "markdown",
   "metadata": {},
   "source": [
    "The results show 5 NaN values in row 150. "
   ]
  },
  {
   "cell_type": "markdown",
   "metadata": {},
   "source": [
    "To confirm that these are the only NaN values in the dataframe, the sum of the NaN values will be calculated."
   ]
  },
  {
   "cell_type": "code",
   "execution_count": 8,
   "metadata": {},
   "outputs": [
    {
     "name": "stdout",
     "output_type": "stream",
     "text": [
      "electoral_division      0\n",
      "enrolment               0\n",
      "demographic             1\n",
      "previous_party          1\n",
      "previous_seat_status    1\n",
      "successful_party        1\n",
      "seat_status             1\n",
      "dtype: int64\n",
      "There are 5 NaN values present.\n"
     ]
    }
   ],
   "source": [
    "# Summing the NaN values to see how many there are per column\n",
    "print(election_results_df.isnull().sum())\n",
    "\n",
    "# Determining the total number of NaN values\n",
    "print(f\"There are {election_results_df.isnull().sum().sum()} NaN values present.\")"
   ]
  },
  {
   "cell_type": "markdown",
   "metadata": {},
   "source": [
    "The above summations confirms that there are a total of 5 NaN values present in the data frame, all in the final row. "
   ]
  },
  {
   "cell_type": "code",
   "execution_count": 9,
   "metadata": {},
   "outputs": [
    {
     "data": {
      "text/html": [
       "<div>\n",
       "<style scoped>\n",
       "    .dataframe tbody tr th:only-of-type {\n",
       "        vertical-align: middle;\n",
       "    }\n",
       "\n",
       "    .dataframe tbody tr th {\n",
       "        vertical-align: top;\n",
       "    }\n",
       "\n",
       "    .dataframe thead th {\n",
       "        text-align: right;\n",
       "    }\n",
       "</style>\n",
       "<table border=\"1\" class=\"dataframe\">\n",
       "  <thead>\n",
       "    <tr style=\"text-align: right;\">\n",
       "      <th></th>\n",
       "      <th>electoral_division</th>\n",
       "      <th>enrolment</th>\n",
       "      <th>demographic</th>\n",
       "      <th>previous_party</th>\n",
       "      <th>previous_seat_status</th>\n",
       "      <th>successful_party</th>\n",
       "      <th>seat_status</th>\n",
       "    </tr>\n",
       "  </thead>\n",
       "  <tbody>\n",
       "    <tr>\n",
       "      <th>146</th>\n",
       "      <td>Whitlam</td>\n",
       "      <td>112051</td>\n",
       "      <td>Provincial</td>\n",
       "      <td>Australian Labor Party</td>\n",
       "      <td>Fairly Safe</td>\n",
       "      <td>Australian Labor Party</td>\n",
       "      <td>Safe</td>\n",
       "    </tr>\n",
       "    <tr>\n",
       "      <th>147</th>\n",
       "      <td>Wide Bay</td>\n",
       "      <td>102856</td>\n",
       "      <td>Rural</td>\n",
       "      <td>Liberal National Party</td>\n",
       "      <td>Safe</td>\n",
       "      <td>Liberal National Party</td>\n",
       "      <td>Fairly Safe</td>\n",
       "    </tr>\n",
       "    <tr>\n",
       "      <th>148</th>\n",
       "      <td>Wills</td>\n",
       "      <td>113851</td>\n",
       "      <td>Inner Metropolitan</td>\n",
       "      <td>Australian Labor Party</td>\n",
       "      <td>Safe</td>\n",
       "      <td>Australian Labor Party</td>\n",
       "      <td>Marginal</td>\n",
       "    </tr>\n",
       "    <tr>\n",
       "      <th>149</th>\n",
       "      <td>Wright</td>\n",
       "      <td>99969</td>\n",
       "      <td>Rural</td>\n",
       "      <td>Liberal National Party</td>\n",
       "      <td>Safe</td>\n",
       "      <td>Liberal National Party</td>\n",
       "      <td>Fairly Safe</td>\n",
       "    </tr>\n",
       "    <tr>\n",
       "      <th>150</th>\n",
       "      <td>Total Enrolment</td>\n",
       "      <td>15671551</td>\n",
       "      <td>NaN</td>\n",
       "      <td>NaN</td>\n",
       "      <td>NaN</td>\n",
       "      <td>NaN</td>\n",
       "      <td>NaN</td>\n",
       "    </tr>\n",
       "  </tbody>\n",
       "</table>\n",
       "</div>"
      ],
      "text/plain": [
       "    electoral_division  enrolment         demographic          previous_party  \\\n",
       "146            Whitlam     112051          Provincial  Australian Labor Party   \n",
       "147           Wide Bay     102856               Rural  Liberal National Party   \n",
       "148              Wills     113851  Inner Metropolitan  Australian Labor Party   \n",
       "149             Wright      99969               Rural  Liberal National Party   \n",
       "150    Total Enrolment   15671551                 NaN                     NaN   \n",
       "\n",
       "    previous_seat_status        successful_party  seat_status  \n",
       "146          Fairly Safe  Australian Labor Party         Safe  \n",
       "147                 Safe  Liberal National Party  Fairly Safe  \n",
       "148                 Safe  Australian Labor Party     Marginal  \n",
       "149                 Safe  Liberal National Party  Fairly Safe  \n",
       "150                  NaN                     NaN          NaN  "
      ]
     },
     "execution_count": 9,
     "metadata": {},
     "output_type": "execute_result"
    }
   ],
   "source": [
    "election_results_df.tail()"
   ]
  },
  {
   "cell_type": "markdown",
   "metadata": {},
   "source": [
    "Row 150 contains a total enrolment calculation and can be removed as it is not needed."
   ]
  },
  {
   "cell_type": "code",
   "execution_count": 10,
   "metadata": {},
   "outputs": [
    {
     "data": {
      "text/html": [
       "<div>\n",
       "<style scoped>\n",
       "    .dataframe tbody tr th:only-of-type {\n",
       "        vertical-align: middle;\n",
       "    }\n",
       "\n",
       "    .dataframe tbody tr th {\n",
       "        vertical-align: top;\n",
       "    }\n",
       "\n",
       "    .dataframe thead th {\n",
       "        text-align: right;\n",
       "    }\n",
       "</style>\n",
       "<table border=\"1\" class=\"dataframe\">\n",
       "  <thead>\n",
       "    <tr style=\"text-align: right;\">\n",
       "      <th></th>\n",
       "      <th>electoral_division</th>\n",
       "      <th>enrolment</th>\n",
       "      <th>demographic</th>\n",
       "      <th>previous_party</th>\n",
       "      <th>previous_seat_status</th>\n",
       "      <th>successful_party</th>\n",
       "      <th>seat_status</th>\n",
       "    </tr>\n",
       "  </thead>\n",
       "  <tbody>\n",
       "    <tr>\n",
       "      <th>145</th>\n",
       "      <td>Werriwa</td>\n",
       "      <td>108557</td>\n",
       "      <td>Outer Metropolitan</td>\n",
       "      <td>Australian Labor Party</td>\n",
       "      <td>Fairly Safe</td>\n",
       "      <td>Australian Labor Party</td>\n",
       "      <td>Fairly Safe</td>\n",
       "    </tr>\n",
       "    <tr>\n",
       "      <th>146</th>\n",
       "      <td>Whitlam</td>\n",
       "      <td>112051</td>\n",
       "      <td>Provincial</td>\n",
       "      <td>Australian Labor Party</td>\n",
       "      <td>Fairly Safe</td>\n",
       "      <td>Australian Labor Party</td>\n",
       "      <td>Safe</td>\n",
       "    </tr>\n",
       "    <tr>\n",
       "      <th>147</th>\n",
       "      <td>Wide Bay</td>\n",
       "      <td>102856</td>\n",
       "      <td>Rural</td>\n",
       "      <td>Liberal National Party</td>\n",
       "      <td>Safe</td>\n",
       "      <td>Liberal National Party</td>\n",
       "      <td>Fairly Safe</td>\n",
       "    </tr>\n",
       "    <tr>\n",
       "      <th>148</th>\n",
       "      <td>Wills</td>\n",
       "      <td>113851</td>\n",
       "      <td>Inner Metropolitan</td>\n",
       "      <td>Australian Labor Party</td>\n",
       "      <td>Safe</td>\n",
       "      <td>Australian Labor Party</td>\n",
       "      <td>Marginal</td>\n",
       "    </tr>\n",
       "    <tr>\n",
       "      <th>149</th>\n",
       "      <td>Wright</td>\n",
       "      <td>99969</td>\n",
       "      <td>Rural</td>\n",
       "      <td>Liberal National Party</td>\n",
       "      <td>Safe</td>\n",
       "      <td>Liberal National Party</td>\n",
       "      <td>Fairly Safe</td>\n",
       "    </tr>\n",
       "  </tbody>\n",
       "</table>\n",
       "</div>"
      ],
      "text/plain": [
       "    electoral_division  enrolment         demographic          previous_party  \\\n",
       "145            Werriwa     108557  Outer Metropolitan  Australian Labor Party   \n",
       "146            Whitlam     112051          Provincial  Australian Labor Party   \n",
       "147           Wide Bay     102856               Rural  Liberal National Party   \n",
       "148              Wills     113851  Inner Metropolitan  Australian Labor Party   \n",
       "149             Wright      99969               Rural  Liberal National Party   \n",
       "\n",
       "    previous_seat_status        successful_party  seat_status  \n",
       "145          Fairly Safe  Australian Labor Party  Fairly Safe  \n",
       "146          Fairly Safe  Australian Labor Party         Safe  \n",
       "147                 Safe  Liberal National Party  Fairly Safe  \n",
       "148                 Safe  Australian Labor Party     Marginal  \n",
       "149                 Safe  Liberal National Party  Fairly Safe  "
      ]
     },
     "execution_count": 10,
     "metadata": {},
     "output_type": "execute_result"
    }
   ],
   "source": [
    "election_results_df = election_results_df.dropna()\n",
    "election_results_df.tail()"
   ]
  },
  {
   "cell_type": "code",
   "execution_count": 11,
   "metadata": {},
   "outputs": [
    {
     "name": "stdout",
     "output_type": "stream",
     "text": [
      "There are now 0 NaN values present.\n"
     ]
    }
   ],
   "source": [
    "print(f\"There are now {election_results_df.isnull().sum().sum()} NaN values present.\")"
   ]
  },
  {
   "cell_type": "markdown",
   "metadata": {},
   "source": [
    "### Checking the datatypes"
   ]
  },
  {
   "cell_type": "code",
   "execution_count": 12,
   "metadata": {},
   "outputs": [
    {
     "data": {
      "text/plain": [
       "electoral_division      object\n",
       "enrolment                int64\n",
       "demographic             object\n",
       "previous_party          object\n",
       "previous_seat_status    object\n",
       "successful_party        object\n",
       "seat_status             object\n",
       "dtype: object"
      ]
     },
     "execution_count": 12,
     "metadata": {},
     "output_type": "execute_result"
    }
   ],
   "source": [
    "# check datatypes\n",
    "election_results_df.dtypes"
   ]
  },
  {
   "cell_type": "markdown",
   "metadata": {},
   "source": [
    "### Merging with a second dataframe"
   ]
  },
  {
   "cell_type": "markdown",
   "metadata": {},
   "source": [
    "Want to add the electoral division id to the election_results dataframe as an index and as a foreign key "
   ]
  },
  {
   "cell_type": "code",
   "execution_count": 13,
   "metadata": {},
   "outputs": [
    {
     "data": {
      "text/html": [
       "<div>\n",
       "<style scoped>\n",
       "    .dataframe tbody tr th:only-of-type {\n",
       "        vertical-align: middle;\n",
       "    }\n",
       "\n",
       "    .dataframe tbody tr th {\n",
       "        vertical-align: top;\n",
       "    }\n",
       "\n",
       "    .dataframe thead th {\n",
       "        text-align: right;\n",
       "    }\n",
       "</style>\n",
       "<table border=\"1\" class=\"dataframe\">\n",
       "  <thead>\n",
       "    <tr style=\"text-align: right;\">\n",
       "      <th></th>\n",
       "      <th>division_id</th>\n",
       "      <th>electoral_division</th>\n",
       "      <th>state</th>\n",
       "    </tr>\n",
       "  </thead>\n",
       "  <tbody>\n",
       "    <tr>\n",
       "      <th>0</th>\n",
       "      <td>179</td>\n",
       "      <td>Adelaide</td>\n",
       "      <td>SA</td>\n",
       "    </tr>\n",
       "    <tr>\n",
       "      <th>1</th>\n",
       "      <td>197</td>\n",
       "      <td>Aston</td>\n",
       "      <td>VIC</td>\n",
       "    </tr>\n",
       "    <tr>\n",
       "      <th>2</th>\n",
       "      <td>198</td>\n",
       "      <td>Ballarat</td>\n",
       "      <td>VIC</td>\n",
       "    </tr>\n",
       "    <tr>\n",
       "      <th>3</th>\n",
       "      <td>103</td>\n",
       "      <td>Banks</td>\n",
       "      <td>NSW</td>\n",
       "    </tr>\n",
       "    <tr>\n",
       "      <th>4</th>\n",
       "      <td>180</td>\n",
       "      <td>Barker</td>\n",
       "      <td>SA</td>\n",
       "    </tr>\n",
       "  </tbody>\n",
       "</table>\n",
       "</div>"
      ],
      "text/plain": [
       "   division_id electoral_division state\n",
       "0          179           Adelaide    SA\n",
       "1          197              Aston   VIC\n",
       "2          198           Ballarat   VIC\n",
       "3          103              Banks   NSW\n",
       "4          180             Barker    SA"
      ]
     },
     "execution_count": 13,
     "metadata": {},
     "output_type": "execute_result"
    }
   ],
   "source": [
    "# Reading in electoral division csv\n",
    "electoral_division_df = pd.read_csv(\"01-output_electorate_division_information/electoral_division.csv\")\n",
    "electoral_division_df.head()"
   ]
  },
  {
   "cell_type": "code",
   "execution_count": 14,
   "metadata": {},
   "outputs": [
    {
     "data": {
      "text/html": [
       "<div>\n",
       "<style scoped>\n",
       "    .dataframe tbody tr th:only-of-type {\n",
       "        vertical-align: middle;\n",
       "    }\n",
       "\n",
       "    .dataframe tbody tr th {\n",
       "        vertical-align: top;\n",
       "    }\n",
       "\n",
       "    .dataframe thead th {\n",
       "        text-align: right;\n",
       "    }\n",
       "</style>\n",
       "<table border=\"1\" class=\"dataframe\">\n",
       "  <thead>\n",
       "    <tr style=\"text-align: right;\">\n",
       "      <th></th>\n",
       "      <th>division_id</th>\n",
       "      <th>electoral_division</th>\n",
       "    </tr>\n",
       "  </thead>\n",
       "  <tbody>\n",
       "    <tr>\n",
       "      <th>0</th>\n",
       "      <td>179</td>\n",
       "      <td>Adelaide</td>\n",
       "    </tr>\n",
       "    <tr>\n",
       "      <th>1</th>\n",
       "      <td>197</td>\n",
       "      <td>Aston</td>\n",
       "    </tr>\n",
       "    <tr>\n",
       "      <th>2</th>\n",
       "      <td>198</td>\n",
       "      <td>Ballarat</td>\n",
       "    </tr>\n",
       "    <tr>\n",
       "      <th>3</th>\n",
       "      <td>103</td>\n",
       "      <td>Banks</td>\n",
       "    </tr>\n",
       "    <tr>\n",
       "      <th>4</th>\n",
       "      <td>180</td>\n",
       "      <td>Barker</td>\n",
       "    </tr>\n",
       "  </tbody>\n",
       "</table>\n",
       "</div>"
      ],
      "text/plain": [
       "   division_id electoral_division\n",
       "0          179           Adelaide\n",
       "1          197              Aston\n",
       "2          198           Ballarat\n",
       "3          103              Banks\n",
       "4          180             Barker"
      ]
     },
     "execution_count": 14,
     "metadata": {},
     "output_type": "execute_result"
    }
   ],
   "source": [
    "# dropping state column\n",
    "electoral_division_df = electoral_division_df.drop(columns = [\"state\"])\n",
    "electoral_division_df.head()"
   ]
  },
  {
   "cell_type": "code",
   "execution_count": 15,
   "metadata": {},
   "outputs": [
    {
     "data": {
      "text/html": [
       "<div>\n",
       "<style scoped>\n",
       "    .dataframe tbody tr th:only-of-type {\n",
       "        vertical-align: middle;\n",
       "    }\n",
       "\n",
       "    .dataframe tbody tr th {\n",
       "        vertical-align: top;\n",
       "    }\n",
       "\n",
       "    .dataframe thead th {\n",
       "        text-align: right;\n",
       "    }\n",
       "</style>\n",
       "<table border=\"1\" class=\"dataframe\">\n",
       "  <thead>\n",
       "    <tr style=\"text-align: right;\">\n",
       "      <th></th>\n",
       "      <th>electoral_division</th>\n",
       "      <th>enrolment</th>\n",
       "      <th>demographic</th>\n",
       "      <th>previous_party</th>\n",
       "      <th>previous_seat_status</th>\n",
       "      <th>successful_party</th>\n",
       "      <th>seat_status</th>\n",
       "      <th>division_id</th>\n",
       "    </tr>\n",
       "  </thead>\n",
       "  <tbody>\n",
       "    <tr>\n",
       "      <th>0</th>\n",
       "      <td>Adelaide</td>\n",
       "      <td>109217</td>\n",
       "      <td>Inner Metropolitan</td>\n",
       "      <td>Australian Labor Party</td>\n",
       "      <td>Marginal</td>\n",
       "      <td>Australian Labor Party</td>\n",
       "      <td>Marginal</td>\n",
       "      <td>179</td>\n",
       "    </tr>\n",
       "    <tr>\n",
       "      <th>1</th>\n",
       "      <td>Aston</td>\n",
       "      <td>96043</td>\n",
       "      <td>Outer Metropolitan</td>\n",
       "      <td>Liberal</td>\n",
       "      <td>Fairly Safe</td>\n",
       "      <td>Liberal</td>\n",
       "      <td>Fairly Safe</td>\n",
       "      <td>197</td>\n",
       "    </tr>\n",
       "    <tr>\n",
       "      <th>2</th>\n",
       "      <td>Ballarat</td>\n",
       "      <td>110755</td>\n",
       "      <td>Provincial</td>\n",
       "      <td>Australian Labor Party</td>\n",
       "      <td>Marginal</td>\n",
       "      <td>Australian Labor Party</td>\n",
       "      <td>Fairly Safe</td>\n",
       "      <td>198</td>\n",
       "    </tr>\n",
       "    <tr>\n",
       "      <th>3</th>\n",
       "      <td>Banks</td>\n",
       "      <td>104891</td>\n",
       "      <td>Inner Metropolitan</td>\n",
       "      <td>Liberal</td>\n",
       "      <td>Marginal</td>\n",
       "      <td>Liberal</td>\n",
       "      <td>Marginal</td>\n",
       "      <td>103</td>\n",
       "    </tr>\n",
       "    <tr>\n",
       "      <th>4</th>\n",
       "      <td>Barker</td>\n",
       "      <td>105600</td>\n",
       "      <td>Rural</td>\n",
       "      <td>Liberal</td>\n",
       "      <td>Safe</td>\n",
       "      <td>Liberal</td>\n",
       "      <td>Marginal</td>\n",
       "      <td>180</td>\n",
       "    </tr>\n",
       "  </tbody>\n",
       "</table>\n",
       "</div>"
      ],
      "text/plain": [
       "  electoral_division  enrolment         demographic          previous_party  \\\n",
       "0           Adelaide     109217  Inner Metropolitan  Australian Labor Party   \n",
       "1              Aston      96043  Outer Metropolitan                 Liberal   \n",
       "2           Ballarat     110755          Provincial  Australian Labor Party   \n",
       "3              Banks     104891  Inner Metropolitan                 Liberal   \n",
       "4             Barker     105600               Rural                 Liberal   \n",
       "\n",
       "  previous_seat_status        successful_party  seat_status  division_id  \n",
       "0             Marginal  Australian Labor Party     Marginal          179  \n",
       "1          Fairly Safe                 Liberal  Fairly Safe          197  \n",
       "2             Marginal  Australian Labor Party  Fairly Safe          198  \n",
       "3             Marginal                 Liberal     Marginal          103  \n",
       "4                 Safe                 Liberal     Marginal          180  "
      ]
     },
     "execution_count": 15,
     "metadata": {},
     "output_type": "execute_result"
    }
   ],
   "source": [
    "# merging the dataframes\n",
    "merged_df = election_results_df.merge(electoral_division_df, how = 'left', on = 'electoral_division')\n",
    "merged_df.head()"
   ]
  },
  {
   "cell_type": "code",
   "execution_count": 16,
   "metadata": {},
   "outputs": [
    {
     "data": {
      "text/html": [
       "<div>\n",
       "<style scoped>\n",
       "    .dataframe tbody tr th:only-of-type {\n",
       "        vertical-align: middle;\n",
       "    }\n",
       "\n",
       "    .dataframe tbody tr th {\n",
       "        vertical-align: top;\n",
       "    }\n",
       "\n",
       "    .dataframe thead th {\n",
       "        text-align: right;\n",
       "    }\n",
       "</style>\n",
       "<table border=\"1\" class=\"dataframe\">\n",
       "  <thead>\n",
       "    <tr style=\"text-align: right;\">\n",
       "      <th></th>\n",
       "      <th>electoral_division</th>\n",
       "      <th>enrolment</th>\n",
       "      <th>demographic</th>\n",
       "      <th>previous_party</th>\n",
       "      <th>previous_seat_status</th>\n",
       "      <th>successful_party</th>\n",
       "      <th>seat_status</th>\n",
       "    </tr>\n",
       "    <tr>\n",
       "      <th>division_id</th>\n",
       "      <th></th>\n",
       "      <th></th>\n",
       "      <th></th>\n",
       "      <th></th>\n",
       "      <th></th>\n",
       "      <th></th>\n",
       "      <th></th>\n",
       "    </tr>\n",
       "  </thead>\n",
       "  <tbody>\n",
       "    <tr>\n",
       "      <th>179</th>\n",
       "      <td>Adelaide</td>\n",
       "      <td>109217</td>\n",
       "      <td>Inner Metropolitan</td>\n",
       "      <td>Australian Labor Party</td>\n",
       "      <td>Marginal</td>\n",
       "      <td>Australian Labor Party</td>\n",
       "      <td>Marginal</td>\n",
       "    </tr>\n",
       "    <tr>\n",
       "      <th>197</th>\n",
       "      <td>Aston</td>\n",
       "      <td>96043</td>\n",
       "      <td>Outer Metropolitan</td>\n",
       "      <td>Liberal</td>\n",
       "      <td>Fairly Safe</td>\n",
       "      <td>Liberal</td>\n",
       "      <td>Fairly Safe</td>\n",
       "    </tr>\n",
       "    <tr>\n",
       "      <th>198</th>\n",
       "      <td>Ballarat</td>\n",
       "      <td>110755</td>\n",
       "      <td>Provincial</td>\n",
       "      <td>Australian Labor Party</td>\n",
       "      <td>Marginal</td>\n",
       "      <td>Australian Labor Party</td>\n",
       "      <td>Fairly Safe</td>\n",
       "    </tr>\n",
       "    <tr>\n",
       "      <th>103</th>\n",
       "      <td>Banks</td>\n",
       "      <td>104891</td>\n",
       "      <td>Inner Metropolitan</td>\n",
       "      <td>Liberal</td>\n",
       "      <td>Marginal</td>\n",
       "      <td>Liberal</td>\n",
       "      <td>Marginal</td>\n",
       "    </tr>\n",
       "    <tr>\n",
       "      <th>180</th>\n",
       "      <td>Barker</td>\n",
       "      <td>105600</td>\n",
       "      <td>Rural</td>\n",
       "      <td>Liberal</td>\n",
       "      <td>Safe</td>\n",
       "      <td>Liberal</td>\n",
       "      <td>Marginal</td>\n",
       "    </tr>\n",
       "  </tbody>\n",
       "</table>\n",
       "</div>"
      ],
      "text/plain": [
       "            electoral_division  enrolment         demographic  \\\n",
       "division_id                                                     \n",
       "179                   Adelaide     109217  Inner Metropolitan   \n",
       "197                      Aston      96043  Outer Metropolitan   \n",
       "198                   Ballarat     110755          Provincial   \n",
       "103                      Banks     104891  Inner Metropolitan   \n",
       "180                     Barker     105600               Rural   \n",
       "\n",
       "                     previous_party previous_seat_status  \\\n",
       "division_id                                                \n",
       "179          Australian Labor Party             Marginal   \n",
       "197                         Liberal          Fairly Safe   \n",
       "198          Australian Labor Party             Marginal   \n",
       "103                         Liberal             Marginal   \n",
       "180                         Liberal                 Safe   \n",
       "\n",
       "                   successful_party  seat_status  \n",
       "division_id                                       \n",
       "179          Australian Labor Party     Marginal  \n",
       "197                         Liberal  Fairly Safe  \n",
       "198          Australian Labor Party  Fairly Safe  \n",
       "103                         Liberal     Marginal  \n",
       "180                         Liberal     Marginal  "
      ]
     },
     "execution_count": 16,
     "metadata": {},
     "output_type": "execute_result"
    }
   ],
   "source": [
    "# Setting the index\n",
    "merged_df = merged_df.set_index('division_id')\n",
    "merged_df.head()"
   ]
  },
  {
   "cell_type": "markdown",
   "metadata": {},
   "source": [
    "### Removing electoral_division column"
   ]
  },
  {
   "cell_type": "markdown",
   "metadata": {},
   "source": [
    "No longer require the electoral_division column as the division_id index now uniquely identifies each row."
   ]
  },
  {
   "cell_type": "code",
   "execution_count": 17,
   "metadata": {},
   "outputs": [
    {
     "data": {
      "text/html": [
       "<div>\n",
       "<style scoped>\n",
       "    .dataframe tbody tr th:only-of-type {\n",
       "        vertical-align: middle;\n",
       "    }\n",
       "\n",
       "    .dataframe tbody tr th {\n",
       "        vertical-align: top;\n",
       "    }\n",
       "\n",
       "    .dataframe thead th {\n",
       "        text-align: right;\n",
       "    }\n",
       "</style>\n",
       "<table border=\"1\" class=\"dataframe\">\n",
       "  <thead>\n",
       "    <tr style=\"text-align: right;\">\n",
       "      <th></th>\n",
       "      <th>enrolment</th>\n",
       "      <th>demographic</th>\n",
       "      <th>previous_party</th>\n",
       "      <th>previous_seat_status</th>\n",
       "      <th>successful_party</th>\n",
       "      <th>seat_status</th>\n",
       "    </tr>\n",
       "    <tr>\n",
       "      <th>division_id</th>\n",
       "      <th></th>\n",
       "      <th></th>\n",
       "      <th></th>\n",
       "      <th></th>\n",
       "      <th></th>\n",
       "      <th></th>\n",
       "    </tr>\n",
       "  </thead>\n",
       "  <tbody>\n",
       "    <tr>\n",
       "      <th>179</th>\n",
       "      <td>109217</td>\n",
       "      <td>Inner Metropolitan</td>\n",
       "      <td>Australian Labor Party</td>\n",
       "      <td>Marginal</td>\n",
       "      <td>Australian Labor Party</td>\n",
       "      <td>Marginal</td>\n",
       "    </tr>\n",
       "    <tr>\n",
       "      <th>197</th>\n",
       "      <td>96043</td>\n",
       "      <td>Outer Metropolitan</td>\n",
       "      <td>Liberal</td>\n",
       "      <td>Fairly Safe</td>\n",
       "      <td>Liberal</td>\n",
       "      <td>Fairly Safe</td>\n",
       "    </tr>\n",
       "    <tr>\n",
       "      <th>198</th>\n",
       "      <td>110755</td>\n",
       "      <td>Provincial</td>\n",
       "      <td>Australian Labor Party</td>\n",
       "      <td>Marginal</td>\n",
       "      <td>Australian Labor Party</td>\n",
       "      <td>Fairly Safe</td>\n",
       "    </tr>\n",
       "    <tr>\n",
       "      <th>103</th>\n",
       "      <td>104891</td>\n",
       "      <td>Inner Metropolitan</td>\n",
       "      <td>Liberal</td>\n",
       "      <td>Marginal</td>\n",
       "      <td>Liberal</td>\n",
       "      <td>Marginal</td>\n",
       "    </tr>\n",
       "    <tr>\n",
       "      <th>180</th>\n",
       "      <td>105600</td>\n",
       "      <td>Rural</td>\n",
       "      <td>Liberal</td>\n",
       "      <td>Safe</td>\n",
       "      <td>Liberal</td>\n",
       "      <td>Marginal</td>\n",
       "    </tr>\n",
       "  </tbody>\n",
       "</table>\n",
       "</div>"
      ],
      "text/plain": [
       "             enrolment         demographic          previous_party  \\\n",
       "division_id                                                          \n",
       "179             109217  Inner Metropolitan  Australian Labor Party   \n",
       "197              96043  Outer Metropolitan                 Liberal   \n",
       "198             110755          Provincial  Australian Labor Party   \n",
       "103             104891  Inner Metropolitan                 Liberal   \n",
       "180             105600               Rural                 Liberal   \n",
       "\n",
       "            previous_seat_status        successful_party  seat_status  \n",
       "division_id                                                            \n",
       "179                     Marginal  Australian Labor Party     Marginal  \n",
       "197                  Fairly Safe                 Liberal  Fairly Safe  \n",
       "198                     Marginal  Australian Labor Party  Fairly Safe  \n",
       "103                     Marginal                 Liberal     Marginal  \n",
       "180                         Safe                 Liberal     Marginal  "
      ]
     },
     "execution_count": 17,
     "metadata": {},
     "output_type": "execute_result"
    }
   ],
   "source": [
    "merged_df = merged_df.drop(columns = [\"electoral_division\"])\n",
    "merged_df.head()"
   ]
  },
  {
   "cell_type": "markdown",
   "metadata": {},
   "source": [
    "# Exploratory Data Analysis"
   ]
  },
  {
   "cell_type": "markdown",
   "metadata": {},
   "source": [
    "Confirming there are no other null values."
   ]
  },
  {
   "cell_type": "code",
   "execution_count": 18,
   "metadata": {},
   "outputs": [
    {
     "data": {
      "text/plain": [
       "enrolment               0\n",
       "demographic             0\n",
       "previous_party          0\n",
       "previous_seat_status    0\n",
       "successful_party        0\n",
       "seat_status             0\n",
       "dtype: int64"
      ]
     },
     "execution_count": 18,
     "metadata": {},
     "output_type": "execute_result"
    }
   ],
   "source": [
    "merged_df.isnull().sum()"
   ]
  },
  {
   "cell_type": "markdown",
   "metadata": {},
   "source": [
    "Will compare the 'previous_party' column and 'successful_party' column using a grouped bar chart."
   ]
  },
  {
   "cell_type": "code",
   "execution_count": 19,
   "metadata": {},
   "outputs": [
    {
     "data": {
      "text/plain": [
       "Liberal                      59\n",
       "Australian Labor Party       54\n",
       "Liberal National Party       22\n",
       "The Nationals                 9\n",
       "Independent                   2\n",
       "Palmer United Party           1\n",
       "Country Liberals (NT)         1\n",
       "Katter's Australian Party     1\n",
       "The Greens                    1\n",
       "Name: previous_party, dtype: int64"
      ]
     },
     "execution_count": 19,
     "metadata": {},
     "output_type": "execute_result"
    }
   ],
   "source": [
    "# Viewing the values in 'previous_party' column and the frequency\n",
    "\n",
    "merged_df['previous_party'].value_counts()"
   ]
  },
  {
   "cell_type": "code",
   "execution_count": 20,
   "metadata": {},
   "outputs": [
    {
     "data": {
      "text/plain": [
       "Australian Labor Party       69\n",
       "Liberal                      45\n",
       "Liberal National Party       21\n",
       "The Nationals                10\n",
       "Independent                   2\n",
       "Nick Xenophon Team            1\n",
       "Katter's Australian Party     1\n",
       "The Greens                    1\n",
       "Name: successful_party, dtype: int64"
      ]
     },
     "execution_count": 20,
     "metadata": {},
     "output_type": "execute_result"
    }
   ],
   "source": [
    "# Viewing the values in 'successful_party' column and the frequency\n",
    "\n",
    "merged_df['successful_party'].value_counts()"
   ]
  },
  {
   "cell_type": "markdown",
   "metadata": {},
   "source": [
    "### Plotting the results"
   ]
  },
  {
   "cell_type": "code",
   "execution_count": 21,
   "metadata": {},
   "outputs": [
    {
     "data": {
      "image/png": "[encoded data removed]",
      "text/plain": [
       "<Figure size 432x288 with 1 Axes>"
      ]
     },
     "metadata": {
      "needs_background": "light"
     },
     "output_type": "display_data"
    }
   ],
   "source": [
    "# Plotting the frequency of each party as a grouped bar plot. Grouping by previous party and successful party.\n",
    "\n",
    "import matplotlib.pyplot as plt\n",
    "\n",
    "plotdata = pd.DataFrame({\n",
    "    \"Liberal\":[59,45],\n",
    "    \"Australian Labor Party\":[54,69],\n",
    "    \"Liberal National Party\":[22,21],\n",
    "    \"The Nationals\":[9,10],\n",
    "    \"Independent\":[2,2],\n",
    "    \"Katter's Australian Party\":[1,1],\n",
    "    \"Palmer United Party\":[1,0],\n",
    "    \"Country Liberals (NT)\":[1,0],\n",
    "    \"The Greens\":[1,1],\n",
    "    \"Nick Xenophon Team\":[0,1]},\n",
    "    index=[\"Previous Party\", \"Successful Party\"])\n",
    "\n",
    "plotdata.plot(kind=\"bar\")\n",
    "plt.xticks(rotation = 0)\n",
    "plt.title(\"Current and Previous Political parties\")\n",
    "plt.xlabel(\"Political Party\")\n",
    "plt.ylabel(\"Frequency\")\n",
    "plt.show()"
   ]
  },
  {
   "cell_type": "code",
   "execution_count": 22,
   "metadata": {},
   "outputs": [
    {
     "data": {
      "image/png": "[encoded data removed]",
      "text/plain": [
       "<Figure size 432x288 with 1 Axes>"
      ]
     },
     "metadata": {
      "needs_background": "light"
     },
     "output_type": "display_data"
    }
   ],
   "source": [
    "# Plotting the frequency of each party as a grouped bar plot. Grouping by each party.\n",
    "\n",
    "plotdata = pd.DataFrame({\n",
    "    \"Previous Party\":[59,54,22,9,2,1,1,1,1,0],\n",
    "    \"Successful Party\":[45,69,21,10,2,1,0,0,1,1]},\n",
    "    index=[\"Liberal\",\n",
    "    \"Australian Labor Party\",\n",
    "    \"Liberal National Party\",\n",
    "    \"The Nationals\",\n",
    "    \"Independent\",\n",
    "    \"Katter's Australian Party\",\n",
    "    \"Palmer United Party\",\n",
    "    \"Country Liberals (NT)\",\n",
    "    \"The Greens\",\n",
    "    \"Nick Xenophon Team\"])\n",
    "\n",
    "plotdata.plot(kind=\"bar\")\n",
    "plt.title(\"Current and Previous Political parties\")\n",
    "plt.xlabel(\"Political Party\")\n",
    "plt.ylabel(\"Frequency\")\n",
    "plt.show()"
   ]
  },
  {
   "cell_type": "markdown",
   "metadata": {},
   "source": [
    "# Exporting to csv"
   ]
  },
  {
   "cell_type": "code",
   "execution_count": 23,
   "metadata": {},
   "outputs": [],
   "source": [
    "# Exporting dataframe to csv\n",
    "merged_df.to_csv(\"02-output_2016_federal_election_results/fedelect_results.csv\")"
   ]
  },
  {
   "cell_type": "code",
   "execution_count": null,
   "metadata": {},
   "outputs": [],
   "source": []
  }
 ],
 "metadata": {
  "kernelspec": {
   "display_name": "Python [conda env:PythonData] *",
   "language": "python",
   "name": "conda-env-PythonData-py"
  },
  "language_info": {
   "codemirror_mode": {
    "name": "ipython",
    "version": 3
   },
   "file_extension": ".py",
   "mimetype": "text/x-python",
   "name": "python",
   "nbconvert_exporter": "python",
   "pygments_lexer": "ipython3",
   "version": "3.6.10"
  }
 },
 "nbformat": 4,
 "nbformat_minor": 4
}
