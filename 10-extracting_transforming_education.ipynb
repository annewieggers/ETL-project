{
 "cells": [
  {
   "cell_type": "code",
   "execution_count": 1,
   "metadata": {},
   "outputs": [],
   "source": [
    "# Imports\n",
    "import pandas as pd"
   ]
  },
  {
   "cell_type": "markdown",
   "metadata": {},
   "source": [
    "# Extracting"
   ]
  },
  {
   "cell_type": "markdown",
   "metadata": {},
   "source": [
    "### Extracting commonwealth electorate data"
   ]
  },
  {
   "cell_type": "code",
   "execution_count": 2,
   "metadata": {},
   "outputs": [
    {
     "data": {
      "text/html": [
       "<div>\n",
       "<style scoped>\n",
       "    .dataframe tbody tr th:only-of-type {\n",
       "        vertical-align: middle;\n",
       "    }\n",
       "\n",
       "    .dataframe tbody tr th {\n",
       "        vertical-align: top;\n",
       "    }\n",
       "\n",
       "    .dataframe thead th {\n",
       "        text-align: right;\n",
       "    }\n",
       "</style>\n",
       "<table border=\"1\" class=\"dataframe\">\n",
       "  <thead>\n",
       "    <tr style=\"text-align: right;\">\n",
       "      <th></th>\n",
       "      <th>Unnamed: 0</th>\n",
       "      <th>Year 12 or equivalent completion (people aged 20 to 24 years)</th>\n",
       "      <th>Certificate III or higher qualification (people aged 15 years and over)</th>\n",
       "      <th>Unnamed: 3</th>\n",
       "      <th>Unnamed: 4</th>\n",
       "    </tr>\n",
       "  </thead>\n",
       "  <tbody>\n",
       "    <tr>\n",
       "      <th>0</th>\n",
       "      <td>NaN</td>\n",
       "      <td>NaN</td>\n",
       "      <td>NaN</td>\n",
       "      <td>NaN</td>\n",
       "      <td>NaN</td>\n",
       "    </tr>\n",
       "    <tr>\n",
       "      <th>1</th>\n",
       "      <td>Adelaide</td>\n",
       "      <td>82.4%</td>\n",
       "      <td>49.3%</td>\n",
       "      <td>NaN</td>\n",
       "      <td>NaN</td>\n",
       "    </tr>\n",
       "    <tr>\n",
       "      <th>2</th>\n",
       "      <td>Aston</td>\n",
       "      <td>79.7%</td>\n",
       "      <td>49.3%</td>\n",
       "      <td>NaN</td>\n",
       "      <td>NaN</td>\n",
       "    </tr>\n",
       "    <tr>\n",
       "      <th>3</th>\n",
       "      <td>Ballarat</td>\n",
       "      <td>68.6%</td>\n",
       "      <td>45.1%</td>\n",
       "      <td>NaN</td>\n",
       "      <td>NaN</td>\n",
       "    </tr>\n",
       "    <tr>\n",
       "      <th>4</th>\n",
       "      <td>Banks</td>\n",
       "      <td>83.4%</td>\n",
       "      <td>47.8%</td>\n",
       "      <td>NaN</td>\n",
       "      <td>NaN</td>\n",
       "    </tr>\n",
       "    <tr>\n",
       "      <th>...</th>\n",
       "      <td>...</td>\n",
       "      <td>...</td>\n",
       "      <td>...</td>\n",
       "      <td>...</td>\n",
       "      <td>...</td>\n",
       "    </tr>\n",
       "    <tr>\n",
       "      <th>148</th>\n",
       "      <td>Whitlam</td>\n",
       "      <td>62.2%</td>\n",
       "      <td>42.8%</td>\n",
       "      <td>NaN</td>\n",
       "      <td>NaN</td>\n",
       "    </tr>\n",
       "    <tr>\n",
       "      <th>149</th>\n",
       "      <td>Wide Bay</td>\n",
       "      <td>63.4%</td>\n",
       "      <td>40.0%</td>\n",
       "      <td>NaN</td>\n",
       "      <td>NaN</td>\n",
       "    </tr>\n",
       "    <tr>\n",
       "      <th>150</th>\n",
       "      <td>Wills</td>\n",
       "      <td>84.2%</td>\n",
       "      <td>52.0%</td>\n",
       "      <td>NaN</td>\n",
       "      <td>NaN</td>\n",
       "    </tr>\n",
       "    <tr>\n",
       "      <th>151</th>\n",
       "      <td>Wright</td>\n",
       "      <td>70.0%</td>\n",
       "      <td>41.6%</td>\n",
       "      <td>NaN</td>\n",
       "      <td>NaN</td>\n",
       "    </tr>\n",
       "    <tr>\n",
       "      <th>152</th>\n",
       "      <td>NaN</td>\n",
       "      <td>NaN</td>\n",
       "      <td>NaN</td>\n",
       "      <td>NaN</td>\n",
       "      <td>NaN</td>\n",
       "    </tr>\n",
       "  </tbody>\n",
       "</table>\n",
       "<p>153 rows × 5 columns</p>\n",
       "</div>"
      ],
      "text/plain": [
       "    Unnamed: 0 Year 12 or equivalent completion (people aged 20 to 24 years)  \\\n",
       "0          NaN                                                NaN              \n",
       "1     Adelaide                                              82.4%              \n",
       "2        Aston                                              79.7%              \n",
       "3     Ballarat                                              68.6%              \n",
       "4        Banks                                              83.4%              \n",
       "..         ...                                                ...              \n",
       "148    Whitlam                                              62.2%              \n",
       "149   Wide Bay                                              63.4%              \n",
       "150      Wills                                              84.2%              \n",
       "151     Wright                                              70.0%              \n",
       "152        NaN                                                NaN              \n",
       "\n",
       "    Certificate III or higher qualification (people aged 15 years and over)  \\\n",
       "0                                                  NaN                        \n",
       "1                                                49.3%                        \n",
       "2                                                49.3%                        \n",
       "3                                                45.1%                        \n",
       "4                                                47.8%                        \n",
       "..                                                 ...                        \n",
       "148                                              42.8%                        \n",
       "149                                              40.0%                        \n",
       "150                                              52.0%                        \n",
       "151                                              41.6%                        \n",
       "152                                                NaN                        \n",
       "\n",
       "     Unnamed: 3  Unnamed: 4  \n",
       "0           NaN         NaN  \n",
       "1           NaN         NaN  \n",
       "2           NaN         NaN  \n",
       "3           NaN         NaN  \n",
       "4           NaN         NaN  \n",
       "..          ...         ...  \n",
       "148         NaN         NaN  \n",
       "149         NaN         NaN  \n",
       "150         NaN         NaN  \n",
       "151         NaN         NaN  \n",
       "152         NaN         NaN  \n",
       "\n",
       "[153 rows x 5 columns]"
      ]
     },
     "execution_count": 2,
     "metadata": {},
     "output_type": "execute_result"
    }
   ],
   "source": [
    "# Reading in the csv and viewing as a dataframe\n",
    "education_level_df = pd.read_csv(\"Resources/commonwealth_electorate_data_Table8.csv\")\n",
    "\n",
    "education_level_df"
   ]
  },
  {
   "cell_type": "markdown",
   "metadata": {},
   "source": [
    "# Transforming"
   ]
  },
  {
   "cell_type": "markdown",
   "metadata": {},
   "source": [
    "### Removing NaNs"
   ]
  },
  {
   "cell_type": "code",
   "execution_count": 3,
   "metadata": {},
   "outputs": [
    {
     "data": {
      "text/plain": [
       "Unnamed: 0                                                                   2\n",
       "Year 12 or equivalent completion (people aged 20 to 24 years)                2\n",
       "Certificate III or higher qualification (people aged 15 years and over)      2\n",
       "Unnamed: 3                                                                 153\n",
       "Unnamed: 4                                                                 153\n",
       "dtype: int64"
      ]
     },
     "execution_count": 3,
     "metadata": {},
     "output_type": "execute_result"
    }
   ],
   "source": [
    "# Checking the number of NaNs in each column\n",
    "education_level_df.isnull().sum()"
   ]
  },
  {
   "cell_type": "markdown",
   "metadata": {},
   "source": [
    "This indicates that the columns 'Unnamed: 3' and 'Unnamed: 4' contain only NaN values and can be removed."
   ]
  },
  {
   "cell_type": "code",
   "execution_count": 4,
   "metadata": {},
   "outputs": [
    {
     "data": {
      "text/html": [
       "<div>\n",
       "<style scoped>\n",
       "    .dataframe tbody tr th:only-of-type {\n",
       "        vertical-align: middle;\n",
       "    }\n",
       "\n",
       "    .dataframe tbody tr th {\n",
       "        vertical-align: top;\n",
       "    }\n",
       "\n",
       "    .dataframe thead th {\n",
       "        text-align: right;\n",
       "    }\n",
       "</style>\n",
       "<table border=\"1\" class=\"dataframe\">\n",
       "  <thead>\n",
       "    <tr style=\"text-align: right;\">\n",
       "      <th></th>\n",
       "      <th>Unnamed: 0</th>\n",
       "      <th>Year 12 or equivalent completion (people aged 20 to 24 years)</th>\n",
       "      <th>Certificate III or higher qualification (people aged 15 years and over)</th>\n",
       "    </tr>\n",
       "  </thead>\n",
       "  <tbody>\n",
       "    <tr>\n",
       "      <th>0</th>\n",
       "      <td>NaN</td>\n",
       "      <td>NaN</td>\n",
       "      <td>NaN</td>\n",
       "    </tr>\n",
       "    <tr>\n",
       "      <th>1</th>\n",
       "      <td>Adelaide</td>\n",
       "      <td>82.4%</td>\n",
       "      <td>49.3%</td>\n",
       "    </tr>\n",
       "    <tr>\n",
       "      <th>2</th>\n",
       "      <td>Aston</td>\n",
       "      <td>79.7%</td>\n",
       "      <td>49.3%</td>\n",
       "    </tr>\n",
       "    <tr>\n",
       "      <th>3</th>\n",
       "      <td>Ballarat</td>\n",
       "      <td>68.6%</td>\n",
       "      <td>45.1%</td>\n",
       "    </tr>\n",
       "    <tr>\n",
       "      <th>4</th>\n",
       "      <td>Banks</td>\n",
       "      <td>83.4%</td>\n",
       "      <td>47.8%</td>\n",
       "    </tr>\n",
       "    <tr>\n",
       "      <th>...</th>\n",
       "      <td>...</td>\n",
       "      <td>...</td>\n",
       "      <td>...</td>\n",
       "    </tr>\n",
       "    <tr>\n",
       "      <th>148</th>\n",
       "      <td>Whitlam</td>\n",
       "      <td>62.2%</td>\n",
       "      <td>42.8%</td>\n",
       "    </tr>\n",
       "    <tr>\n",
       "      <th>149</th>\n",
       "      <td>Wide Bay</td>\n",
       "      <td>63.4%</td>\n",
       "      <td>40.0%</td>\n",
       "    </tr>\n",
       "    <tr>\n",
       "      <th>150</th>\n",
       "      <td>Wills</td>\n",
       "      <td>84.2%</td>\n",
       "      <td>52.0%</td>\n",
       "    </tr>\n",
       "    <tr>\n",
       "      <th>151</th>\n",
       "      <td>Wright</td>\n",
       "      <td>70.0%</td>\n",
       "      <td>41.6%</td>\n",
       "    </tr>\n",
       "    <tr>\n",
       "      <th>152</th>\n",
       "      <td>NaN</td>\n",
       "      <td>NaN</td>\n",
       "      <td>NaN</td>\n",
       "    </tr>\n",
       "  </tbody>\n",
       "</table>\n",
       "<p>153 rows × 3 columns</p>\n",
       "</div>"
      ],
      "text/plain": [
       "    Unnamed: 0 Year 12 or equivalent completion (people aged 20 to 24 years)  \\\n",
       "0          NaN                                                NaN              \n",
       "1     Adelaide                                              82.4%              \n",
       "2        Aston                                              79.7%              \n",
       "3     Ballarat                                              68.6%              \n",
       "4        Banks                                              83.4%              \n",
       "..         ...                                                ...              \n",
       "148    Whitlam                                              62.2%              \n",
       "149   Wide Bay                                              63.4%              \n",
       "150      Wills                                              84.2%              \n",
       "151     Wright                                              70.0%              \n",
       "152        NaN                                                NaN              \n",
       "\n",
       "    Certificate III or higher qualification (people aged 15 years and over)  \n",
       "0                                                  NaN                       \n",
       "1                                                49.3%                       \n",
       "2                                                49.3%                       \n",
       "3                                                45.1%                       \n",
       "4                                                47.8%                       \n",
       "..                                                 ...                       \n",
       "148                                              42.8%                       \n",
       "149                                              40.0%                       \n",
       "150                                              52.0%                       \n",
       "151                                              41.6%                       \n",
       "152                                                NaN                       \n",
       "\n",
       "[153 rows x 3 columns]"
      ]
     },
     "execution_count": 4,
     "metadata": {},
     "output_type": "execute_result"
    }
   ],
   "source": [
    "# Dropping the columns with NaN values\n",
    "education_level_df = education_level_df.drop(columns = [\"Unnamed: 3\", \"Unnamed: 4\"])\n",
    "education_level_df"
   ]
  },
  {
   "cell_type": "code",
   "execution_count": 5,
   "metadata": {},
   "outputs": [
    {
     "data": {
      "text/html": [
       "<div>\n",
       "<style scoped>\n",
       "    .dataframe tbody tr th:only-of-type {\n",
       "        vertical-align: middle;\n",
       "    }\n",
       "\n",
       "    .dataframe tbody tr th {\n",
       "        vertical-align: top;\n",
       "    }\n",
       "\n",
       "    .dataframe thead th {\n",
       "        text-align: right;\n",
       "    }\n",
       "</style>\n",
       "<table border=\"1\" class=\"dataframe\">\n",
       "  <thead>\n",
       "    <tr style=\"text-align: right;\">\n",
       "      <th></th>\n",
       "      <th>Unnamed: 0</th>\n",
       "      <th>Year 12 or equivalent completion (people aged 20 to 24 years)</th>\n",
       "      <th>Certificate III or higher qualification (people aged 15 years and over)</th>\n",
       "    </tr>\n",
       "  </thead>\n",
       "  <tbody>\n",
       "    <tr>\n",
       "      <th>1</th>\n",
       "      <td>Adelaide</td>\n",
       "      <td>82.4%</td>\n",
       "      <td>49.3%</td>\n",
       "    </tr>\n",
       "    <tr>\n",
       "      <th>2</th>\n",
       "      <td>Aston</td>\n",
       "      <td>79.7%</td>\n",
       "      <td>49.3%</td>\n",
       "    </tr>\n",
       "    <tr>\n",
       "      <th>3</th>\n",
       "      <td>Ballarat</td>\n",
       "      <td>68.6%</td>\n",
       "      <td>45.1%</td>\n",
       "    </tr>\n",
       "    <tr>\n",
       "      <th>4</th>\n",
       "      <td>Banks</td>\n",
       "      <td>83.4%</td>\n",
       "      <td>47.8%</td>\n",
       "    </tr>\n",
       "    <tr>\n",
       "      <th>5</th>\n",
       "      <td>Barker</td>\n",
       "      <td>57.9%</td>\n",
       "      <td>34.9%</td>\n",
       "    </tr>\n",
       "    <tr>\n",
       "      <th>...</th>\n",
       "      <td>...</td>\n",
       "      <td>...</td>\n",
       "      <td>...</td>\n",
       "    </tr>\n",
       "    <tr>\n",
       "      <th>147</th>\n",
       "      <td>Werriwa</td>\n",
       "      <td>75.7%</td>\n",
       "      <td>37.3%</td>\n",
       "    </tr>\n",
       "    <tr>\n",
       "      <th>148</th>\n",
       "      <td>Whitlam</td>\n",
       "      <td>62.2%</td>\n",
       "      <td>42.8%</td>\n",
       "    </tr>\n",
       "    <tr>\n",
       "      <th>149</th>\n",
       "      <td>Wide Bay</td>\n",
       "      <td>63.4%</td>\n",
       "      <td>40.0%</td>\n",
       "    </tr>\n",
       "    <tr>\n",
       "      <th>150</th>\n",
       "      <td>Wills</td>\n",
       "      <td>84.2%</td>\n",
       "      <td>52.0%</td>\n",
       "    </tr>\n",
       "    <tr>\n",
       "      <th>151</th>\n",
       "      <td>Wright</td>\n",
       "      <td>70.0%</td>\n",
       "      <td>41.6%</td>\n",
       "    </tr>\n",
       "  </tbody>\n",
       "</table>\n",
       "<p>151 rows × 3 columns</p>\n",
       "</div>"
      ],
      "text/plain": [
       "    Unnamed: 0 Year 12 or equivalent completion (people aged 20 to 24 years)  \\\n",
       "1     Adelaide                                              82.4%              \n",
       "2        Aston                                              79.7%              \n",
       "3     Ballarat                                              68.6%              \n",
       "4        Banks                                              83.4%              \n",
       "5       Barker                                              57.9%              \n",
       "..         ...                                                ...              \n",
       "147    Werriwa                                              75.7%              \n",
       "148    Whitlam                                              62.2%              \n",
       "149   Wide Bay                                              63.4%              \n",
       "150      Wills                                              84.2%              \n",
       "151     Wright                                              70.0%              \n",
       "\n",
       "    Certificate III or higher qualification (people aged 15 years and over)  \n",
       "1                                                49.3%                       \n",
       "2                                                49.3%                       \n",
       "3                                                45.1%                       \n",
       "4                                                47.8%                       \n",
       "5                                                34.9%                       \n",
       "..                                                 ...                       \n",
       "147                                              37.3%                       \n",
       "148                                              42.8%                       \n",
       "149                                              40.0%                       \n",
       "150                                              52.0%                       \n",
       "151                                              41.6%                       \n",
       "\n",
       "[151 rows x 3 columns]"
      ]
     },
     "execution_count": 5,
     "metadata": {},
     "output_type": "execute_result"
    }
   ],
   "source": [
    "# Removing the rows with Nan values, row 0 and row 152. This should leave 151 rows.\n",
    "education_level_df = education_level_df.dropna()\n",
    "education_level_df"
   ]
  },
  {
   "cell_type": "markdown",
   "metadata": {},
   "source": [
    "### Renaming columns"
   ]
  },
  {
   "cell_type": "code",
   "execution_count": 6,
   "metadata": {},
   "outputs": [
    {
     "data": {
      "text/html": [
       "<div>\n",
       "<style scoped>\n",
       "    .dataframe tbody tr th:only-of-type {\n",
       "        vertical-align: middle;\n",
       "    }\n",
       "\n",
       "    .dataframe tbody tr th {\n",
       "        vertical-align: top;\n",
       "    }\n",
       "\n",
       "    .dataframe thead th {\n",
       "        text-align: right;\n",
       "    }\n",
       "</style>\n",
       "<table border=\"1\" class=\"dataframe\">\n",
       "  <thead>\n",
       "    <tr style=\"text-align: right;\">\n",
       "      <th></th>\n",
       "      <th>electoral_division</th>\n",
       "      <th>year_12_completion(%)</th>\n",
       "      <th>higher_education_completion(%)</th>\n",
       "    </tr>\n",
       "  </thead>\n",
       "  <tbody>\n",
       "    <tr>\n",
       "      <th>1</th>\n",
       "      <td>Adelaide</td>\n",
       "      <td>82.4%</td>\n",
       "      <td>49.3%</td>\n",
       "    </tr>\n",
       "    <tr>\n",
       "      <th>2</th>\n",
       "      <td>Aston</td>\n",
       "      <td>79.7%</td>\n",
       "      <td>49.3%</td>\n",
       "    </tr>\n",
       "    <tr>\n",
       "      <th>3</th>\n",
       "      <td>Ballarat</td>\n",
       "      <td>68.6%</td>\n",
       "      <td>45.1%</td>\n",
       "    </tr>\n",
       "    <tr>\n",
       "      <th>4</th>\n",
       "      <td>Banks</td>\n",
       "      <td>83.4%</td>\n",
       "      <td>47.8%</td>\n",
       "    </tr>\n",
       "    <tr>\n",
       "      <th>5</th>\n",
       "      <td>Barker</td>\n",
       "      <td>57.9%</td>\n",
       "      <td>34.9%</td>\n",
       "    </tr>\n",
       "  </tbody>\n",
       "</table>\n",
       "</div>"
      ],
      "text/plain": [
       "  electoral_division year_12_completion(%) higher_education_completion(%)\n",
       "1           Adelaide                 82.4%                          49.3%\n",
       "2              Aston                 79.7%                          49.3%\n",
       "3           Ballarat                 68.6%                          45.1%\n",
       "4              Banks                 83.4%                          47.8%\n",
       "5             Barker                 57.9%                          34.9%"
      ]
     },
     "execution_count": 6,
     "metadata": {},
     "output_type": "execute_result"
    }
   ],
   "source": [
    "# renaming columns\n",
    "education_level_df.columns = ['electoral_division', 'year_12_completion(%)', 'higher_education_completion(%)']\n",
    "education_level_df.head()"
   ]
  },
  {
   "cell_type": "markdown",
   "metadata": {},
   "source": [
    "### Assessing and converting datatypes"
   ]
  },
  {
   "cell_type": "code",
   "execution_count": 7,
   "metadata": {},
   "outputs": [
    {
     "data": {
      "text/plain": [
       "electoral_division                object\n",
       "year_12_completion(%)             object\n",
       "higher_education_completion(%)    object\n",
       "dtype: object"
      ]
     },
     "execution_count": 7,
     "metadata": {},
     "output_type": "execute_result"
    }
   ],
   "source": [
    "# Checking datatypes\n",
    "education_level_df.dtypes"
   ]
  },
  {
   "cell_type": "markdown",
   "metadata": {},
   "source": [
    "The datatypes of year_12_completion(%) and higher_education_completion(%) are objects. The percentage sign needs to be removed and datatype changed for ease of use later."
   ]
  },
  {
   "cell_type": "code",
   "execution_count": 8,
   "metadata": {},
   "outputs": [],
   "source": [
    "# Converting data type of 'year_12_completion(%)' and 'higher_education_completion(%)' columns \n",
    "# First converting columns of objects to strings\n",
    "\n",
    "education_df = education_level_df.copy()\n",
    "education_df[\"year_12_completion(%)\"] = education_df[\"year_12_completion(%)\"].astype('str')\n",
    "education_df[\"higher_education_completion(%)\"] = education_df[\"higher_education_completion(%)\"].astype('str')"
   ]
  },
  {
   "cell_type": "code",
   "execution_count": 9,
   "metadata": {},
   "outputs": [],
   "source": [
    "# Then converting columns of strings to floats, removing percentage sign\n",
    "education_df[\"year_12_completion(%)\"] = education_df[\"year_12_completion(%)\"].str.replace(\"%\",\"\").astype(float)\n",
    "education_df[\"higher_education_completion(%)\"] = education_df[\"higher_education_completion(%)\"].str.replace(\"%\",\"\").astype(float)\n"
   ]
  },
  {
   "cell_type": "code",
   "execution_count": 10,
   "metadata": {},
   "outputs": [
    {
     "data": {
      "text/html": [
       "<div>\n",
       "<style scoped>\n",
       "    .dataframe tbody tr th:only-of-type {\n",
       "        vertical-align: middle;\n",
       "    }\n",
       "\n",
       "    .dataframe tbody tr th {\n",
       "        vertical-align: top;\n",
       "    }\n",
       "\n",
       "    .dataframe thead th {\n",
       "        text-align: right;\n",
       "    }\n",
       "</style>\n",
       "<table border=\"1\" class=\"dataframe\">\n",
       "  <thead>\n",
       "    <tr style=\"text-align: right;\">\n",
       "      <th></th>\n",
       "      <th>electoral_division</th>\n",
       "      <th>year_12_completion(%)</th>\n",
       "      <th>higher_education_completion(%)</th>\n",
       "    </tr>\n",
       "  </thead>\n",
       "  <tbody>\n",
       "    <tr>\n",
       "      <th>1</th>\n",
       "      <td>Adelaide</td>\n",
       "      <td>82.4</td>\n",
       "      <td>49.3</td>\n",
       "    </tr>\n",
       "    <tr>\n",
       "      <th>2</th>\n",
       "      <td>Aston</td>\n",
       "      <td>79.7</td>\n",
       "      <td>49.3</td>\n",
       "    </tr>\n",
       "    <tr>\n",
       "      <th>3</th>\n",
       "      <td>Ballarat</td>\n",
       "      <td>68.6</td>\n",
       "      <td>45.1</td>\n",
       "    </tr>\n",
       "    <tr>\n",
       "      <th>4</th>\n",
       "      <td>Banks</td>\n",
       "      <td>83.4</td>\n",
       "      <td>47.8</td>\n",
       "    </tr>\n",
       "    <tr>\n",
       "      <th>5</th>\n",
       "      <td>Barker</td>\n",
       "      <td>57.9</td>\n",
       "      <td>34.9</td>\n",
       "    </tr>\n",
       "  </tbody>\n",
       "</table>\n",
       "</div>"
      ],
      "text/plain": [
       "  electoral_division  year_12_completion(%)  higher_education_completion(%)\n",
       "1           Adelaide                   82.4                            49.3\n",
       "2              Aston                   79.7                            49.3\n",
       "3           Ballarat                   68.6                            45.1\n",
       "4              Banks                   83.4                            47.8\n",
       "5             Barker                   57.9                            34.9"
      ]
     },
     "execution_count": 10,
     "metadata": {},
     "output_type": "execute_result"
    }
   ],
   "source": [
    "# Previewing the dataframe\n",
    "education_df.head()"
   ]
  },
  {
   "cell_type": "code",
   "execution_count": 11,
   "metadata": {},
   "outputs": [
    {
     "data": {
      "text/plain": [
       "electoral_division                 object\n",
       "year_12_completion(%)             float64\n",
       "higher_education_completion(%)    float64\n",
       "dtype: object"
      ]
     },
     "execution_count": 11,
     "metadata": {},
     "output_type": "execute_result"
    }
   ],
   "source": [
    "# Checking datatypes\n",
    "education_df.dtypes"
   ]
  },
  {
   "cell_type": "markdown",
   "metadata": {},
   "source": [
    "### Merging with a second dataframe"
   ]
  },
  {
   "cell_type": "markdown",
   "metadata": {},
   "source": [
    "Want to add the electoral division id to the election_results dataframe. This will be the index and a key later on."
   ]
  },
  {
   "cell_type": "code",
   "execution_count": 12,
   "metadata": {},
   "outputs": [
    {
     "data": {
      "text/html": [
       "<div>\n",
       "<style scoped>\n",
       "    .dataframe tbody tr th:only-of-type {\n",
       "        vertical-align: middle;\n",
       "    }\n",
       "\n",
       "    .dataframe tbody tr th {\n",
       "        vertical-align: top;\n",
       "    }\n",
       "\n",
       "    .dataframe thead th {\n",
       "        text-align: right;\n",
       "    }\n",
       "</style>\n",
       "<table border=\"1\" class=\"dataframe\">\n",
       "  <thead>\n",
       "    <tr style=\"text-align: right;\">\n",
       "      <th></th>\n",
       "      <th>division_id</th>\n",
       "      <th>electoral_division</th>\n",
       "      <th>state</th>\n",
       "    </tr>\n",
       "  </thead>\n",
       "  <tbody>\n",
       "    <tr>\n",
       "      <th>0</th>\n",
       "      <td>179</td>\n",
       "      <td>Adelaide</td>\n",
       "      <td>SA</td>\n",
       "    </tr>\n",
       "    <tr>\n",
       "      <th>1</th>\n",
       "      <td>197</td>\n",
       "      <td>Aston</td>\n",
       "      <td>VIC</td>\n",
       "    </tr>\n",
       "    <tr>\n",
       "      <th>2</th>\n",
       "      <td>198</td>\n",
       "      <td>Ballarat</td>\n",
       "      <td>VIC</td>\n",
       "    </tr>\n",
       "    <tr>\n",
       "      <th>3</th>\n",
       "      <td>103</td>\n",
       "      <td>Banks</td>\n",
       "      <td>NSW</td>\n",
       "    </tr>\n",
       "    <tr>\n",
       "      <th>4</th>\n",
       "      <td>180</td>\n",
       "      <td>Barker</td>\n",
       "      <td>SA</td>\n",
       "    </tr>\n",
       "  </tbody>\n",
       "</table>\n",
       "</div>"
      ],
      "text/plain": [
       "   division_id electoral_division state\n",
       "0          179           Adelaide    SA\n",
       "1          197              Aston   VIC\n",
       "2          198           Ballarat   VIC\n",
       "3          103              Banks   NSW\n",
       "4          180             Barker    SA"
      ]
     },
     "execution_count": 12,
     "metadata": {},
     "output_type": "execute_result"
    }
   ],
   "source": [
    "# Reading in electoral division csv\n",
    "electoral_division_df = pd.read_csv(\"01-output_electorate_division_information/electoral_division.csv\")\n",
    "electoral_division_df.head()"
   ]
  },
  {
   "cell_type": "code",
   "execution_count": 13,
   "metadata": {},
   "outputs": [
    {
     "data": {
      "text/html": [
       "<div>\n",
       "<style scoped>\n",
       "    .dataframe tbody tr th:only-of-type {\n",
       "        vertical-align: middle;\n",
       "    }\n",
       "\n",
       "    .dataframe tbody tr th {\n",
       "        vertical-align: top;\n",
       "    }\n",
       "\n",
       "    .dataframe thead th {\n",
       "        text-align: right;\n",
       "    }\n",
       "</style>\n",
       "<table border=\"1\" class=\"dataframe\">\n",
       "  <thead>\n",
       "    <tr style=\"text-align: right;\">\n",
       "      <th></th>\n",
       "      <th>division_id</th>\n",
       "      <th>electoral_division</th>\n",
       "    </tr>\n",
       "  </thead>\n",
       "  <tbody>\n",
       "    <tr>\n",
       "      <th>0</th>\n",
       "      <td>179</td>\n",
       "      <td>Adelaide</td>\n",
       "    </tr>\n",
       "    <tr>\n",
       "      <th>1</th>\n",
       "      <td>197</td>\n",
       "      <td>Aston</td>\n",
       "    </tr>\n",
       "    <tr>\n",
       "      <th>2</th>\n",
       "      <td>198</td>\n",
       "      <td>Ballarat</td>\n",
       "    </tr>\n",
       "    <tr>\n",
       "      <th>3</th>\n",
       "      <td>103</td>\n",
       "      <td>Banks</td>\n",
       "    </tr>\n",
       "    <tr>\n",
       "      <th>4</th>\n",
       "      <td>180</td>\n",
       "      <td>Barker</td>\n",
       "    </tr>\n",
       "  </tbody>\n",
       "</table>\n",
       "</div>"
      ],
      "text/plain": [
       "   division_id electoral_division\n",
       "0          179           Adelaide\n",
       "1          197              Aston\n",
       "2          198           Ballarat\n",
       "3          103              Banks\n",
       "4          180             Barker"
      ]
     },
     "execution_count": 13,
     "metadata": {},
     "output_type": "execute_result"
    }
   ],
   "source": [
    "# dropping state column\n",
    "electoral_division_df = electoral_division_df.drop(columns = [\"state\"])\n",
    "electoral_division_df.head()"
   ]
  },
  {
   "cell_type": "code",
   "execution_count": 14,
   "metadata": {},
   "outputs": [
    {
     "data": {
      "text/html": [
       "<div>\n",
       "<style scoped>\n",
       "    .dataframe tbody tr th:only-of-type {\n",
       "        vertical-align: middle;\n",
       "    }\n",
       "\n",
       "    .dataframe tbody tr th {\n",
       "        vertical-align: top;\n",
       "    }\n",
       "\n",
       "    .dataframe thead th {\n",
       "        text-align: right;\n",
       "    }\n",
       "</style>\n",
       "<table border=\"1\" class=\"dataframe\">\n",
       "  <thead>\n",
       "    <tr style=\"text-align: right;\">\n",
       "      <th></th>\n",
       "      <th>division_id</th>\n",
       "      <th>electoral_division</th>\n",
       "      <th>year_12_completion(%)</th>\n",
       "      <th>higher_education_completion(%)</th>\n",
       "    </tr>\n",
       "  </thead>\n",
       "  <tbody>\n",
       "    <tr>\n",
       "      <th>0</th>\n",
       "      <td>179</td>\n",
       "      <td>Adelaide</td>\n",
       "      <td>82.4</td>\n",
       "      <td>49.3</td>\n",
       "    </tr>\n",
       "    <tr>\n",
       "      <th>1</th>\n",
       "      <td>197</td>\n",
       "      <td>Aston</td>\n",
       "      <td>79.7</td>\n",
       "      <td>49.3</td>\n",
       "    </tr>\n",
       "    <tr>\n",
       "      <th>2</th>\n",
       "      <td>198</td>\n",
       "      <td>Ballarat</td>\n",
       "      <td>68.6</td>\n",
       "      <td>45.1</td>\n",
       "    </tr>\n",
       "    <tr>\n",
       "      <th>3</th>\n",
       "      <td>103</td>\n",
       "      <td>Banks</td>\n",
       "      <td>83.4</td>\n",
       "      <td>47.8</td>\n",
       "    </tr>\n",
       "    <tr>\n",
       "      <th>4</th>\n",
       "      <td>180</td>\n",
       "      <td>Barker</td>\n",
       "      <td>57.9</td>\n",
       "      <td>34.9</td>\n",
       "    </tr>\n",
       "  </tbody>\n",
       "</table>\n",
       "</div>"
      ],
      "text/plain": [
       "   division_id electoral_division  year_12_completion(%)  \\\n",
       "0          179           Adelaide                   82.4   \n",
       "1          197              Aston                   79.7   \n",
       "2          198           Ballarat                   68.6   \n",
       "3          103              Banks                   83.4   \n",
       "4          180             Barker                   57.9   \n",
       "\n",
       "   higher_education_completion(%)  \n",
       "0                            49.3  \n",
       "1                            49.3  \n",
       "2                            45.1  \n",
       "3                            47.8  \n",
       "4                            34.9  "
      ]
     },
     "execution_count": 14,
     "metadata": {},
     "output_type": "execute_result"
    }
   ],
   "source": [
    "# merging the dataframes\n",
    "# merged_df = education_level_df.merge(electoral_division_df, how = 'left', on = 'electoral_division')\n",
    "merged_df = electoral_division_df.merge(education_df, how = 'left', on = 'electoral_division')\n",
    "merged_df.head()"
   ]
  },
  {
   "cell_type": "code",
   "execution_count": 15,
   "metadata": {},
   "outputs": [
    {
     "data": {
      "text/html": [
       "<div>\n",
       "<style scoped>\n",
       "    .dataframe tbody tr th:only-of-type {\n",
       "        vertical-align: middle;\n",
       "    }\n",
       "\n",
       "    .dataframe tbody tr th {\n",
       "        vertical-align: top;\n",
       "    }\n",
       "\n",
       "    .dataframe thead th {\n",
       "        text-align: right;\n",
       "    }\n",
       "</style>\n",
       "<table border=\"1\" class=\"dataframe\">\n",
       "  <thead>\n",
       "    <tr style=\"text-align: right;\">\n",
       "      <th></th>\n",
       "      <th>electoral_division</th>\n",
       "      <th>year_12_completion(%)</th>\n",
       "      <th>higher_education_completion(%)</th>\n",
       "    </tr>\n",
       "    <tr>\n",
       "      <th>division_id</th>\n",
       "      <th></th>\n",
       "      <th></th>\n",
       "      <th></th>\n",
       "    </tr>\n",
       "  </thead>\n",
       "  <tbody>\n",
       "    <tr>\n",
       "      <th>179</th>\n",
       "      <td>Adelaide</td>\n",
       "      <td>82.4</td>\n",
       "      <td>49.3</td>\n",
       "    </tr>\n",
       "    <tr>\n",
       "      <th>197</th>\n",
       "      <td>Aston</td>\n",
       "      <td>79.7</td>\n",
       "      <td>49.3</td>\n",
       "    </tr>\n",
       "    <tr>\n",
       "      <th>198</th>\n",
       "      <td>Ballarat</td>\n",
       "      <td>68.6</td>\n",
       "      <td>45.1</td>\n",
       "    </tr>\n",
       "    <tr>\n",
       "      <th>103</th>\n",
       "      <td>Banks</td>\n",
       "      <td>83.4</td>\n",
       "      <td>47.8</td>\n",
       "    </tr>\n",
       "    <tr>\n",
       "      <th>180</th>\n",
       "      <td>Barker</td>\n",
       "      <td>57.9</td>\n",
       "      <td>34.9</td>\n",
       "    </tr>\n",
       "  </tbody>\n",
       "</table>\n",
       "</div>"
      ],
      "text/plain": [
       "            electoral_division  year_12_completion(%)  \\\n",
       "division_id                                             \n",
       "179                   Adelaide                   82.4   \n",
       "197                      Aston                   79.7   \n",
       "198                   Ballarat                   68.6   \n",
       "103                      Banks                   83.4   \n",
       "180                     Barker                   57.9   \n",
       "\n",
       "             higher_education_completion(%)  \n",
       "division_id                                  \n",
       "179                                    49.3  \n",
       "197                                    49.3  \n",
       "198                                    45.1  \n",
       "103                                    47.8  \n",
       "180                                    34.9  "
      ]
     },
     "execution_count": 15,
     "metadata": {},
     "output_type": "execute_result"
    }
   ],
   "source": [
    "# Setting the index\n",
    "merged_df = merged_df.set_index('division_id')\n",
    "merged_df.head()"
   ]
  },
  {
   "cell_type": "markdown",
   "metadata": {},
   "source": [
    "# Exploratory Data Analysis"
   ]
  },
  {
   "cell_type": "markdown",
   "metadata": {},
   "source": [
    "Will construct some bar charts to visualusalise the data."
   ]
  },
  {
   "cell_type": "markdown",
   "metadata": {},
   "source": [
    "First plotting Year 12 Completion column."
   ]
  },
  {
   "cell_type": "code",
   "execution_count": 16,
   "metadata": {},
   "outputs": [
    {
     "data": {
      "image/png": "[encoded data removed]",
      "text/plain": [
       "<Figure size 1008x288 with 1 Axes>"
      ]
     },
     "metadata": {
      "needs_background": "light"
     },
     "output_type": "display_data"
    }
   ],
   "source": [
    "import matplotlib.pyplot as plt\n",
    "\n",
    "# setting the size of the figure\n",
    "fig = plt.figure(figsize=(14, 4))\n",
    "ax = fig.add_axes([0,0,1,1])\n",
    "# plotting the bar chart\n",
    "ax.bar(merged_df['electoral_division'], merged_df['year_12_completion(%)'], align='edge')\n",
    "\n",
    "# setting labels\n",
    "plt.title('Year 12 Completion Levels Per Electoral Division')\n",
    "plt.xlabel('Electoral Division')\n",
    "plt.ylabel('Year 12 completion levels (%)')\n",
    "\n",
    "# rotating the x labels and displaying only every second one \n",
    "plt.xticks(rotation = 90)\n",
    "for label in ax.get_xaxis().get_ticklabels()[::2]:\n",
    "    label.set_visible(False)\n",
    "plt.show()\n"
   ]
  },
  {
   "cell_type": "markdown",
   "metadata": {},
   "source": [
    "The bar plot has identified seven Electoral Divisions that are displaying no values for Year 12 Completion levels. This needs to be investigated further."
   ]
  },
  {
   "cell_type": "markdown",
   "metadata": {},
   "source": [
    "Will firstly check whether these Electoral Divisions just have low or 0% values for the Year 12 Completion percentage."
   ]
  },
  {
   "cell_type": "code",
   "execution_count": 17,
   "metadata": {},
   "outputs": [
    {
     "data": {
      "text/html": [
       "<div>\n",
       "<style scoped>\n",
       "    .dataframe tbody tr th:only-of-type {\n",
       "        vertical-align: middle;\n",
       "    }\n",
       "\n",
       "    .dataframe tbody tr th {\n",
       "        vertical-align: top;\n",
       "    }\n",
       "\n",
       "    .dataframe thead th {\n",
       "        text-align: right;\n",
       "    }\n",
       "</style>\n",
       "<table border=\"1\" class=\"dataframe\">\n",
       "  <thead>\n",
       "    <tr style=\"text-align: right;\">\n",
       "      <th></th>\n",
       "      <th>electoral_division</th>\n",
       "      <th>year_12_completion(%)</th>\n",
       "      <th>higher_education_completion(%)</th>\n",
       "    </tr>\n",
       "    <tr>\n",
       "      <th>division_id</th>\n",
       "      <th></th>\n",
       "      <th></th>\n",
       "      <th></th>\n",
       "    </tr>\n",
       "  </thead>\n",
       "  <tbody>\n",
       "  </tbody>\n",
       "</table>\n",
       "</div>"
      ],
      "text/plain": [
       "Empty DataFrame\n",
       "Columns: [electoral_division, year_12_completion(%), higher_education_completion(%)]\n",
       "Index: []"
      ]
     },
     "execution_count": 17,
     "metadata": {},
     "output_type": "execute_result"
    }
   ],
   "source": [
    "# Using loc to view Electoral Divisions that have Year 12 Completion percentages between 0 and 20%\n",
    "\n",
    "low_numbers = merged_df.loc[(merged_df['year_12_completion(%)'] >= 0) & (merged_df['year_12_completion(%)'] <= 20), :]\n",
    "low_numbers\n"
   ]
  },
  {
   "cell_type": "markdown",
   "metadata": {},
   "source": [
    "This gives no result, indicating that the Electoral Divisions do not have low values but instead may have empty cells or NaNs."
   ]
  },
  {
   "cell_type": "markdown",
   "metadata": {},
   "source": [
    "Checking this by considering a specific Electoral Division, 'denison', as it was shown in the bar chart to have no value."
   ]
  },
  {
   "cell_type": "code",
   "execution_count": 18,
   "metadata": {},
   "outputs": [
    {
     "data": {
      "text/html": [
       "<div>\n",
       "<style scoped>\n",
       "    .dataframe tbody tr th:only-of-type {\n",
       "        vertical-align: middle;\n",
       "    }\n",
       "\n",
       "    .dataframe tbody tr th {\n",
       "        vertical-align: top;\n",
       "    }\n",
       "\n",
       "    .dataframe thead th {\n",
       "        text-align: right;\n",
       "    }\n",
       "</style>\n",
       "<table border=\"1\" class=\"dataframe\">\n",
       "  <thead>\n",
       "    <tr style=\"text-align: right;\">\n",
       "      <th></th>\n",
       "      <th>electoral_division</th>\n",
       "      <th>year_12_completion(%)</th>\n",
       "      <th>higher_education_completion(%)</th>\n",
       "    </tr>\n",
       "    <tr>\n",
       "      <th>division_id</th>\n",
       "      <th></th>\n",
       "      <th></th>\n",
       "      <th></th>\n",
       "    </tr>\n",
       "  </thead>\n",
       "  <tbody>\n",
       "    <tr>\n",
       "      <th>194</th>\n",
       "      <td>Denison</td>\n",
       "      <td>NaN</td>\n",
       "      <td>NaN</td>\n",
       "    </tr>\n",
       "  </tbody>\n",
       "</table>\n",
       "</div>"
      ],
      "text/plain": [
       "            electoral_division  year_12_completion(%)  \\\n",
       "division_id                                             \n",
       "194                    Denison                    NaN   \n",
       "\n",
       "             higher_education_completion(%)  \n",
       "division_id                                  \n",
       "194                                     NaN  "
      ]
     },
     "execution_count": 18,
     "metadata": {},
     "output_type": "execute_result"
    }
   ],
   "source": [
    "# Using loc to reduce the dataframe to only show the electoral division 'Denison'\n",
    "denison = merged_df.loc[(merged_df['electoral_division'] == 'Denison'),:]\n",
    "denison"
   ]
  },
  {
   "cell_type": "markdown",
   "metadata": {},
   "source": [
    "This confirms that the lack of data is due to NaNs."
   ]
  },
  {
   "cell_type": "markdown",
   "metadata": {},
   "source": [
    "Will now plot the Higher Education Completion column to see if a similar pattern emerges and it too contains NaNs."
   ]
  },
  {
   "cell_type": "code",
   "execution_count": 19,
   "metadata": {},
   "outputs": [
    {
     "data": {
      "image/png": "[encoded data removed]",
      "text/plain": [
       "<Figure size 1008x288 with 1 Axes>"
      ]
     },
     "metadata": {
      "needs_background": "light"
     },
     "output_type": "display_data"
    }
   ],
   "source": [
    "# setting the size of the figure\n",
    "fig = plt.figure(figsize=(14, 4))\n",
    "ax = fig.add_axes([0,0,1,1])\n",
    "# plotting the bar chart\n",
    "ax.bar(merged_df['electoral_division'], merged_df['higher_education_completion(%)'], align='edge')\n",
    "\n",
    "# setting labels\n",
    "plt.title('Higher Education Completion Levels Per Electoral Division')\n",
    "plt.xlabel('Electoral Division')\n",
    "plt.ylabel('Higher Education completion levels (%)')\n",
    "\n",
    "# rotating the x labels and displaying only every second one \n",
    "plt.xticks(rotation = 90)\n",
    "for label in ax.get_xaxis().get_ticklabels()[::2]:\n",
    "    label.set_visible(False)\n",
    "plt.show()\n"
   ]
  },
  {
   "cell_type": "markdown",
   "metadata": {},
   "source": [
    "The bar chart has identified seven Electoral Divisions that are displaying no values for Higher Education Completion levels. This is the same amount of missing data that was identified previously. "
   ]
  },
  {
   "cell_type": "markdown",
   "metadata": {},
   "source": [
    "Visually, it seems that the missing data in both columns is for the same Electoral Divisions. However this will need to be confirmed."
   ]
  },
  {
   "cell_type": "markdown",
   "metadata": {},
   "source": [
    "Will first calculate the number of NaN values per column."
   ]
  },
  {
   "cell_type": "code",
   "execution_count": 20,
   "metadata": {},
   "outputs": [
    {
     "name": "stdout",
     "output_type": "stream",
     "text": [
      "electoral_division                0\n",
      "year_12_completion(%)             7\n",
      "higher_education_completion(%)    7\n",
      "dtype: int64\n",
      "There are 14 NaN values present in total.\n"
     ]
    }
   ],
   "source": [
    "# Summing the NaN values to see how many there are per column\n",
    "print(merged_df.isnull().sum())\n",
    "\n",
    "# Determining the total number of NaN values\n",
    "print(f\"There are {merged_df.isnull().sum().sum()} NaN values present in total.\")"
   ]
  },
  {
   "cell_type": "markdown",
   "metadata": {},
   "source": [
    "This confirms there are 7 NaN values per column."
   ]
  },
  {
   "cell_type": "markdown",
   "metadata": {},
   "source": [
    "Will now determine if these occur in the same rows across both columns."
   ]
  },
  {
   "cell_type": "code",
   "execution_count": 21,
   "metadata": {},
   "outputs": [
    {
     "data": {
      "text/html": [
       "<div>\n",
       "<style scoped>\n",
       "    .dataframe tbody tr th:only-of-type {\n",
       "        vertical-align: middle;\n",
       "    }\n",
       "\n",
       "    .dataframe tbody tr th {\n",
       "        vertical-align: top;\n",
       "    }\n",
       "\n",
       "    .dataframe thead th {\n",
       "        text-align: right;\n",
       "    }\n",
       "</style>\n",
       "<table border=\"1\" class=\"dataframe\">\n",
       "  <thead>\n",
       "    <tr style=\"text-align: right;\">\n",
       "      <th></th>\n",
       "      <th>electoral_division</th>\n",
       "      <th>year_12_completion(%)</th>\n",
       "      <th>higher_education_completion(%)</th>\n",
       "    </tr>\n",
       "    <tr>\n",
       "      <th>division_id</th>\n",
       "      <th></th>\n",
       "      <th></th>\n",
       "      <th></th>\n",
       "    </tr>\n",
       "  </thead>\n",
       "  <tbody>\n",
       "    <tr>\n",
       "      <th>199</th>\n",
       "      <td>Batman</td>\n",
       "      <td>NaN</td>\n",
       "      <td>NaN</td>\n",
       "    </tr>\n",
       "    <tr>\n",
       "      <th>194</th>\n",
       "      <td>Denison</td>\n",
       "      <td>NaN</td>\n",
       "      <td>NaN</td>\n",
       "    </tr>\n",
       "    <tr>\n",
       "      <th>227</th>\n",
       "      <td>McMillan</td>\n",
       "      <td>NaN</td>\n",
       "      <td>NaN</td>\n",
       "    </tr>\n",
       "    <tr>\n",
       "      <th>230</th>\n",
       "      <td>Melbourne Ports</td>\n",
       "      <td>NaN</td>\n",
       "      <td>NaN</td>\n",
       "    </tr>\n",
       "    <tr>\n",
       "      <th>231</th>\n",
       "      <td>Murray</td>\n",
       "      <td>NaN</td>\n",
       "      <td>NaN</td>\n",
       "    </tr>\n",
       "    <tr>\n",
       "      <th>189</th>\n",
       "      <td>Port Adelaide</td>\n",
       "      <td>NaN</td>\n",
       "      <td>NaN</td>\n",
       "    </tr>\n",
       "    <tr>\n",
       "      <th>191</th>\n",
       "      <td>Wakefield</td>\n",
       "      <td>NaN</td>\n",
       "      <td>NaN</td>\n",
       "    </tr>\n",
       "  </tbody>\n",
       "</table>\n",
       "</div>"
      ],
      "text/plain": [
       "            electoral_division  year_12_completion(%)  \\\n",
       "division_id                                             \n",
       "199                     Batman                    NaN   \n",
       "194                    Denison                    NaN   \n",
       "227                   McMillan                    NaN   \n",
       "230            Melbourne Ports                    NaN   \n",
       "231                     Murray                    NaN   \n",
       "189              Port Adelaide                    NaN   \n",
       "191                  Wakefield                    NaN   \n",
       "\n",
       "             higher_education_completion(%)  \n",
       "division_id                                  \n",
       "199                                     NaN  \n",
       "194                                     NaN  \n",
       "227                                     NaN  \n",
       "230                                     NaN  \n",
       "231                                     NaN  \n",
       "189                                     NaN  \n",
       "191                                     NaN  "
      ]
     },
     "execution_count": 21,
     "metadata": {},
     "output_type": "execute_result"
    }
   ],
   "source": [
    "# Printing a dataframe that shows only the rows with NaN values\n",
    "merged_df[merged_df.isnull().any(axis=1)]"
   ]
  },
  {
   "cell_type": "markdown",
   "metadata": {},
   "source": [
    "This confirms that there are seven Electoral Divisions that have NaN values."
   ]
  },
  {
   "cell_type": "markdown",
   "metadata": {},
   "source": [
    "### Why is this?"
   ]
  },
  {
   "cell_type": "markdown",
   "metadata": {},
   "source": [
    "It seems that each dataframe contained a different number of electorates or even some electorates that were not present in both of the dataframes, but may have been present in one or the other."
   ]
  },
  {
   "cell_type": "markdown",
   "metadata": {},
   "source": [
    "To investigate..."
   ]
  },
  {
   "cell_type": "markdown",
   "metadata": {},
   "source": [
    "Will firstly check the number of rows in each dataframe."
   ]
  },
  {
   "cell_type": "code",
   "execution_count": 22,
   "metadata": {},
   "outputs": [
    {
     "name": "stdout",
     "output_type": "stream",
     "text": [
      "The number of rows in education_df is 151.\n",
      "The number of rows in electoral_division_df is 150.\n",
      "The number of rows in merged_df is 150.\n"
     ]
    }
   ],
   "source": [
    "education_rows = len(education_df.axes[0])\n",
    "electoral_division_rows = len(electoral_division_df.axes[0])\n",
    "merged_df_row = len(merged_df.axes[0])\n",
    "\n",
    "print(f\"The number of rows in education_df is {education_rows}.\")\n",
    "print(f\"The number of rows in electoral_division_df is {electoral_division_rows}.\")\n",
    "print(f\"The number of rows in merged_df is {merged_df_row}.\")"
   ]
  },
  {
   "cell_type": "markdown",
   "metadata": {},
   "source": [
    "This shows that there is a different number of rows in each dataframe. Will now check what happens with different types of merges."
   ]
  },
  {
   "cell_type": "code",
   "execution_count": 23,
   "metadata": {},
   "outputs": [
    {
     "name": "stdout",
     "output_type": "stream",
     "text": [
      "There are 151 rows in this merged dataframe.\n"
     ]
    }
   ],
   "source": [
    "# merging on the electoral divisions that are in education_df\n",
    "second_merged_df = education_df.merge(electoral_division_df, how = 'left', on = 'electoral_division')\n",
    "\n",
    "rows = len(second_merged_df.axes[0])\n",
    "print(f\"There are {rows} rows in this merged dataframe.\")"
   ]
  },
  {
   "cell_type": "code",
   "execution_count": 24,
   "metadata": {},
   "outputs": [
    {
     "name": "stdout",
     "output_type": "stream",
     "text": [
      "There are 150 rows in this merged dataframe.\n"
     ]
    }
   ],
   "source": [
    "# merging on the electoral divisions that are in electoral_division_df\n",
    "third_merged_df = education_df.merge(electoral_division_df, how = 'right', on = 'electoral_division')\n",
    "\n",
    "rows = len(third_merged_df.axes[0])\n",
    "print(f\"There are {rows} rows in this merged dataframe.\")"
   ]
  },
  {
   "cell_type": "code",
   "execution_count": 25,
   "metadata": {},
   "outputs": [
    {
     "name": "stdout",
     "output_type": "stream",
     "text": [
      "There are 143 rows in this merged dataframe.\n"
     ]
    }
   ],
   "source": [
    "# merging on the electoral divisions that are common across both dataframes, inner merge\n",
    "fourth_merged_df = education_df.merge(electoral_division_df, how = 'inner', on = 'electoral_division')\n",
    "\n",
    "rows = len(fourth_merged_df.axes[0])\n",
    "print(f\"There are {rows} rows in this merged dataframe.\")"
   ]
  },
  {
   "cell_type": "code",
   "execution_count": 26,
   "metadata": {},
   "outputs": [
    {
     "name": "stdout",
     "output_type": "stream",
     "text": [
      "There are 158 rows in this merged dataframe.\n"
     ]
    }
   ],
   "source": [
    "# merging on the electoral divisions that are in both dataframes (those common and those not), outer merge\n",
    "fifth_merged_df = education_df.merge(electoral_division_df, how = 'outer', on = 'electoral_division')\n",
    "\n",
    "rows = len(fifth_merged_df.axes[0])\n",
    "print(f\"There are {rows} rows in this merged dataframe.\")"
   ]
  },
  {
   "cell_type": "markdown",
   "metadata": {},
   "source": [
    "The problem is that there are different electorates in each data set. The data sets contain a different number of electorates and some electorates are unique to each data set. \n",
    "Therefore, the assumption that the data sources contained the same Electoral Divisions was incorrect. This problem had not occured with data sets from other sources so it seems that only the data sets obtained from the ABS had different Electoral Divisions.   "
   ]
  },
  {
   "cell_type": "markdown",
   "metadata": {},
   "source": [
    "To ensure that there are no NaN values in the final table I will merge the data sets again with an inner merge. This will leave 143 rows in the merged dataframe, as it will only contain the Electoral Divisions common to both data sets."
   ]
  },
  {
   "cell_type": "markdown",
   "metadata": {},
   "source": [
    "In the final database, most tables will have 150 rows. It will then be a limitation that this table will only contain 143."
   ]
  },
  {
   "cell_type": "markdown",
   "metadata": {},
   "source": [
    "# Second Merge"
   ]
  },
  {
   "cell_type": "code",
   "execution_count": 27,
   "metadata": {},
   "outputs": [
    {
     "name": "stdout",
     "output_type": "stream",
     "text": [
      "There are 143 rows in the final merged dataframe.\n"
     ]
    }
   ],
   "source": [
    "# merging on the electoral divisions that are common across both dataframes, inner merge\n",
    "final_merged_df = education_df.merge(electoral_division_df, how = 'inner', on = 'electoral_division')\n",
    "print(f\"There are {len(final_merged_df.axes[0])} rows in the final merged dataframe.\")"
   ]
  },
  {
   "cell_type": "code",
   "execution_count": 28,
   "metadata": {},
   "outputs": [
    {
     "name": "stdout",
     "output_type": "stream",
     "text": [
      "electoral_division                0\n",
      "year_12_completion(%)             0\n",
      "higher_education_completion(%)    0\n",
      "division_id                       0\n",
      "dtype: int64\n",
      "There are 0 NaN values present in the dataframe.\n"
     ]
    }
   ],
   "source": [
    "# Confirming there are no more NaN values\n",
    "print(final_merged_df.isnull().sum())\n",
    "\n",
    "# Determining the total number of NaN values\n",
    "print(f\"There are {final_merged_df.isnull().sum().sum()} NaN values present in the dataframe.\")"
   ]
  },
  {
   "cell_type": "code",
   "execution_count": 29,
   "metadata": {},
   "outputs": [
    {
     "data": {
      "text/html": [
       "<div>\n",
       "<style scoped>\n",
       "    .dataframe tbody tr th:only-of-type {\n",
       "        vertical-align: middle;\n",
       "    }\n",
       "\n",
       "    .dataframe tbody tr th {\n",
       "        vertical-align: top;\n",
       "    }\n",
       "\n",
       "    .dataframe thead th {\n",
       "        text-align: right;\n",
       "    }\n",
       "</style>\n",
       "<table border=\"1\" class=\"dataframe\">\n",
       "  <thead>\n",
       "    <tr style=\"text-align: right;\">\n",
       "      <th></th>\n",
       "      <th>electoral_division</th>\n",
       "      <th>year_12_completion(%)</th>\n",
       "      <th>higher_education_completion(%)</th>\n",
       "    </tr>\n",
       "    <tr>\n",
       "      <th>division_id</th>\n",
       "      <th></th>\n",
       "      <th></th>\n",
       "      <th></th>\n",
       "    </tr>\n",
       "  </thead>\n",
       "  <tbody>\n",
       "    <tr>\n",
       "      <th>179</th>\n",
       "      <td>Adelaide</td>\n",
       "      <td>82.4</td>\n",
       "      <td>49.3</td>\n",
       "    </tr>\n",
       "    <tr>\n",
       "      <th>197</th>\n",
       "      <td>Aston</td>\n",
       "      <td>79.7</td>\n",
       "      <td>49.3</td>\n",
       "    </tr>\n",
       "    <tr>\n",
       "      <th>198</th>\n",
       "      <td>Ballarat</td>\n",
       "      <td>68.6</td>\n",
       "      <td>45.1</td>\n",
       "    </tr>\n",
       "    <tr>\n",
       "      <th>103</th>\n",
       "      <td>Banks</td>\n",
       "      <td>83.4</td>\n",
       "      <td>47.8</td>\n",
       "    </tr>\n",
       "    <tr>\n",
       "      <th>180</th>\n",
       "      <td>Barker</td>\n",
       "      <td>57.9</td>\n",
       "      <td>34.9</td>\n",
       "    </tr>\n",
       "  </tbody>\n",
       "</table>\n",
       "</div>"
      ],
      "text/plain": [
       "            electoral_division  year_12_completion(%)  \\\n",
       "division_id                                             \n",
       "179                   Adelaide                   82.4   \n",
       "197                      Aston                   79.7   \n",
       "198                   Ballarat                   68.6   \n",
       "103                      Banks                   83.4   \n",
       "180                     Barker                   57.9   \n",
       "\n",
       "             higher_education_completion(%)  \n",
       "division_id                                  \n",
       "179                                    49.3  \n",
       "197                                    49.3  \n",
       "198                                    45.1  \n",
       "103                                    47.8  \n",
       "180                                    34.9  "
      ]
     },
     "execution_count": 29,
     "metadata": {},
     "output_type": "execute_result"
    }
   ],
   "source": [
    "# Setting the index\n",
    "final_merged_df = final_merged_df.set_index('division_id')\n",
    "final_merged_df.head()"
   ]
  },
  {
   "cell_type": "markdown",
   "metadata": {},
   "source": [
    "### Removing electoral division column "
   ]
  },
  {
   "cell_type": "code",
   "execution_count": 30,
   "metadata": {},
   "outputs": [
    {
     "data": {
      "text/html": [
       "<div>\n",
       "<style scoped>\n",
       "    .dataframe tbody tr th:only-of-type {\n",
       "        vertical-align: middle;\n",
       "    }\n",
       "\n",
       "    .dataframe tbody tr th {\n",
       "        vertical-align: top;\n",
       "    }\n",
       "\n",
       "    .dataframe thead th {\n",
       "        text-align: right;\n",
       "    }\n",
       "</style>\n",
       "<table border=\"1\" class=\"dataframe\">\n",
       "  <thead>\n",
       "    <tr style=\"text-align: right;\">\n",
       "      <th></th>\n",
       "      <th>year_12_completion(%)</th>\n",
       "      <th>higher_education_completion(%)</th>\n",
       "    </tr>\n",
       "    <tr>\n",
       "      <th>division_id</th>\n",
       "      <th></th>\n",
       "      <th></th>\n",
       "    </tr>\n",
       "  </thead>\n",
       "  <tbody>\n",
       "    <tr>\n",
       "      <th>179</th>\n",
       "      <td>82.4</td>\n",
       "      <td>49.3</td>\n",
       "    </tr>\n",
       "    <tr>\n",
       "      <th>197</th>\n",
       "      <td>79.7</td>\n",
       "      <td>49.3</td>\n",
       "    </tr>\n",
       "    <tr>\n",
       "      <th>198</th>\n",
       "      <td>68.6</td>\n",
       "      <td>45.1</td>\n",
       "    </tr>\n",
       "    <tr>\n",
       "      <th>103</th>\n",
       "      <td>83.4</td>\n",
       "      <td>47.8</td>\n",
       "    </tr>\n",
       "    <tr>\n",
       "      <th>180</th>\n",
       "      <td>57.9</td>\n",
       "      <td>34.9</td>\n",
       "    </tr>\n",
       "  </tbody>\n",
       "</table>\n",
       "</div>"
      ],
      "text/plain": [
       "             year_12_completion(%)  higher_education_completion(%)\n",
       "division_id                                                       \n",
       "179                           82.4                            49.3\n",
       "197                           79.7                            49.3\n",
       "198                           68.6                            45.1\n",
       "103                           83.4                            47.8\n",
       "180                           57.9                            34.9"
      ]
     },
     "execution_count": 30,
     "metadata": {},
     "output_type": "execute_result"
    }
   ],
   "source": [
    "# Removing the electoral_division column as it is no longer needed. The division_id index will be used to uniquely \n",
    "# identify each row\n",
    "final_merged_df = final_merged_df.drop(columns = [\"electoral_division\"])\n",
    "final_merged_df.head()"
   ]
  },
  {
   "cell_type": "markdown",
   "metadata": {},
   "source": [
    "# Exporting to csv"
   ]
  },
  {
   "cell_type": "code",
   "execution_count": 31,
   "metadata": {},
   "outputs": [],
   "source": [
    "# Exporting dataframe to csv\n",
    "final_merged_df.to_csv(\"10-output_education/10-education.csv\")"
   ]
  }
 ],
 "metadata": {
  "kernelspec": {
   "display_name": "Python [conda env:PythonData] *",
   "language": "python",
   "name": "conda-env-PythonData-py"
  },
  "language_info": {
   "codemirror_mode": {
    "name": "ipython",
    "version": 3
   },
   "file_extension": ".py",
   "mimetype": "text/x-python",
   "name": "python",
   "nbconvert_exporter": "python",
   "pygments_lexer": "ipython3",
   "version": "3.6.10"
  }
 },
 "nbformat": 4,
 "nbformat_minor": 4
}
