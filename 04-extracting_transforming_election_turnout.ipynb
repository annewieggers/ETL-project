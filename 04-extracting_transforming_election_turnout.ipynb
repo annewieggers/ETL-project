{
 "cells": [
  {
   "cell_type": "code",
   "execution_count": 26,
   "metadata": {},
   "outputs": [],
   "source": [
    "import pandas as pd"
   ]
  },
  {
   "cell_type": "markdown",
   "metadata": {},
   "source": [
    "# Extracting enrolment division info and turnout data from CSV"
   ]
  },
  {
   "cell_type": "code",
   "execution_count": 27,
   "metadata": {},
   "outputs": [],
   "source": [
    "df = pd.read_csv('Resources/HouseVotesCountedByDivisionDownload-20499.csv', header=1)"
   ]
  },
  {
   "cell_type": "code",
   "execution_count": 28,
   "metadata": {},
   "outputs": [
    {
     "data": {
      "text/html": [
       "<div>\n",
       "<style scoped>\n",
       "    .dataframe tbody tr th:only-of-type {\n",
       "        vertical-align: middle;\n",
       "    }\n",
       "\n",
       "    .dataframe tbody tr th {\n",
       "        vertical-align: top;\n",
       "    }\n",
       "\n",
       "    .dataframe thead th {\n",
       "        text-align: right;\n",
       "    }\n",
       "</style>\n",
       "<table border=\"1\" class=\"dataframe\">\n",
       "  <thead>\n",
       "    <tr style=\"text-align: right;\">\n",
       "      <th></th>\n",
       "      <th>DivisionID</th>\n",
       "      <th>DivisionNm</th>\n",
       "      <th>StateAb</th>\n",
       "      <th>Enrolment</th>\n",
       "      <th>OrdinaryVotes</th>\n",
       "      <th>AbsentVotes</th>\n",
       "      <th>ProvisionalVotes</th>\n",
       "      <th>PrePollVotes</th>\n",
       "      <th>PostalVotes</th>\n",
       "      <th>TotalVotes</th>\n",
       "      <th>TotalPercentage</th>\n",
       "    </tr>\n",
       "  </thead>\n",
       "  <tbody>\n",
       "    <tr>\n",
       "      <th>0</th>\n",
       "      <td>179</td>\n",
       "      <td>Adelaide</td>\n",
       "      <td>SA</td>\n",
       "      <td>109217</td>\n",
       "      <td>79148</td>\n",
       "      <td>6869</td>\n",
       "      <td>686</td>\n",
       "      <td>3444</td>\n",
       "      <td>8515</td>\n",
       "      <td>98662</td>\n",
       "      <td>90.34</td>\n",
       "    </tr>\n",
       "    <tr>\n",
       "      <th>1</th>\n",
       "      <td>197</td>\n",
       "      <td>Aston</td>\n",
       "      <td>VIC</td>\n",
       "      <td>96043</td>\n",
       "      <td>72395</td>\n",
       "      <td>3756</td>\n",
       "      <td>292</td>\n",
       "      <td>3090</td>\n",
       "      <td>9578</td>\n",
       "      <td>89111</td>\n",
       "      <td>92.78</td>\n",
       "    </tr>\n",
       "    <tr>\n",
       "      <th>2</th>\n",
       "      <td>198</td>\n",
       "      <td>Ballarat</td>\n",
       "      <td>VIC</td>\n",
       "      <td>110755</td>\n",
       "      <td>87377</td>\n",
       "      <td>3439</td>\n",
       "      <td>783</td>\n",
       "      <td>3118</td>\n",
       "      <td>8451</td>\n",
       "      <td>103168</td>\n",
       "      <td>93.15</td>\n",
       "    </tr>\n",
       "    <tr>\n",
       "      <th>3</th>\n",
       "      <td>103</td>\n",
       "      <td>Banks</td>\n",
       "      <td>NSW</td>\n",
       "      <td>104891</td>\n",
       "      <td>81420</td>\n",
       "      <td>4109</td>\n",
       "      <td>469</td>\n",
       "      <td>3395</td>\n",
       "      <td>7095</td>\n",
       "      <td>96488</td>\n",
       "      <td>91.99</td>\n",
       "    </tr>\n",
       "    <tr>\n",
       "      <th>4</th>\n",
       "      <td>180</td>\n",
       "      <td>Barker</td>\n",
       "      <td>SA</td>\n",
       "      <td>105600</td>\n",
       "      <td>85870</td>\n",
       "      <td>3019</td>\n",
       "      <td>245</td>\n",
       "      <td>2877</td>\n",
       "      <td>6662</td>\n",
       "      <td>98673</td>\n",
       "      <td>93.44</td>\n",
       "    </tr>\n",
       "  </tbody>\n",
       "</table>\n",
       "</div>"
      ],
      "text/plain": [
       "   DivisionID DivisionNm StateAb  Enrolment  OrdinaryVotes  AbsentVotes  \\\n",
       "0         179   Adelaide      SA     109217          79148         6869   \n",
       "1         197      Aston     VIC      96043          72395         3756   \n",
       "2         198   Ballarat     VIC     110755          87377         3439   \n",
       "3         103      Banks     NSW     104891          81420         4109   \n",
       "4         180     Barker      SA     105600          85870         3019   \n",
       "\n",
       "   ProvisionalVotes  PrePollVotes  PostalVotes  TotalVotes  TotalPercentage  \n",
       "0               686          3444         8515       98662            90.34  \n",
       "1               292          3090         9578       89111            92.78  \n",
       "2               783          3118         8451      103168            93.15  \n",
       "3               469          3395         7095       96488            91.99  \n",
       "4               245          2877         6662       98673            93.44  "
      ]
     },
     "execution_count": 28,
     "metadata": {},
     "output_type": "execute_result"
    }
   ],
   "source": [
    "df.head()"
   ]
  },
  {
   "cell_type": "markdown",
   "metadata": {},
   "source": [
    "# Transforming the dataframe to look at the turnout of the 2016 federal election"
   ]
  },
  {
   "cell_type": "code",
   "execution_count": 29,
   "metadata": {},
   "outputs": [
    {
     "data": {
      "text/plain": [
       "Index(['DivisionID', 'DivisionNm', 'StateAb', 'Enrolment', 'OrdinaryVotes',\n",
       "       'AbsentVotes', 'ProvisionalVotes', 'PrePollVotes', 'PostalVotes',\n",
       "       'TotalVotes', 'TotalPercentage'],\n",
       "      dtype='object')"
      ]
     },
     "execution_count": 29,
     "metadata": {},
     "output_type": "execute_result"
    }
   ],
   "source": [
    "df.columns"
   ]
  },
  {
   "cell_type": "code",
   "execution_count": 30,
   "metadata": {},
   "outputs": [
    {
     "data": {
      "text/plain": [
       "DivisionID            int64\n",
       "DivisionNm           object\n",
       "StateAb              object\n",
       "Enrolment             int64\n",
       "OrdinaryVotes         int64\n",
       "AbsentVotes           int64\n",
       "ProvisionalVotes      int64\n",
       "PrePollVotes          int64\n",
       "PostalVotes           int64\n",
       "TotalVotes            int64\n",
       "TotalPercentage     float64\n",
       "dtype: object"
      ]
     },
     "execution_count": 30,
     "metadata": {},
     "output_type": "execute_result"
    }
   ],
   "source": [
    "df.dtypes"
   ]
  },
  {
   "cell_type": "code",
   "execution_count": 31,
   "metadata": {},
   "outputs": [
    {
     "data": {
      "text/plain": [
       "True"
      ]
     },
     "execution_count": 31,
     "metadata": {},
     "output_type": "execute_result"
    }
   ],
   "source": [
    "# checking for duplicates\n",
    "df['DivisionID'].is_unique"
   ]
  },
  {
   "cell_type": "code",
   "execution_count": 32,
   "metadata": {},
   "outputs": [
    {
     "data": {
      "text/plain": [
       "150"
      ]
     },
     "execution_count": 32,
     "metadata": {},
     "output_type": "execute_result"
    }
   ],
   "source": [
    "len(df)"
   ]
  },
  {
   "cell_type": "code",
   "execution_count": 33,
   "metadata": {},
   "outputs": [
    {
     "data": {
      "text/plain": [
       "150"
      ]
     },
     "execution_count": 33,
     "metadata": {},
     "output_type": "execute_result"
    }
   ],
   "source": [
    "# dropping any na values \n",
    "df = df.dropna()\n",
    "len(df)"
   ]
  },
  {
   "cell_type": "code",
   "execution_count": 34,
   "metadata": {},
   "outputs": [
    {
     "data": {
      "text/html": [
       "<div>\n",
       "<style scoped>\n",
       "    .dataframe tbody tr th:only-of-type {\n",
       "        vertical-align: middle;\n",
       "    }\n",
       "\n",
       "    .dataframe tbody tr th {\n",
       "        vertical-align: top;\n",
       "    }\n",
       "\n",
       "    .dataframe thead th {\n",
       "        text-align: right;\n",
       "    }\n",
       "</style>\n",
       "<table border=\"1\" class=\"dataframe\">\n",
       "  <thead>\n",
       "    <tr style=\"text-align: right;\">\n",
       "      <th></th>\n",
       "      <th>DivisionID</th>\n",
       "      <th>Enrolment</th>\n",
       "      <th>TotalVotes</th>\n",
       "      <th>TotalPercentage</th>\n",
       "    </tr>\n",
       "  </thead>\n",
       "  <tbody>\n",
       "    <tr>\n",
       "      <th>0</th>\n",
       "      <td>179</td>\n",
       "      <td>109217</td>\n",
       "      <td>98662</td>\n",
       "      <td>90.34</td>\n",
       "    </tr>\n",
       "    <tr>\n",
       "      <th>1</th>\n",
       "      <td>197</td>\n",
       "      <td>96043</td>\n",
       "      <td>89111</td>\n",
       "      <td>92.78</td>\n",
       "    </tr>\n",
       "    <tr>\n",
       "      <th>2</th>\n",
       "      <td>198</td>\n",
       "      <td>110755</td>\n",
       "      <td>103168</td>\n",
       "      <td>93.15</td>\n",
       "    </tr>\n",
       "    <tr>\n",
       "      <th>3</th>\n",
       "      <td>103</td>\n",
       "      <td>104891</td>\n",
       "      <td>96488</td>\n",
       "      <td>91.99</td>\n",
       "    </tr>\n",
       "    <tr>\n",
       "      <th>4</th>\n",
       "      <td>180</td>\n",
       "      <td>105600</td>\n",
       "      <td>98673</td>\n",
       "      <td>93.44</td>\n",
       "    </tr>\n",
       "    <tr>\n",
       "      <th>...</th>\n",
       "      <td>...</td>\n",
       "      <td>...</td>\n",
       "      <td>...</td>\n",
       "      <td>...</td>\n",
       "    </tr>\n",
       "    <tr>\n",
       "      <th>145</th>\n",
       "      <td>153</td>\n",
       "      <td>108557</td>\n",
       "      <td>97942</td>\n",
       "      <td>90.22</td>\n",
       "    </tr>\n",
       "    <tr>\n",
       "      <th>146</th>\n",
       "      <td>150</td>\n",
       "      <td>112051</td>\n",
       "      <td>104069</td>\n",
       "      <td>92.88</td>\n",
       "    </tr>\n",
       "    <tr>\n",
       "      <th>147</th>\n",
       "      <td>178</td>\n",
       "      <td>102856</td>\n",
       "      <td>94617</td>\n",
       "      <td>91.99</td>\n",
       "    </tr>\n",
       "    <tr>\n",
       "      <th>148</th>\n",
       "      <td>234</td>\n",
       "      <td>113851</td>\n",
       "      <td>100915</td>\n",
       "      <td>88.64</td>\n",
       "    </tr>\n",
       "    <tr>\n",
       "      <th>149</th>\n",
       "      <td>316</td>\n",
       "      <td>99969</td>\n",
       "      <td>92298</td>\n",
       "      <td>92.33</td>\n",
       "    </tr>\n",
       "  </tbody>\n",
       "</table>\n",
       "<p>150 rows × 4 columns</p>\n",
       "</div>"
      ],
      "text/plain": [
       "     DivisionID  Enrolment  TotalVotes  TotalPercentage\n",
       "0           179     109217       98662            90.34\n",
       "1           197      96043       89111            92.78\n",
       "2           198     110755      103168            93.15\n",
       "3           103     104891       96488            91.99\n",
       "4           180     105600       98673            93.44\n",
       "..          ...        ...         ...              ...\n",
       "145         153     108557       97942            90.22\n",
       "146         150     112051      104069            92.88\n",
       "147         178     102856       94617            91.99\n",
       "148         234     113851      100915            88.64\n",
       "149         316      99969       92298            92.33\n",
       "\n",
       "[150 rows x 4 columns]"
      ]
     },
     "execution_count": 34,
     "metadata": {},
     "output_type": "execute_result"
    }
   ],
   "source": [
    "# columns we want to keep\n",
    "columns = ['DivisionID', 'Enrolment', 'TotalVotes', 'TotalPercentage']\n",
    "turnout_df = df[columns]\n",
    "turnout_df"
   ]
  },
  {
   "cell_type": "code",
   "execution_count": 35,
   "metadata": {},
   "outputs": [
    {
     "data": {
      "text/html": [
       "<div>\n",
       "<style scoped>\n",
       "    .dataframe tbody tr th:only-of-type {\n",
       "        vertical-align: middle;\n",
       "    }\n",
       "\n",
       "    .dataframe tbody tr th {\n",
       "        vertical-align: top;\n",
       "    }\n",
       "\n",
       "    .dataframe thead th {\n",
       "        text-align: right;\n",
       "    }\n",
       "</style>\n",
       "<table border=\"1\" class=\"dataframe\">\n",
       "  <thead>\n",
       "    <tr style=\"text-align: right;\">\n",
       "      <th></th>\n",
       "      <th>division_id</th>\n",
       "      <th>total_enrolled</th>\n",
       "      <th>total_votes</th>\n",
       "      <th>turnout%</th>\n",
       "    </tr>\n",
       "  </thead>\n",
       "  <tbody>\n",
       "    <tr>\n",
       "      <th>0</th>\n",
       "      <td>179</td>\n",
       "      <td>109217</td>\n",
       "      <td>98662</td>\n",
       "      <td>90.34</td>\n",
       "    </tr>\n",
       "    <tr>\n",
       "      <th>1</th>\n",
       "      <td>197</td>\n",
       "      <td>96043</td>\n",
       "      <td>89111</td>\n",
       "      <td>92.78</td>\n",
       "    </tr>\n",
       "    <tr>\n",
       "      <th>2</th>\n",
       "      <td>198</td>\n",
       "      <td>110755</td>\n",
       "      <td>103168</td>\n",
       "      <td>93.15</td>\n",
       "    </tr>\n",
       "    <tr>\n",
       "      <th>3</th>\n",
       "      <td>103</td>\n",
       "      <td>104891</td>\n",
       "      <td>96488</td>\n",
       "      <td>91.99</td>\n",
       "    </tr>\n",
       "    <tr>\n",
       "      <th>4</th>\n",
       "      <td>180</td>\n",
       "      <td>105600</td>\n",
       "      <td>98673</td>\n",
       "      <td>93.44</td>\n",
       "    </tr>\n",
       "  </tbody>\n",
       "</table>\n",
       "</div>"
      ],
      "text/plain": [
       "   division_id  total_enrolled  total_votes  turnout%\n",
       "0          179          109217        98662     90.34\n",
       "1          197           96043        89111     92.78\n",
       "2          198          110755       103168     93.15\n",
       "3          103          104891        96488     91.99\n",
       "4          180          105600        98673     93.44"
      ]
     },
     "execution_count": 35,
     "metadata": {},
     "output_type": "execute_result"
    }
   ],
   "source": [
    "# renaming columns\n",
    "turnout_df.columns = ['division_id', 'total_enrolled', 'total_votes', 'turnout%']\n",
    "turnout_df.head()"
   ]
  },
  {
   "cell_type": "code",
   "execution_count": 36,
   "metadata": {},
   "outputs": [
    {
     "data": {
      "text/html": [
       "<div>\n",
       "<style scoped>\n",
       "    .dataframe tbody tr th:only-of-type {\n",
       "        vertical-align: middle;\n",
       "    }\n",
       "\n",
       "    .dataframe tbody tr th {\n",
       "        vertical-align: top;\n",
       "    }\n",
       "\n",
       "    .dataframe thead th {\n",
       "        text-align: right;\n",
       "    }\n",
       "</style>\n",
       "<table border=\"1\" class=\"dataframe\">\n",
       "  <thead>\n",
       "    <tr style=\"text-align: right;\">\n",
       "      <th></th>\n",
       "      <th>total_enrolled</th>\n",
       "      <th>total_votes</th>\n",
       "      <th>turnout%</th>\n",
       "    </tr>\n",
       "    <tr>\n",
       "      <th>division_id</th>\n",
       "      <th></th>\n",
       "      <th></th>\n",
       "      <th></th>\n",
       "    </tr>\n",
       "  </thead>\n",
       "  <tbody>\n",
       "    <tr>\n",
       "      <th>179</th>\n",
       "      <td>109217</td>\n",
       "      <td>98662</td>\n",
       "      <td>90.34</td>\n",
       "    </tr>\n",
       "    <tr>\n",
       "      <th>197</th>\n",
       "      <td>96043</td>\n",
       "      <td>89111</td>\n",
       "      <td>92.78</td>\n",
       "    </tr>\n",
       "    <tr>\n",
       "      <th>198</th>\n",
       "      <td>110755</td>\n",
       "      <td>103168</td>\n",
       "      <td>93.15</td>\n",
       "    </tr>\n",
       "    <tr>\n",
       "      <th>103</th>\n",
       "      <td>104891</td>\n",
       "      <td>96488</td>\n",
       "      <td>91.99</td>\n",
       "    </tr>\n",
       "    <tr>\n",
       "      <th>180</th>\n",
       "      <td>105600</td>\n",
       "      <td>98673</td>\n",
       "      <td>93.44</td>\n",
       "    </tr>\n",
       "  </tbody>\n",
       "</table>\n",
       "</div>"
      ],
      "text/plain": [
       "             total_enrolled  total_votes  turnout%\n",
       "division_id                                       \n",
       "179                  109217        98662     90.34\n",
       "197                   96043        89111     92.78\n",
       "198                  110755       103168     93.15\n",
       "103                  104891        96488     91.99\n",
       "180                  105600        98673     93.44"
      ]
     },
     "execution_count": 36,
     "metadata": {},
     "output_type": "execute_result"
    }
   ],
   "source": [
    "# set the division_id as index\n",
    "turnout_df = turnout_df.set_index(\"division_id\")\n",
    "turnout_df.head()"
   ]
  },
  {
   "cell_type": "code",
   "execution_count": 37,
   "metadata": {},
   "outputs": [
    {
     "data": {
      "text/html": [
       "<div>\n",
       "<style scoped>\n",
       "    .dataframe tbody tr th:only-of-type {\n",
       "        vertical-align: middle;\n",
       "    }\n",
       "\n",
       "    .dataframe tbody tr th {\n",
       "        vertical-align: top;\n",
       "    }\n",
       "\n",
       "    .dataframe thead th {\n",
       "        text-align: right;\n",
       "    }\n",
       "</style>\n",
       "<table border=\"1\" class=\"dataframe\">\n",
       "  <thead>\n",
       "    <tr style=\"text-align: right;\">\n",
       "      <th></th>\n",
       "      <th>total_enrolled</th>\n",
       "      <th>total_votes</th>\n",
       "      <th>turnout%</th>\n",
       "    </tr>\n",
       "  </thead>\n",
       "  <tbody>\n",
       "    <tr>\n",
       "      <th>count</th>\n",
       "      <td>150.000000</td>\n",
       "      <td>150.000000</td>\n",
       "      <td>150.000000</td>\n",
       "    </tr>\n",
       "    <tr>\n",
       "      <th>mean</th>\n",
       "      <td>104477.006667</td>\n",
       "      <td>95080.106667</td>\n",
       "      <td>90.943867</td>\n",
       "    </tr>\n",
       "    <tr>\n",
       "      <th>std</th>\n",
       "      <td>10054.470041</td>\n",
       "      <td>9944.933948</td>\n",
       "      <td>2.580800</td>\n",
       "    </tr>\n",
       "    <tr>\n",
       "      <th>min</th>\n",
       "      <td>63131.000000</td>\n",
       "      <td>46525.000000</td>\n",
       "      <td>73.700000</td>\n",
       "    </tr>\n",
       "    <tr>\n",
       "      <th>25%</th>\n",
       "      <td>100363.250000</td>\n",
       "      <td>90801.750000</td>\n",
       "      <td>89.722500</td>\n",
       "    </tr>\n",
       "    <tr>\n",
       "      <th>50%</th>\n",
       "      <td>104874.000000</td>\n",
       "      <td>95891.500000</td>\n",
       "      <td>91.670000</td>\n",
       "    </tr>\n",
       "    <tr>\n",
       "      <th>75%</th>\n",
       "      <td>109182.000000</td>\n",
       "      <td>99188.750000</td>\n",
       "      <td>92.625000</td>\n",
       "    </tr>\n",
       "    <tr>\n",
       "      <th>max</th>\n",
       "      <td>143231.000000</td>\n",
       "      <td>132310.000000</td>\n",
       "      <td>94.190000</td>\n",
       "    </tr>\n",
       "  </tbody>\n",
       "</table>\n",
       "</div>"
      ],
      "text/plain": [
       "       total_enrolled    total_votes    turnout%\n",
       "count      150.000000     150.000000  150.000000\n",
       "mean    104477.006667   95080.106667   90.943867\n",
       "std      10054.470041    9944.933948    2.580800\n",
       "min      63131.000000   46525.000000   73.700000\n",
       "25%     100363.250000   90801.750000   89.722500\n",
       "50%     104874.000000   95891.500000   91.670000\n",
       "75%     109182.000000   99188.750000   92.625000\n",
       "max     143231.000000  132310.000000   94.190000"
      ]
     },
     "execution_count": 37,
     "metadata": {},
     "output_type": "execute_result"
    }
   ],
   "source": [
    "turnout_df.describe()"
   ]
  },
  {
   "cell_type": "markdown",
   "metadata": {},
   "source": [
    "# Export df to csv"
   ]
  },
  {
   "cell_type": "code",
   "execution_count": 38,
   "metadata": {},
   "outputs": [],
   "source": [
    "turnout_df.to_csv(\"04-ouput_election_turnout/election_turnout.csv\")"
   ]
  }
 ],
 "metadata": {
  "kernelspec": {
   "display_name": "Python [conda env:PythonData] *",
   "language": "python",
   "name": "conda-env-PythonData-py"
  },
  "language_info": {
   "codemirror_mode": {
    "name": "ipython",
    "version": 3
   },
   "file_extension": ".py",
   "mimetype": "text/x-python",
   "name": "python",
   "nbconvert_exporter": "python",
   "pygments_lexer": "ipython3",
   "version": "3.6.10"
  }
 },
 "nbformat": 4,
 "nbformat_minor": 4
}
