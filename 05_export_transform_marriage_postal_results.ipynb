{
 "metadata": {
  "language_info": {
   "codemirror_mode": {
    "name": "ipython",
    "version": 3
   },
   "file_extension": ".py",
   "mimetype": "text/x-python",
   "name": "python",
   "nbconvert_exporter": "python",
   "pygments_lexer": "ipython3",
   "version": "3.7.6-final"
  },
  "orig_nbformat": 2,
  "kernelspec": {
   "name": "python3",
   "display_name": "Python 3.7.6 64-bit (conda)",
   "metadata": {
    "interpreter": {
     "hash": "209b17a0effbfdfed1ba2e9c5fa166242a4ce2dc95c617df4dc5ed204259694c"
    }
   }
  }
 },
 "nbformat": 4,
 "nbformat_minor": 2,
 "cells": [
  {
   "cell_type": "code",
   "execution_count": 72,
   "metadata": {},
   "outputs": [],
   "source": [
    "import pandas as pd"
   ]
  },
  {
   "cell_type": "code",
   "execution_count": 73,
   "metadata": {},
   "outputs": [],
   "source": [
    "df = pd.read_csv('electorate-results.csv')"
   ]
  },
  {
   "source": [
    "# Transformation\n",
    "## Checking for empty "
   ],
   "cell_type": "markdown",
   "metadata": {}
  },
  {
   "cell_type": "code",
   "execution_count": 74,
   "metadata": {},
   "outputs": [],
   "source": [
    "# dropping empty cells\n",
    "df = df.dropna()"
   ]
  },
  {
   "cell_type": "code",
   "execution_count": 75,
   "metadata": {},
   "outputs": [
    {
     "output_type": "execute_result",
     "data": {
      "text/plain": [
       "  electoral_division            state    yes     no  response_clear  \\\n",
       "0              Banks  New South Wales  37736  46343           84079   \n",
       "1             Barton  New South Wales  37153  47984           85137   \n",
       "2          Bennelong  New South Wales  42943  43215           86158   \n",
       "3            Berowra  New South Wales  48471  40369           88840   \n",
       "4           Blaxland  New South Wales  20406  57926           78332   \n",
       "\n",
       "   response_unclear  nonresponding  \n",
       "0               247          20928  \n",
       "1               226          24008  \n",
       "2               244          19973  \n",
       "3               212          16038  \n",
       "4               220          25883  "
      ],
      "text/html": "<div>\n<style scoped>\n    .dataframe tbody tr th:only-of-type {\n        vertical-align: middle;\n    }\n\n    .dataframe tbody tr th {\n        vertical-align: top;\n    }\n\n    .dataframe thead th {\n        text-align: right;\n    }\n</style>\n<table border=\"1\" class=\"dataframe\">\n  <thead>\n    <tr style=\"text-align: right;\">\n      <th></th>\n      <th>electoral_division</th>\n      <th>state</th>\n      <th>yes</th>\n      <th>no</th>\n      <th>response_clear</th>\n      <th>response_unclear</th>\n      <th>nonresponding</th>\n    </tr>\n  </thead>\n  <tbody>\n    <tr>\n      <th>0</th>\n      <td>Banks</td>\n      <td>New South Wales</td>\n      <td>37736</td>\n      <td>46343</td>\n      <td>84079</td>\n      <td>247</td>\n      <td>20928</td>\n    </tr>\n    <tr>\n      <th>1</th>\n      <td>Barton</td>\n      <td>New South Wales</td>\n      <td>37153</td>\n      <td>47984</td>\n      <td>85137</td>\n      <td>226</td>\n      <td>24008</td>\n    </tr>\n    <tr>\n      <th>2</th>\n      <td>Bennelong</td>\n      <td>New South Wales</td>\n      <td>42943</td>\n      <td>43215</td>\n      <td>86158</td>\n      <td>244</td>\n      <td>19973</td>\n    </tr>\n    <tr>\n      <th>3</th>\n      <td>Berowra</td>\n      <td>New South Wales</td>\n      <td>48471</td>\n      <td>40369</td>\n      <td>88840</td>\n      <td>212</td>\n      <td>16038</td>\n    </tr>\n    <tr>\n      <th>4</th>\n      <td>Blaxland</td>\n      <td>New South Wales</td>\n      <td>20406</td>\n      <td>57926</td>\n      <td>78332</td>\n      <td>220</td>\n      <td>25883</td>\n    </tr>\n  </tbody>\n</table>\n</div>"
     },
     "metadata": {},
     "execution_count": 75
    }
   ],
   "source": [
    "# view 1st 5 rows\n",
    "df.head()"
   ]
  },
  {
   "cell_type": "code",
   "execution_count": 76,
   "metadata": {},
   "outputs": [
    {
     "output_type": "execute_result",
     "data": {
      "text/plain": [
       "electoral_division    object\n",
       "state                 object\n",
       "yes                    int64\n",
       "no                     int64\n",
       "response_clear         int64\n",
       "response_unclear       int64\n",
       "nonresponding          int64\n",
       "dtype: object"
      ]
     },
     "metadata": {},
     "execution_count": 76
    }
   ],
   "source": [
    "# identify the data types\n",
    "df.dtypes"
   ]
  },
  {
   "cell_type": "code",
   "execution_count": 77,
   "metadata": {},
   "outputs": [
    {
     "output_type": "execute_result",
     "data": {
      "text/plain": [
       "150"
      ]
     },
     "metadata": {},
     "execution_count": 77
    }
   ],
   "source": [
    "# total number of rows in table\n",
    "len(df)"
   ]
  },
  {
   "cell_type": "code",
   "execution_count": 78,
   "metadata": {},
   "outputs": [],
   "source": [
    "# duplicates removed from tables except the first occurence\n",
    "df.drop_duplicates(subset='electoral_division', keep='first', inplace=True)"
   ]
  },
  {
   "cell_type": "code",
   "execution_count": 79,
   "metadata": {},
   "outputs": [
    {
     "output_type": "execute_result",
     "data": {
      "text/plain": [
       "150"
      ]
     },
     "metadata": {},
     "execution_count": 79
    }
   ],
   "source": [
    "# identify number of duplicates by subtracting it from the total len indentified\n",
    "len(df)"
   ]
  },
  {
   "cell_type": "code",
   "execution_count": 80,
   "metadata": {},
   "outputs": [
    {
     "output_type": "execute_result",
     "data": {
      "text/plain": [
       "            yes        no  response_clear  response_unclear  nonresponding\n",
       "count    150.00    150.00          150.00            150.00         150.00\n",
       "mean  52,114.98 32,493.25       84,608.23            244.57      21,855.07\n",
       "std   12,315.11  8,262.79       10,318.85             55.90       4,197.47\n",
       "min   19,026.00 14,860.00       34,924.00            106.00      13,092.00\n",
       "25%   44,619.75 28,452.25       80,220.75            207.25      18,951.00\n",
       "50%   51,782.50 31,653.50       85,726.50            240.00      21,416.50\n",
       "75%   59,878.75 36,726.75       90,369.75            276.00      24,513.25\n",
       "max   89,590.00 57,926.00      120,951.00            377.00      35,841.00"
      ],
      "text/html": "<div>\n<style scoped>\n    .dataframe tbody tr th:only-of-type {\n        vertical-align: middle;\n    }\n\n    .dataframe tbody tr th {\n        vertical-align: top;\n    }\n\n    .dataframe thead th {\n        text-align: right;\n    }\n</style>\n<table border=\"1\" class=\"dataframe\">\n  <thead>\n    <tr style=\"text-align: right;\">\n      <th></th>\n      <th>yes</th>\n      <th>no</th>\n      <th>response_clear</th>\n      <th>response_unclear</th>\n      <th>nonresponding</th>\n    </tr>\n  </thead>\n  <tbody>\n    <tr>\n      <th>count</th>\n      <td>150.00</td>\n      <td>150.00</td>\n      <td>150.00</td>\n      <td>150.00</td>\n      <td>150.00</td>\n    </tr>\n    <tr>\n      <th>mean</th>\n      <td>52,114.98</td>\n      <td>32,493.25</td>\n      <td>84,608.23</td>\n      <td>244.57</td>\n      <td>21,855.07</td>\n    </tr>\n    <tr>\n      <th>std</th>\n      <td>12,315.11</td>\n      <td>8,262.79</td>\n      <td>10,318.85</td>\n      <td>55.90</td>\n      <td>4,197.47</td>\n    </tr>\n    <tr>\n      <th>min</th>\n      <td>19,026.00</td>\n      <td>14,860.00</td>\n      <td>34,924.00</td>\n      <td>106.00</td>\n      <td>13,092.00</td>\n    </tr>\n    <tr>\n      <th>25%</th>\n      <td>44,619.75</td>\n      <td>28,452.25</td>\n      <td>80,220.75</td>\n      <td>207.25</td>\n      <td>18,951.00</td>\n    </tr>\n    <tr>\n      <th>50%</th>\n      <td>51,782.50</td>\n      <td>31,653.50</td>\n      <td>85,726.50</td>\n      <td>240.00</td>\n      <td>21,416.50</td>\n    </tr>\n    <tr>\n      <th>75%</th>\n      <td>59,878.75</td>\n      <td>36,726.75</td>\n      <td>90,369.75</td>\n      <td>276.00</td>\n      <td>24,513.25</td>\n    </tr>\n    <tr>\n      <th>max</th>\n      <td>89,590.00</td>\n      <td>57,926.00</td>\n      <td>120,951.00</td>\n      <td>377.00</td>\n      <td>35,841.00</td>\n    </tr>\n  </tbody>\n</table>\n</div>"
     },
     "metadata": {},
     "execution_count": 80
    }
   ],
   "source": [
    "# statistical description of data\n",
    "df.describe()"
   ]
  },
  {
   "cell_type": "code",
   "execution_count": 81,
   "metadata": {},
   "outputs": [
    {
     "output_type": "execute_result",
     "data": {
      "text/plain": [
       "                   yes    no  response_clear  response_unclear  nonresponding\n",
       "yes               1.00 -0.56            0.75              0.12          -0.37\n",
       "no               -0.56  1.00            0.14              0.42           0.44\n",
       "response_clear    0.75  0.14            1.00              0.48          -0.09\n",
       "response_unclear  0.12  0.42            0.48              1.00           0.15\n",
       "nonresponding    -0.37  0.44           -0.09              0.15           1.00"
      ],
      "text/html": "<div>\n<style scoped>\n    .dataframe tbody tr th:only-of-type {\n        vertical-align: middle;\n    }\n\n    .dataframe tbody tr th {\n        vertical-align: top;\n    }\n\n    .dataframe thead th {\n        text-align: right;\n    }\n</style>\n<table border=\"1\" class=\"dataframe\">\n  <thead>\n    <tr style=\"text-align: right;\">\n      <th></th>\n      <th>yes</th>\n      <th>no</th>\n      <th>response_clear</th>\n      <th>response_unclear</th>\n      <th>nonresponding</th>\n    </tr>\n  </thead>\n  <tbody>\n    <tr>\n      <th>yes</th>\n      <td>1.00</td>\n      <td>-0.56</td>\n      <td>0.75</td>\n      <td>0.12</td>\n      <td>-0.37</td>\n    </tr>\n    <tr>\n      <th>no</th>\n      <td>-0.56</td>\n      <td>1.00</td>\n      <td>0.14</td>\n      <td>0.42</td>\n      <td>0.44</td>\n    </tr>\n    <tr>\n      <th>response_clear</th>\n      <td>0.75</td>\n      <td>0.14</td>\n      <td>1.00</td>\n      <td>0.48</td>\n      <td>-0.09</td>\n    </tr>\n    <tr>\n      <th>response_unclear</th>\n      <td>0.12</td>\n      <td>0.42</td>\n      <td>0.48</td>\n      <td>1.00</td>\n      <td>0.15</td>\n    </tr>\n    <tr>\n      <th>nonresponding</th>\n      <td>-0.37</td>\n      <td>0.44</td>\n      <td>-0.09</td>\n      <td>0.15</td>\n      <td>1.00</td>\n    </tr>\n  </tbody>\n</table>\n</div>"
     },
     "metadata": {},
     "execution_count": 81
    }
   ],
   "source": [
    "# correlation between variables in the tables\n",
    "df.corr()"
   ]
  },
  {
   "cell_type": "code",
   "execution_count": 82,
   "metadata": {},
   "outputs": [
    {
     "output_type": "execute_result",
     "data": {
      "text/plain": [
       "0                   New South Wales\n",
       "1                   New South Wales\n",
       "2                   New South Wales\n",
       "3                   New South Wales\n",
       "4                   New South Wales\n",
       "                   ...             \n",
       "145                        Tasmania\n",
       "146              Northern Territory\n",
       "147              Northern Territory\n",
       "148    Australian Capital Territory\n",
       "149    Australian Capital Territory\n",
       "Name: state, Length: 150, dtype: object"
      ]
     },
     "metadata": {},
     "execution_count": 82
    }
   ],
   "source": [
    "# grouping by state\n",
    "df['state']"
   ]
  },
  {
   "cell_type": "code",
   "execution_count": 83,
   "metadata": {},
   "outputs": [
    {
     "output_type": "execute_result",
     "data": {
      "text/plain": [
       "New South Wales                 47\n",
       "Victoria                        37\n",
       "Queensland                      30\n",
       "Western Australia               16\n",
       "South Australia                 11\n",
       "Tasmania                         5\n",
       "Australian Capital Territory     2\n",
       "Northern Territory               2\n",
       "Name: state, dtype: int64"
      ]
     },
     "metadata": {},
     "execution_count": 83
    }
   ],
   "source": [
    "# calculate the number of electoral_divisions per state\n",
    "df['state'].value_counts()"
   ]
  },
  {
   "cell_type": "code",
   "execution_count": 84,
   "metadata": {},
   "outputs": [],
   "source": [
    "# group\n",
    "state_electorial_groups = df.groupby(['state']).sum()"
   ]
  },
  {
   "cell_type": "code",
   "execution_count": 85,
   "metadata": {},
   "outputs": [
    {
     "output_type": "execute_result",
     "data": {
      "text/plain": [
       "                                  yes       no  response_clear  \\\n",
       "state                                                            \n",
       "Australian Capital Territory   175459    61520          236979   \n",
       "New South Wales               2374362  1736838         4111200   \n",
       "Northern Territory              48686    31690           80376   \n",
       "Queensland                    1487060   961015         2448075   \n",
       "South Australia                592528   356247          948775   \n",
       "Tasmania                       191948   109655          301603   \n",
       "Victoria                      2145629  1161098         3306727   \n",
       "Western Australia              801575   455924         1257499   \n",
       "\n",
       "                              response_unclear  nonresponding  \n",
       "state                                                          \n",
       "Australian Capital Territory               534          50595  \n",
       "New South Wales                          11036        1065445  \n",
       "Northern Territory                         229          57496  \n",
       "Queensland                                7088         695710  \n",
       "South Australia                           2778         242027  \n",
       "Tasmania                                   805          77020  \n",
       "Victoria                                 11028         743634  \n",
       "Western Australia                         3188         346333  "
      ],
      "text/html": "<div>\n<style scoped>\n    .dataframe tbody tr th:only-of-type {\n        vertical-align: middle;\n    }\n\n    .dataframe tbody tr th {\n        vertical-align: top;\n    }\n\n    .dataframe thead th {\n        text-align: right;\n    }\n</style>\n<table border=\"1\" class=\"dataframe\">\n  <thead>\n    <tr style=\"text-align: right;\">\n      <th></th>\n      <th>yes</th>\n      <th>no</th>\n      <th>response_clear</th>\n      <th>response_unclear</th>\n      <th>nonresponding</th>\n    </tr>\n    <tr>\n      <th>state</th>\n      <th></th>\n      <th></th>\n      <th></th>\n      <th></th>\n      <th></th>\n    </tr>\n  </thead>\n  <tbody>\n    <tr>\n      <th>Australian Capital Territory</th>\n      <td>175459</td>\n      <td>61520</td>\n      <td>236979</td>\n      <td>534</td>\n      <td>50595</td>\n    </tr>\n    <tr>\n      <th>New South Wales</th>\n      <td>2374362</td>\n      <td>1736838</td>\n      <td>4111200</td>\n      <td>11036</td>\n      <td>1065445</td>\n    </tr>\n    <tr>\n      <th>Northern Territory</th>\n      <td>48686</td>\n      <td>31690</td>\n      <td>80376</td>\n      <td>229</td>\n      <td>57496</td>\n    </tr>\n    <tr>\n      <th>Queensland</th>\n      <td>1487060</td>\n      <td>961015</td>\n      <td>2448075</td>\n      <td>7088</td>\n      <td>695710</td>\n    </tr>\n    <tr>\n      <th>South Australia</th>\n      <td>592528</td>\n      <td>356247</td>\n      <td>948775</td>\n      <td>2778</td>\n      <td>242027</td>\n    </tr>\n    <tr>\n      <th>Tasmania</th>\n      <td>191948</td>\n      <td>109655</td>\n      <td>301603</td>\n      <td>805</td>\n      <td>77020</td>\n    </tr>\n    <tr>\n      <th>Victoria</th>\n      <td>2145629</td>\n      <td>1161098</td>\n      <td>3306727</td>\n      <td>11028</td>\n      <td>743634</td>\n    </tr>\n    <tr>\n      <th>Western Australia</th>\n      <td>801575</td>\n      <td>455924</td>\n      <td>1257499</td>\n      <td>3188</td>\n      <td>346333</td>\n    </tr>\n  </tbody>\n</table>\n</div>"
     },
     "metadata": {},
     "execution_count": 85
    }
   ],
   "source": [
    "state_electorial_groups"
   ]
  },
  {
   "cell_type": "code",
   "execution_count": 86,
   "metadata": {},
   "outputs": [],
   "source": [
    "state_electorial_groups['Total_Clear_Votes'] = state_electorial_groups['yes'] + state_electorial_groups['no']"
   ]
  },
  {
   "cell_type": "code",
   "execution_count": 87,
   "metadata": {},
   "outputs": [
    {
     "output_type": "execute_result",
     "data": {
      "text/plain": [
       "                                  yes       no  response_clear  \\\n",
       "state                                                            \n",
       "Australian Capital Territory   175459    61520          236979   \n",
       "New South Wales               2374362  1736838         4111200   \n",
       "Northern Territory              48686    31690           80376   \n",
       "Queensland                    1487060   961015         2448075   \n",
       "South Australia                592528   356247          948775   \n",
       "Tasmania                       191948   109655          301603   \n",
       "Victoria                      2145629  1161098         3306727   \n",
       "Western Australia              801575   455924         1257499   \n",
       "\n",
       "                              response_unclear  nonresponding  \\\n",
       "state                                                           \n",
       "Australian Capital Territory               534          50595   \n",
       "New South Wales                          11036        1065445   \n",
       "Northern Territory                         229          57496   \n",
       "Queensland                                7088         695710   \n",
       "South Australia                           2778         242027   \n",
       "Tasmania                                   805          77020   \n",
       "Victoria                                 11028         743634   \n",
       "Western Australia                         3188         346333   \n",
       "\n",
       "                              Total_Clear_Votes  \n",
       "state                                            \n",
       "Australian Capital Territory             236979  \n",
       "New South Wales                         4111200  \n",
       "Northern Territory                        80376  \n",
       "Queensland                              2448075  \n",
       "South Australia                          948775  \n",
       "Tasmania                                 301603  \n",
       "Victoria                                3306727  \n",
       "Western Australia                       1257499  "
      ],
      "text/html": "<div>\n<style scoped>\n    .dataframe tbody tr th:only-of-type {\n        vertical-align: middle;\n    }\n\n    .dataframe tbody tr th {\n        vertical-align: top;\n    }\n\n    .dataframe thead th {\n        text-align: right;\n    }\n</style>\n<table border=\"1\" class=\"dataframe\">\n  <thead>\n    <tr style=\"text-align: right;\">\n      <th></th>\n      <th>yes</th>\n      <th>no</th>\n      <th>response_clear</th>\n      <th>response_unclear</th>\n      <th>nonresponding</th>\n      <th>Total_Clear_Votes</th>\n    </tr>\n    <tr>\n      <th>state</th>\n      <th></th>\n      <th></th>\n      <th></th>\n      <th></th>\n      <th></th>\n      <th></th>\n    </tr>\n  </thead>\n  <tbody>\n    <tr>\n      <th>Australian Capital Territory</th>\n      <td>175459</td>\n      <td>61520</td>\n      <td>236979</td>\n      <td>534</td>\n      <td>50595</td>\n      <td>236979</td>\n    </tr>\n    <tr>\n      <th>New South Wales</th>\n      <td>2374362</td>\n      <td>1736838</td>\n      <td>4111200</td>\n      <td>11036</td>\n      <td>1065445</td>\n      <td>4111200</td>\n    </tr>\n    <tr>\n      <th>Northern Territory</th>\n      <td>48686</td>\n      <td>31690</td>\n      <td>80376</td>\n      <td>229</td>\n      <td>57496</td>\n      <td>80376</td>\n    </tr>\n    <tr>\n      <th>Queensland</th>\n      <td>1487060</td>\n      <td>961015</td>\n      <td>2448075</td>\n      <td>7088</td>\n      <td>695710</td>\n      <td>2448075</td>\n    </tr>\n    <tr>\n      <th>South Australia</th>\n      <td>592528</td>\n      <td>356247</td>\n      <td>948775</td>\n      <td>2778</td>\n      <td>242027</td>\n      <td>948775</td>\n    </tr>\n    <tr>\n      <th>Tasmania</th>\n      <td>191948</td>\n      <td>109655</td>\n      <td>301603</td>\n      <td>805</td>\n      <td>77020</td>\n      <td>301603</td>\n    </tr>\n    <tr>\n      <th>Victoria</th>\n      <td>2145629</td>\n      <td>1161098</td>\n      <td>3306727</td>\n      <td>11028</td>\n      <td>743634</td>\n      <td>3306727</td>\n    </tr>\n    <tr>\n      <th>Western Australia</th>\n      <td>801575</td>\n      <td>455924</td>\n      <td>1257499</td>\n      <td>3188</td>\n      <td>346333</td>\n      <td>1257499</td>\n    </tr>\n  </tbody>\n</table>\n</div>"
     },
     "metadata": {},
     "execution_count": 87
    }
   ],
   "source": [
    "state_electorial_groups"
   ]
  },
  {
   "cell_type": "code",
   "execution_count": 88,
   "metadata": {},
   "outputs": [
    {
     "output_type": "execute_result",
     "data": {
      "text/plain": [
       "7817247"
      ]
     },
     "metadata": {},
     "execution_count": 88
    }
   ],
   "source": [
    "\n",
    "state_electorial_groups['yes'].sum()"
   ]
  },
  {
   "cell_type": "code",
   "execution_count": 89,
   "metadata": {},
   "outputs": [],
   "source": [
    "sum_yes = state_electorial_groups['yes'].sum()"
   ]
  },
  {
   "cell_type": "code",
   "execution_count": 90,
   "metadata": {},
   "outputs": [],
   "source": [
    "state_electorial_groups['Percentage_yes'] = state_electorial_groups['yes']/sum_yes"
   ]
  },
  {
   "cell_type": "code",
   "execution_count": 91,
   "metadata": {},
   "outputs": [
    {
     "output_type": "execute_result",
     "data": {
      "text/plain": [
       "                                  yes       no  response_clear  \\\n",
       "state                                                            \n",
       "Australian Capital Territory   175459    61520          236979   \n",
       "New South Wales               2374362  1736838         4111200   \n",
       "Northern Territory              48686    31690           80376   \n",
       "Queensland                    1487060   961015         2448075   \n",
       "South Australia                592528   356247          948775   \n",
       "Tasmania                       191948   109655          301603   \n",
       "Victoria                      2145629  1161098         3306727   \n",
       "Western Australia              801575   455924         1257499   \n",
       "\n",
       "                              response_unclear  nonresponding  \\\n",
       "state                                                           \n",
       "Australian Capital Territory               534          50595   \n",
       "New South Wales                          11036        1065445   \n",
       "Northern Territory                         229          57496   \n",
       "Queensland                                7088         695710   \n",
       "South Australia                           2778         242027   \n",
       "Tasmania                                   805          77020   \n",
       "Victoria                                 11028         743634   \n",
       "Western Australia                         3188         346333   \n",
       "\n",
       "                              Total_Clear_Votes  Percentage_yes  \n",
       "state                                                            \n",
       "Australian Capital Territory             236979            0.02  \n",
       "New South Wales                         4111200            0.30  \n",
       "Northern Territory                        80376            0.01  \n",
       "Queensland                              2448075            0.19  \n",
       "South Australia                          948775            0.08  \n",
       "Tasmania                                 301603            0.02  \n",
       "Victoria                                3306727            0.27  \n",
       "Western Australia                       1257499            0.10  "
      ],
      "text/html": "<div>\n<style scoped>\n    .dataframe tbody tr th:only-of-type {\n        vertical-align: middle;\n    }\n\n    .dataframe tbody tr th {\n        vertical-align: top;\n    }\n\n    .dataframe thead th {\n        text-align: right;\n    }\n</style>\n<table border=\"1\" class=\"dataframe\">\n  <thead>\n    <tr style=\"text-align: right;\">\n      <th></th>\n      <th>yes</th>\n      <th>no</th>\n      <th>response_clear</th>\n      <th>response_unclear</th>\n      <th>nonresponding</th>\n      <th>Total_Clear_Votes</th>\n      <th>Percentage_yes</th>\n    </tr>\n    <tr>\n      <th>state</th>\n      <th></th>\n      <th></th>\n      <th></th>\n      <th></th>\n      <th></th>\n      <th></th>\n      <th></th>\n    </tr>\n  </thead>\n  <tbody>\n    <tr>\n      <th>Australian Capital Territory</th>\n      <td>175459</td>\n      <td>61520</td>\n      <td>236979</td>\n      <td>534</td>\n      <td>50595</td>\n      <td>236979</td>\n      <td>0.02</td>\n    </tr>\n    <tr>\n      <th>New South Wales</th>\n      <td>2374362</td>\n      <td>1736838</td>\n      <td>4111200</td>\n      <td>11036</td>\n      <td>1065445</td>\n      <td>4111200</td>\n      <td>0.30</td>\n    </tr>\n    <tr>\n      <th>Northern Territory</th>\n      <td>48686</td>\n      <td>31690</td>\n      <td>80376</td>\n      <td>229</td>\n      <td>57496</td>\n      <td>80376</td>\n      <td>0.01</td>\n    </tr>\n    <tr>\n      <th>Queensland</th>\n      <td>1487060</td>\n      <td>961015</td>\n      <td>2448075</td>\n      <td>7088</td>\n      <td>695710</td>\n      <td>2448075</td>\n      <td>0.19</td>\n    </tr>\n    <tr>\n      <th>South Australia</th>\n      <td>592528</td>\n      <td>356247</td>\n      <td>948775</td>\n      <td>2778</td>\n      <td>242027</td>\n      <td>948775</td>\n      <td>0.08</td>\n    </tr>\n    <tr>\n      <th>Tasmania</th>\n      <td>191948</td>\n      <td>109655</td>\n      <td>301603</td>\n      <td>805</td>\n      <td>77020</td>\n      <td>301603</td>\n      <td>0.02</td>\n    </tr>\n    <tr>\n      <th>Victoria</th>\n      <td>2145629</td>\n      <td>1161098</td>\n      <td>3306727</td>\n      <td>11028</td>\n      <td>743634</td>\n      <td>3306727</td>\n      <td>0.27</td>\n    </tr>\n    <tr>\n      <th>Western Australia</th>\n      <td>801575</td>\n      <td>455924</td>\n      <td>1257499</td>\n      <td>3188</td>\n      <td>346333</td>\n      <td>1257499</td>\n      <td>0.10</td>\n    </tr>\n  </tbody>\n</table>\n</div>"
     },
     "metadata": {},
     "execution_count": 91
    }
   ],
   "source": [
    "state_electorial_groups"
   ]
  },
  {
   "source": [
    "# End of Transform"
   ],
   "cell_type": "markdown",
   "metadata": {}
  }
 ]
}