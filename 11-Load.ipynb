{
 "cells": [
  {
   "cell_type": "code",
   "execution_count": null,
   "metadata": {},
   "outputs": [],
   "source": [
    "# imports\n",
    "import pandas as pd\n",
    "from sqlalchemy import create_engine\n",
    "from login_details import username\n",
    "from login_details import password"
   ]
  },
  {
   "cell_type": "markdown",
   "metadata": {},
   "source": [
    "## Storing CSVs as DataFrames "
   ]
  },
  {
   "cell_type": "code",
   "execution_count": null,
   "metadata": {},
   "outputs": [],
   "source": [
    "#01\n",
    "electoral_division_df = pd.read_csv(\"01-output_electoral_division/electoral_division.csv\")\n",
    "electoral_division_df.head()"
   ]
  },
  {
   "cell_type": "code",
   "execution_count": null,
   "metadata": {},
   "outputs": [],
   "source": [
    "#02\n",
    "election_results_df = pd.read_csv(\"02-output_election_results/02-election_results.csv\")\n",
    "election_results_df.head()"
   ]
  },
  {
   "cell_type": "code",
   "execution_count": null,
   "metadata": {},
   "outputs": [],
   "source": [
    "#03\n",
    "election_vote_types_df = pd.read_csv(\"03-output_election_vote_types/election_vote_types.csv\")\n",
    "election_vote_types_df.head()"
   ]
  },
  {
   "cell_type": "code",
   "execution_count": null,
   "metadata": {},
   "outputs": [],
   "source": [
    "#04\n",
    "election_turnout_df = pd.read_csv(\"04-ouput_election_turnout/election_turnout.csv\")\n",
    "election_turnout_df.head()"
   ]
  },
  {
   "cell_type": "code",
   "execution_count": null,
   "metadata": {},
   "outputs": [],
   "source": [
    "#05\n",
    "marriage_postal_results_df = pd.read_csv(\"05-output_marriage_postal_results/marriage_postal_results.csv\")"
   ]
  },
  {
   "cell_type": "code",
   "execution_count": null,
   "metadata": {},
   "outputs": [],
   "source": [
    "#06\n",
    "marriage_postal_turnout_df = pd.read_csv(\"06-output_marriage_postal_turnout/marriage_postal_turnout.csv\")\n",
    "marriage_postal_turnout_df.head()"
   ]
  },
  {
   "cell_type": "code",
   "execution_count": null,
   "metadata": {},
   "outputs": [],
   "source": [
    "#07\n",
    "marriage_postal_participants_by_age_df = pd.read_csv(\"07-output_marriage_postal_participants_by_age/marriage_postal_participants_by_age.csv\")\n",
    "marriage_postal_participants_by_age_df.head()\n"
   ]
  },
  {
   "cell_type": "code",
   "execution_count": null,
   "metadata": {},
   "outputs": [],
   "source": [
    "#08\n",
    "population_agedemo_2017_df = pd.read_csv(\"08-output_2017_population_agedemo/08-2017_population_agedemo.csv\")\n",
    "population_agedemo_2017_df.head()"
   ]
  },
  {
   "cell_type": "code",
   "execution_count": null,
   "metadata": {},
   "outputs": [],
   "source": [
    "#09\n",
    "cultural_diversity_df = pd.read_csv(\"09-output_cultural_diversity/09-cultural_diversity.csv\")\n",
    "cultural_diversity_df.head()"
   ]
  },
  {
   "cell_type": "code",
   "execution_count": null,
   "metadata": {},
   "outputs": [],
   "source": [
    "#10\n",
    "education_df = pd.read_csv(\"10-output_education/10-education.csv\")\n",
    "education_df.head()"
   ]
  },
  {
   "cell_type": "markdown",
   "metadata": {},
   "source": [
    "## Connecting to database"
   ]
  },
  {
   "cell_type": "markdown",
   "metadata": {},
   "source": [
    "*Create database and tables with schema.sql*\n",
    "Database is called project_db"
   ]
  },
  {
   "cell_type": "code",
   "execution_count": null,
   "metadata": {},
   "outputs": [],
   "source": [
    "# Connecting to local database\n",
    "#username = f\"{username}\"\n",
    "\n",
    "\n",
    "rds_connection_string = f\"{username}:{password}@localhost:5432/project_db\"\n",
    "engine = create_engine(f'postgresql://{rds_connection_string}')\n",
    "\n",
    "# need to make separate file that contains username and password\n",
    "# add file to .gitignore\n",
    "# import file into notebook\n",
    "# pretty sure username is postgres by default"
   ]
  },
  {
   "cell_type": "markdown",
   "metadata": {},
   "source": [
    "## Checking tables in the databate"
   ]
  },
  {
   "cell_type": "code",
   "execution_count": null,
   "metadata": {},
   "outputs": [],
   "source": [
    "engine.table_names()"
   ]
  },
  {
   "cell_type": "markdown",
   "metadata": {},
   "source": [
    "## Loading DataFrames into database"
   ]
  },
  {
   "cell_type": "code",
   "execution_count": null,
   "metadata": {},
   "outputs": [],
   "source": [
    "#01\n",
    "electoral_division_df.to_sql(name='electoral_division', con=engine, if_exists='append', index=True)"
   ]
  },
  {
   "cell_type": "code",
   "execution_count": null,
   "metadata": {},
   "outputs": [],
   "source": [
    "#02\n",
    "election_results_df.to_sql(name='election_results', con=engine, if_exists='append', index=True)"
   ]
  },
  {
   "cell_type": "code",
   "execution_count": null,
   "metadata": {},
   "outputs": [],
   "source": [
    "#03\n",
    "election_vote_types_df.to_sql(name='election_vote_types', con=engine, if_exists='append', index=True)"
   ]
  },
  {
   "cell_type": "code",
   "execution_count": null,
   "metadata": {},
   "outputs": [],
   "source": [
    "#04\n",
    "election_turnout_df.to_sql(name='election_turnout', con=engine, if_exists='append', index=True)"
   ]
  },
  {
   "cell_type": "code",
   "execution_count": null,
   "metadata": {},
   "outputs": [],
   "source": [
    "#05 \n",
    "marriage_postal_results_df.to_sql(name='', con=engine, if_exists='append', index=True)"
   ]
  },
  {
   "cell_type": "code",
   "execution_count": null,
   "metadata": {},
   "outputs": [],
   "source": [
    "#06\n",
    "marriage_postal_turnout_df.to_sql(name='marriage_postal_turnout', con=engine, if_exists='append', index=True)"
   ]
  },
  {
   "cell_type": "code",
   "execution_count": null,
   "metadata": {},
   "outputs": [],
   "source": [
    "#07\n",
    "marriage_postal_participants_by_age_df.to_sql(name='marriage_postal_participants_by_age', \n",
    "                                              con=engine, if_exists='append', index=True)"
   ]
  },
  {
   "cell_type": "code",
   "execution_count": null,
   "metadata": {},
   "outputs": [],
   "source": [
    "#08\n",
    "population_agedemo_2017_df.to_sql(name='2017_population_agedemo', con=engine, if_exists='append', index=True)"
   ]
  },
  {
   "cell_type": "code",
   "execution_count": null,
   "metadata": {},
   "outputs": [],
   "source": [
    "#09\n",
    "cultural_diversity_df.to_sql(name='cultural_diversity', con=engine, if_exists='append', index=True)"
   ]
  },
  {
   "cell_type": "code",
   "execution_count": null,
   "metadata": {},
   "outputs": [],
   "source": [
    "#10\n",
    "education_df.to_sql(name='education_df', con=engine, if_exists='append', index=True)"
   ]
  },
  {
   "cell_type": "markdown",
   "metadata": {},
   "source": [
    "## Confirm data has been added by querying tables"
   ]
  },
  {
   "cell_type": "code",
   "execution_count": null,
   "metadata": {},
   "outputs": [],
   "source": [
    "pd.read_sql_query('select * from electoral_division', con=engine).head()"
   ]
  }
 ],
 "metadata": {
  "kernelspec": {
   "display_name": "Python [conda env:PythonData] *",
   "language": "python",
   "name": "conda-env-PythonData-py"
  },
  "language_info": {
   "codemirror_mode": {
    "name": "ipython",
    "version": 3
   },
   "file_extension": ".py",
   "mimetype": "text/x-python",
   "name": "python",
   "nbconvert_exporter": "python",
   "pygments_lexer": "ipython3",
   "version": "3.6.10"
  }
 },
 "nbformat": 4,
 "nbformat_minor": 4
}
