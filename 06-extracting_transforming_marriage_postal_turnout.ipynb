{
 "cells": [
  {
   "cell_type": "code",
   "execution_count": 33,
   "metadata": {},
   "outputs": [],
   "source": [
    "import pandas as pd"
   ]
  },
  {
   "cell_type": "markdown",
   "metadata": {},
   "source": [
    "# Extracting marriage postal survey participant data"
   ]
  },
  {
   "cell_type": "code",
   "execution_count": 34,
   "metadata": {},
   "outputs": [
    {
     "data": {
      "text/html": [
       "<div>\n",
       "<style scoped>\n",
       "    .dataframe tbody tr th:only-of-type {\n",
       "        vertical-align: middle;\n",
       "    }\n",
       "\n",
       "    .dataframe tbody tr th {\n",
       "        vertical-align: top;\n",
       "    }\n",
       "\n",
       "    .dataframe thead th {\n",
       "        text-align: right;\n",
       "    }\n",
       "</style>\n",
       "<table border=\"1\" class=\"dataframe\">\n",
       "  <thead>\n",
       "    <tr style=\"text-align: right;\">\n",
       "      <th></th>\n",
       "      <th>electoral_division</th>\n",
       "      <th>state</th>\n",
       "      <th>gender</th>\n",
       "      <th>age</th>\n",
       "      <th>age_lower</th>\n",
       "      <th>age_upper</th>\n",
       "      <th>eligible</th>\n",
       "      <th>participant</th>\n",
       "    </tr>\n",
       "  </thead>\n",
       "  <tbody>\n",
       "    <tr>\n",
       "      <th>0</th>\n",
       "      <td>Canberra</td>\n",
       "      <td>Australian Capital Territory Divisions</td>\n",
       "      <td>female</td>\n",
       "      <td>18-19</td>\n",
       "      <td>18</td>\n",
       "      <td>19</td>\n",
       "      <td>2,433</td>\n",
       "      <td>2,092</td>\n",
       "    </tr>\n",
       "    <tr>\n",
       "      <th>1</th>\n",
       "      <td>Canberra</td>\n",
       "      <td>Australian Capital Territory Divisions</td>\n",
       "      <td>female</td>\n",
       "      <td>20-24</td>\n",
       "      <td>20</td>\n",
       "      <td>24</td>\n",
       "      <td>6,171</td>\n",
       "      <td>5,084</td>\n",
       "    </tr>\n",
       "    <tr>\n",
       "      <th>2</th>\n",
       "      <td>Canberra</td>\n",
       "      <td>Australian Capital Territory Divisions</td>\n",
       "      <td>female</td>\n",
       "      <td>25-29</td>\n",
       "      <td>25</td>\n",
       "      <td>29</td>\n",
       "      <td>6,464</td>\n",
       "      <td>5,343</td>\n",
       "    </tr>\n",
       "    <tr>\n",
       "      <th>3</th>\n",
       "      <td>Canberra</td>\n",
       "      <td>Australian Capital Territory Divisions</td>\n",
       "      <td>female</td>\n",
       "      <td>30-34</td>\n",
       "      <td>30</td>\n",
       "      <td>34</td>\n",
       "      <td>6,359</td>\n",
       "      <td>5,260</td>\n",
       "    </tr>\n",
       "    <tr>\n",
       "      <th>4</th>\n",
       "      <td>Canberra</td>\n",
       "      <td>Australian Capital Territory Divisions</td>\n",
       "      <td>female</td>\n",
       "      <td>35-39</td>\n",
       "      <td>35</td>\n",
       "      <td>39</td>\n",
       "      <td>6,134</td>\n",
       "      <td>4,990</td>\n",
       "    </tr>\n",
       "  </tbody>\n",
       "</table>\n",
       "</div>"
      ],
      "text/plain": [
       "  electoral_division                                   state  gender    age  \\\n",
       "0           Canberra  Australian Capital Territory Divisions  female  18-19   \n",
       "1           Canberra  Australian Capital Territory Divisions  female  20-24   \n",
       "2           Canberra  Australian Capital Territory Divisions  female  25-29   \n",
       "3           Canberra  Australian Capital Territory Divisions  female  30-34   \n",
       "4           Canberra  Australian Capital Territory Divisions  female  35-39   \n",
       "\n",
       "   age_lower  age_upper eligible participant  \n",
       "0         18         19    2,433       2,092  \n",
       "1         20         24    6,171       5,084  \n",
       "2         25         29    6,464       5,343  \n",
       "3         30         34    6,359       5,260  \n",
       "4         35         39    6,134       4,990  "
      ]
     },
     "execution_count": 34,
     "metadata": {},
     "output_type": "execute_result"
    }
   ],
   "source": [
    "df = pd.read_csv('Resources/participant-information.csv')\n",
    "df.head()"
   ]
  },
  {
   "cell_type": "markdown",
   "metadata": {},
   "source": [
    "# Transforming the data to relevant turnout table"
   ]
  },
  {
   "cell_type": "code",
   "execution_count": 35,
   "metadata": {},
   "outputs": [
    {
     "data": {
      "text/plain": [
       "electoral_division    object\n",
       "state                 object\n",
       "gender                object\n",
       "age                   object\n",
       "age_lower              int64\n",
       "age_upper              int64\n",
       "eligible              object\n",
       "participant           object\n",
       "dtype: object"
      ]
     },
     "execution_count": 35,
     "metadata": {},
     "output_type": "execute_result"
    }
   ],
   "source": [
    "df.dtypes"
   ]
  },
  {
   "cell_type": "code",
   "execution_count": 36,
   "metadata": {},
   "outputs": [],
   "source": [
    "# converting participant column to string then float \n",
    "df[\"participant\"] = df[\"participant\"].astype('str')\n",
    "df[\"participant\"] = df[\"participant\"].str.replace(\",\",\"\").astype(int)"
   ]
  },
  {
   "cell_type": "code",
   "execution_count": 37,
   "metadata": {},
   "outputs": [],
   "source": [
    "# converting eligible column to string then float \n",
    "df[\"eligible\"] = df[\"eligible\"].astype('str')\n",
    "df[\"eligible\"] = df[\"eligible\"].str.replace(\",\",\"\").astype(int)"
   ]
  },
  {
   "cell_type": "code",
   "execution_count": 38,
   "metadata": {},
   "outputs": [
    {
     "data": {
      "text/plain": [
       "electoral_division    object\n",
       "state                 object\n",
       "gender                object\n",
       "age                   object\n",
       "age_lower              int64\n",
       "age_upper              int64\n",
       "eligible               int64\n",
       "participant            int64\n",
       "dtype: object"
      ]
     },
     "execution_count": 38,
     "metadata": {},
     "output_type": "execute_result"
    }
   ],
   "source": [
    "# to check conversion\n",
    "df.dtypes"
   ]
  },
  {
   "cell_type": "code",
   "execution_count": 39,
   "metadata": {},
   "outputs": [],
   "source": [
    "# groupby on electoral division and sum number of participants\n",
    "participant_grouped = df.groupby(['electoral_division']).sum()['participant']"
   ]
  },
  {
   "cell_type": "code",
   "execution_count": 40,
   "metadata": {},
   "outputs": [],
   "source": [
    "# groupby on electoral division and sum number of eligible\n",
    "eligible_grouped = df.groupby(['electoral_division']).sum()['eligible']"
   ]
  },
  {
   "cell_type": "code",
   "execution_count": 41,
   "metadata": {},
   "outputs": [],
   "source": [
    "# calculating turnout percentage for each electoral division\n",
    "a = eligible_grouped\n",
    "b = participant_grouped\n",
    "turnout = (b/a)*100"
   ]
  },
  {
   "cell_type": "code",
   "execution_count": 42,
   "metadata": {},
   "outputs": [
    {
     "data": {
      "text/html": [
       "<div>\n",
       "<style scoped>\n",
       "    .dataframe tbody tr th:only-of-type {\n",
       "        vertical-align: middle;\n",
       "    }\n",
       "\n",
       "    .dataframe tbody tr th {\n",
       "        vertical-align: top;\n",
       "    }\n",
       "\n",
       "    .dataframe thead th {\n",
       "        text-align: right;\n",
       "    }\n",
       "</style>\n",
       "<table border=\"1\" class=\"dataframe\">\n",
       "  <thead>\n",
       "    <tr style=\"text-align: right;\">\n",
       "      <th></th>\n",
       "      <th>total_eligible</th>\n",
       "      <th>total_participants</th>\n",
       "      <th>turnout(%)</th>\n",
       "    </tr>\n",
       "    <tr>\n",
       "      <th>electoral_division</th>\n",
       "      <th></th>\n",
       "      <th></th>\n",
       "      <th></th>\n",
       "    </tr>\n",
       "  </thead>\n",
       "  <tbody>\n",
       "    <tr>\n",
       "      <th>Adelaide</th>\n",
       "      <td>108708</td>\n",
       "      <td>88422</td>\n",
       "      <td>81.339000</td>\n",
       "    </tr>\n",
       "    <tr>\n",
       "      <th>Aston</th>\n",
       "      <td>95253</td>\n",
       "      <td>77706</td>\n",
       "      <td>81.578533</td>\n",
       "    </tr>\n",
       "    <tr>\n",
       "      <th>Ballarat</th>\n",
       "      <td>113368</td>\n",
       "      <td>92583</td>\n",
       "      <td>81.665902</td>\n",
       "    </tr>\n",
       "    <tr>\n",
       "      <th>Banks</th>\n",
       "      <td>104682</td>\n",
       "      <td>83846</td>\n",
       "      <td>80.095910</td>\n",
       "    </tr>\n",
       "    <tr>\n",
       "      <th>Barker</th>\n",
       "      <td>105297</td>\n",
       "      <td>81124</td>\n",
       "      <td>77.043031</td>\n",
       "    </tr>\n",
       "  </tbody>\n",
       "</table>\n",
       "</div>"
      ],
      "text/plain": [
       "                    total_eligible  total_participants  turnout(%)\n",
       "electoral_division                                                \n",
       "Adelaide                    108708               88422   81.339000\n",
       "Aston                        95253               77706   81.578533\n",
       "Ballarat                    113368               92583   81.665902\n",
       "Banks                       104682               83846   80.095910\n",
       "Barker                      105297               81124   77.043031"
      ]
     },
     "execution_count": 42,
     "metadata": {},
     "output_type": "execute_result"
    }
   ],
   "source": [
    "# creating new database\n",
    "grouped_df = pd.DataFrame({'total_eligible': eligible_grouped, \n",
    "                           'total_participants': participant_grouped, \n",
    "                           'turnout(%)': turnout})\n",
    "grouped_df.head()"
   ]
  },
  {
   "cell_type": "code",
   "execution_count": 43,
   "metadata": {},
   "outputs": [
    {
     "data": {
      "text/plain": [
       "total_eligible          int64\n",
       "total_participants      int64\n",
       "turnout(%)            float64\n",
       "dtype: object"
      ]
     },
     "execution_count": 43,
     "metadata": {},
     "output_type": "execute_result"
    }
   ],
   "source": [
    "grouped_df.dtypes"
   ]
  },
  {
   "cell_type": "code",
   "execution_count": 45,
   "metadata": {},
   "outputs": [
    {
     "data": {
      "text/html": [
       "<div>\n",
       "<style scoped>\n",
       "    .dataframe tbody tr th:only-of-type {\n",
       "        vertical-align: middle;\n",
       "    }\n",
       "\n",
       "    .dataframe tbody tr th {\n",
       "        vertical-align: top;\n",
       "    }\n",
       "\n",
       "    .dataframe thead th {\n",
       "        text-align: right;\n",
       "    }\n",
       "</style>\n",
       "<table border=\"1\" class=\"dataframe\">\n",
       "  <thead>\n",
       "    <tr style=\"text-align: right;\">\n",
       "      <th></th>\n",
       "      <th>total_eligible</th>\n",
       "      <th>total_participants</th>\n",
       "      <th>turnout(%)</th>\n",
       "    </tr>\n",
       "    <tr>\n",
       "      <th>electoral_division</th>\n",
       "      <th></th>\n",
       "      <th></th>\n",
       "      <th></th>\n",
       "    </tr>\n",
       "  </thead>\n",
       "  <tbody>\n",
       "    <tr>\n",
       "      <th>Adelaide</th>\n",
       "      <td>108708</td>\n",
       "      <td>88422</td>\n",
       "      <td>81.34</td>\n",
       "    </tr>\n",
       "    <tr>\n",
       "      <th>Aston</th>\n",
       "      <td>95253</td>\n",
       "      <td>77706</td>\n",
       "      <td>81.58</td>\n",
       "    </tr>\n",
       "    <tr>\n",
       "      <th>Ballarat</th>\n",
       "      <td>113368</td>\n",
       "      <td>92583</td>\n",
       "      <td>81.67</td>\n",
       "    </tr>\n",
       "    <tr>\n",
       "      <th>Banks</th>\n",
       "      <td>104682</td>\n",
       "      <td>83846</td>\n",
       "      <td>80.10</td>\n",
       "    </tr>\n",
       "    <tr>\n",
       "      <th>Barker</th>\n",
       "      <td>105297</td>\n",
       "      <td>81124</td>\n",
       "      <td>77.04</td>\n",
       "    </tr>\n",
       "  </tbody>\n",
       "</table>\n",
       "</div>"
      ],
      "text/plain": [
       "                    total_eligible  total_participants  turnout(%)\n",
       "electoral_division                                                \n",
       "Adelaide                    108708               88422       81.34\n",
       "Aston                        95253               77706       81.58\n",
       "Ballarat                    113368               92583       81.67\n",
       "Banks                       104682               83846       80.10\n",
       "Barker                      105297               81124       77.04"
      ]
     },
     "execution_count": 45,
     "metadata": {},
     "output_type": "execute_result"
    }
   ],
   "source": [
    "# rounding turnout percentages to 2 decimal places\n",
    "df = grouped_df.round({'turnout(%)': 2})\n",
    "df.head()"
   ]
  },
  {
   "cell_type": "markdown",
   "metadata": {},
   "source": [
    "# Exploratory Analysis"
   ]
  },
  {
   "cell_type": "code",
   "execution_count": 48,
   "metadata": {},
   "outputs": [
    {
     "data": {
      "text/html": [
       "<div>\n",
       "<style scoped>\n",
       "    .dataframe tbody tr th:only-of-type {\n",
       "        vertical-align: middle;\n",
       "    }\n",
       "\n",
       "    .dataframe tbody tr th {\n",
       "        vertical-align: top;\n",
       "    }\n",
       "\n",
       "    .dataframe thead th {\n",
       "        text-align: right;\n",
       "    }\n",
       "</style>\n",
       "<table border=\"1\" class=\"dataframe\">\n",
       "  <thead>\n",
       "    <tr style=\"text-align: right;\">\n",
       "      <th></th>\n",
       "      <th>total_eligible</th>\n",
       "      <th>total_participants</th>\n",
       "      <th>turnout(%)</th>\n",
       "    </tr>\n",
       "  </thead>\n",
       "  <tbody>\n",
       "    <tr>\n",
       "      <th>count</th>\n",
       "      <td>150.000000</td>\n",
       "      <td>150.000000</td>\n",
       "      <td>150.000000</td>\n",
       "    </tr>\n",
       "    <tr>\n",
       "      <th>mean</th>\n",
       "      <td>105874.180000</td>\n",
       "      <td>84161.846667</td>\n",
       "      <td>79.379000</td>\n",
       "    </tr>\n",
       "    <tr>\n",
       "      <th>std</th>\n",
       "      <td>10729.867369</td>\n",
       "      <td>10222.195252</td>\n",
       "      <td>4.344238</td>\n",
       "    </tr>\n",
       "    <tr>\n",
       "      <th>min</th>\n",
       "      <td>67771.000000</td>\n",
       "      <td>34820.000000</td>\n",
       "      <td>50.110000</td>\n",
       "    </tr>\n",
       "    <tr>\n",
       "      <th>25%</th>\n",
       "      <td>101803.500000</td>\n",
       "      <td>79562.000000</td>\n",
       "      <td>77.232500</td>\n",
       "    </tr>\n",
       "    <tr>\n",
       "      <th>50%</th>\n",
       "      <td>105614.500000</td>\n",
       "      <td>85179.000000</td>\n",
       "      <td>79.960000</td>\n",
       "    </tr>\n",
       "    <tr>\n",
       "      <th>75%</th>\n",
       "      <td>111033.500000</td>\n",
       "      <td>89708.000000</td>\n",
       "      <td>82.162500</td>\n",
       "    </tr>\n",
       "    <tr>\n",
       "      <th>max</th>\n",
       "      <td>143881.000000</td>\n",
       "      <td>119740.000000</td>\n",
       "      <td>86.030000</td>\n",
       "    </tr>\n",
       "  </tbody>\n",
       "</table>\n",
       "</div>"
      ],
      "text/plain": [
       "       total_eligible  total_participants  turnout(%)\n",
       "count      150.000000          150.000000  150.000000\n",
       "mean    105874.180000        84161.846667   79.379000\n",
       "std      10729.867369        10222.195252    4.344238\n",
       "min      67771.000000        34820.000000   50.110000\n",
       "25%     101803.500000        79562.000000   77.232500\n",
       "50%     105614.500000        85179.000000   79.960000\n",
       "75%     111033.500000        89708.000000   82.162500\n",
       "max     143881.000000       119740.000000   86.030000"
      ]
     },
     "execution_count": 48,
     "metadata": {},
     "output_type": "execute_result"
    }
   ],
   "source": [
    "# summary statistics table\n",
    "df.describe()"
   ]
  },
  {
   "cell_type": "code",
   "execution_count": 49,
   "metadata": {},
   "outputs": [
    {
     "data": {
      "text/plain": [
       "<matplotlib.axes._subplots.AxesSubplot at 0x7f8330031a00>"
      ]
     },
     "execution_count": 49,
     "metadata": {},
     "output_type": "execute_result"
    },
    {
     "data": {
      "image/png": "[encoded data removed]",
      "text/plain": [
       "<Figure size 432x288 with 1 Axes>"
      ]
     },
     "metadata": {
      "needs_background": "light"
     },
     "output_type": "display_data"
    }
   ],
   "source": [
    "# box plot to investigate turnout data\n",
    "df.boxplot(column=['turnout(%)'])"
   ]
  },
  {
   "cell_type": "markdown",
   "metadata": {},
   "source": [
    "# Exporting DataFrame to CSV "
   ]
  },
  {
   "cell_type": "code",
   "execution_count": 46,
   "metadata": {},
   "outputs": [],
   "source": [
    "df.to_csv(\"06-output_marriage_postal_turnout/marriage_postal_turnout.csv\")"
   ]
  }
 ],
 "metadata": {
  "kernelspec": {
   "display_name": "Python 3",
   "language": "python",
   "name": "python3"
  },
  "language_info": {
   "codemirror_mode": {
    "name": "ipython",
    "version": 3
   },
   "file_extension": ".py",
   "mimetype": "text/x-python",
   "name": "python",
   "nbconvert_exporter": "python",
   "pygments_lexer": "ipython3",
   "version": "3.8.3"
  }
 },
 "nbformat": 4,
 "nbformat_minor": 2
}
